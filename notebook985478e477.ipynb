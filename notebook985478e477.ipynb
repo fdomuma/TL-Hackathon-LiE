{
 "cells": [
  {
   "cell_type": "code",
   "execution_count": 1,
   "metadata": {
    "_cell_guid": "b1076dfc-b9ad-4769-8c92-a6c4dae69d19",
    "_uuid": "8f2839f25d086af736a60e9eeb907d3b93b6e0e5",
    "execution": {
     "iopub.execute_input": "2021-07-31T10:17:05.453805Z",
     "iopub.status.busy": "2021-07-31T10:17:05.453226Z",
     "iopub.status.idle": "2021-07-31T10:17:05.474908Z",
     "shell.execute_reply": "2021-07-31T10:17:05.473731Z",
     "shell.execute_reply.started": "2021-07-31T10:17:05.453696Z"
    }
   },
   "outputs": [
    {
     "name": "stdout",
     "output_type": "stream",
     "text": [
      "/kaggle/input/food-demand-forecasting/meal_info.csv\n",
      "/kaggle/input/food-demand-forecasting/fulfilment_center_info.csv\n",
      "/kaggle/input/food-demand-forecasting/train.csv\n",
      "/kaggle/input/food-demand-forecasting/test.csv\n"
     ]
    }
   ],
   "source": [
    "# This Python 3 environment comes with many helpful analytics libraries installed\n",
    "# It is defined by the kaggle/python Docker image: https://github.com/kaggle/docker-python\n",
    "# For example, here's several helpful packages to load\n",
    "\n",
    "import numpy as np # linear algebra\n",
    "import pandas as pd # data processing, CSV file I/O (e.g. pd.read_csv)\n",
    "\n",
    "# Input data files are available in the read-only \"../input/\" directory\n",
    "# For example, running this (by clicking run or pressing Shift+Enter) will list all files under the input directory\n",
    "\n",
    "import os\n",
    "for dirname, _, filenames in os.walk('/kaggle/input'):\n",
    "    for filename in filenames:\n",
    "        print(os.path.join(dirname, filename))\n",
    "\n",
    "# You can write up to 20GB to the current directory (/kaggle/working/) that gets preserved as output when you create a version using \"Save & Run All\" \n",
    "# You can also write temporary files to /kaggle/temp/, but they won't be saved outside of the current session"
   ]
  },
  {
   "cell_type": "code",
   "execution_count": 2,
   "metadata": {
    "execution": {
     "iopub.execute_input": "2021-07-31T10:17:35.624408Z",
     "iopub.status.busy": "2021-07-31T10:17:35.624055Z",
     "iopub.status.idle": "2021-07-31T10:17:36.745789Z",
     "shell.execute_reply": "2021-07-31T10:17:36.744729Z",
     "shell.execute_reply.started": "2021-07-31T10:17:35.624379Z"
    }
   },
   "outputs": [],
   "source": [
    "import pandas as pd\n",
    "import numpy as np\n",
    "from sklearn.model_selection import train_test_split\n",
    "from sklearn import metrics\n",
    "from sklearn.pipeline import make_pipeline\n",
    "from sklearn.preprocessing import StandardScaler\n",
    "from sklearn.ensemble import RandomForestRegressor\n",
    "from sklearn.preprocessing import OneHotEncoder"
   ]
  },
  {
   "cell_type": "code",
   "execution_count": 4,
   "metadata": {
    "execution": {
     "iopub.execute_input": "2021-07-31T10:18:13.994819Z",
     "iopub.status.busy": "2021-07-31T10:18:13.994410Z",
     "iopub.status.idle": "2021-07-31T10:18:14.883733Z",
     "shell.execute_reply": "2021-07-31T10:18:14.882313Z",
     "shell.execute_reply.started": "2021-07-31T10:18:13.994783Z"
    }
   },
   "outputs": [
    {
     "name": "stdout",
     "output_type": "stream",
     "text": [
      "Loading data...\n",
      "        id  week  center_id  meal_id  checkout_price  base_price  \\\n",
      "0  1379560     1         55     1885          136.83      152.29   \n",
      "1  1466964     1         55     1993          136.83      135.83   \n",
      "2  1346989     1         55     2539          134.86      135.86   \n",
      "3  1338232     1         55     2139          339.50      437.53   \n",
      "4  1448490     1         55     2631          243.50      242.50   \n",
      "\n",
      "   emailer_for_promotion  homepage_featured  num_orders  city_code  \\\n",
      "0                      0                  0         177        647   \n",
      "1                      0                  0         270        647   \n",
      "2                      0                  0         189        647   \n",
      "3                      0                  0          54        647   \n",
      "4                      0                  0          40        647   \n",
      "\n",
      "   region_code center_type  op_area   category cuisine  \n",
      "0           56      TYPE_C      2.0  Beverages    Thai  \n",
      "1           56      TYPE_C      2.0  Beverages    Thai  \n",
      "2           56      TYPE_C      2.0  Beverages    Thai  \n",
      "3           56      TYPE_C      2.0  Beverages  Indian  \n",
      "4           56      TYPE_C      2.0  Beverages  Indian  \n"
     ]
    }
   ],
   "source": [
    "# Loading data\n",
    "print(\"Loading data...\")\n",
    "df= pd.read_csv(\"/kaggle/input/food-demand-forecasting/train.csv\")\n",
    "meal_df = pd.read_csv(\"/kaggle/input/food-demand-forecasting/meal_info.csv\")\n",
    "center_df = pd.read_csv(\"/kaggle/input/food-demand-forecasting/fulfilment_center_info.csv\")\n",
    "data= df.merge(center_df,left_on = 'center_id', right_on = 'center_id',how=\"left\")\n",
    "data= data.merge(meal_df,left_on = 'meal_id', right_on = 'meal_id',how=\"left\")\n",
    "print(data.head())"
   ]
  },
  {
   "cell_type": "code",
   "execution_count": 5,
   "metadata": {
    "execution": {
     "iopub.execute_input": "2021-07-31T10:18:18.314352Z",
     "iopub.status.busy": "2021-07-31T10:18:18.313988Z",
     "iopub.status.idle": "2021-07-31T10:18:24.390385Z",
     "shell.execute_reply": "2021-07-31T10:18:24.389435Z",
     "shell.execute_reply.started": "2021-07-31T10:18:18.314318Z"
    }
   },
   "outputs": [
    {
     "name": "stdout",
     "output_type": "stream",
     "text": [
      "Hot encoding...\n"
     ]
    }
   ],
   "source": [
    "# Hot encoding\n",
    "print(\"Hot encoding...\")\n",
    "def one_hot_encode(features_to_encode, dataset):\n",
    "    encoder = OneHotEncoder(sparse=False)\n",
    "    encoder.fit(dataset[features_to_encode])\n",
    "\n",
    "    encoded_cols = pd.DataFrame(encoder.transform(dataset[features_to_encode]),columns=encoder.get_feature_names())\n",
    "    dataset = dataset.drop(columns=features_to_encode)\n",
    "    for cols in encoded_cols.columns:\n",
    "        dataset[cols] = encoded_cols[cols]\n",
    "    return dataset\n",
    "\n",
    "data = data.drop([\"id\"],axis=1)\n",
    "features_to_encode = ['meal_id','city_code',\"center_id\",'center_type', 'category', 'cuisine']\n",
    "data = one_hot_encode(features_to_encode, data)\n",
    "y = data[\"num_orders\"]\n",
    "X= data.drop([\"num_orders\"],axis = 1)"
   ]
  },
  {
   "cell_type": "code",
   "execution_count": 6,
   "metadata": {
    "execution": {
     "iopub.execute_input": "2021-07-31T10:18:29.273154Z",
     "iopub.status.busy": "2021-07-31T10:18:29.272796Z",
     "iopub.status.idle": "2021-07-31T10:18:30.266399Z",
     "shell.execute_reply": "2021-07-31T10:18:30.265337Z",
     "shell.execute_reply.started": "2021-07-31T10:18:29.273116Z"
    }
   },
   "outputs": [
    {
     "name": "stdout",
     "output_type": "stream",
     "text": [
      "Splitting data...\n"
     ]
    }
   ],
   "source": [
    "# Train, test partition\n",
    "print(\"Splitting data...\")\n",
    "X_train, X_test, y_train, y_test = train_test_split(X, y, test_size=0.33, random_state=42)"
   ]
  },
  {
   "cell_type": "code",
   "execution_count": 7,
   "metadata": {
    "execution": {
     "iopub.execute_input": "2021-07-31T10:18:32.515212Z",
     "iopub.status.busy": "2021-07-31T10:18:32.514859Z",
     "iopub.status.idle": "2021-07-31T10:29:53.526056Z",
     "shell.execute_reply": "2021-07-31T10:29:53.525201Z",
     "shell.execute_reply.started": "2021-07-31T10:18:32.515183Z"
    }
   },
   "outputs": [
    {
     "name": "stdout",
     "output_type": "stream",
     "text": [
      "Scaling data and creating model...\n"
     ]
    },
    {
     "data": {
      "text/plain": [
       "Pipeline(steps=[('standardscaler', StandardScaler()),\n",
       "                ('randomforestregressor', RandomForestRegressor())])"
      ]
     },
     "execution_count": 7,
     "metadata": {},
     "output_type": "execute_result"
    }
   ],
   "source": [
    "# Pipeline and fitting\n",
    "print(\"Scaling data and creating model...\")\n",
    "RF_pipe = make_pipeline(StandardScaler(), RandomForestRegressor())\n",
    "RF_pipe.fit(X_train, y_train)"
   ]
  },
  {
   "cell_type": "code",
   "execution_count": 9,
   "metadata": {
    "execution": {
     "iopub.execute_input": "2021-07-31T10:30:34.903550Z",
     "iopub.status.busy": "2021-07-31T10:30:34.903186Z",
     "iopub.status.idle": "2021-07-31T10:30:57.158173Z",
     "shell.execute_reply": "2021-07-31T10:30:57.157221Z",
     "shell.execute_reply.started": "2021-07-31T10:30:34.903520Z"
    }
   },
   "outputs": [
    {
     "name": "stdout",
     "output_type": "stream",
     "text": [
      "Predicting result...\n",
      "0.8569254459372727\n",
      "RMSLE: 48.813250440122104\n"
     ]
    }
   ],
   "source": [
    "# Predictions\n",
    "print(\"Predicting result...\")\n",
    "RF_train_y_pred = RF_pipe.predict(X_test)\n",
    "print(RF_pipe.score(X_test, y_test))\n",
    "print('RMSLE:', 100*np.sqrt(metrics.mean_squared_log_error(y_test, RF_train_y_pred)))"
   ]
  },
  {
   "cell_type": "code",
   "execution_count": 13,
   "metadata": {
    "execution": {
     "iopub.execute_input": "2021-07-31T10:32:44.588806Z",
     "iopub.status.busy": "2021-07-31T10:32:44.588371Z",
     "iopub.status.idle": "2021-07-31T10:32:49.102917Z",
     "shell.execute_reply": "2021-07-31T10:32:49.101498Z",
     "shell.execute_reply.started": "2021-07-31T10:32:44.588769Z"
    }
   },
   "outputs": [],
   "source": [
    "import pickle\n",
    "os.chdir(\"/kaggle/working/\")\n",
    "pickle.dump(RF_pipe, open(\"model.h5\", 'wb'))\n",
    "os.chdir(\"/kaggle/input/\")"
   ]
  },
  {
   "cell_type": "code",
   "execution_count": null,
   "metadata": {},
   "outputs": [],
   "source": [
    "# Second model\n",
    "print(\"Creating a second model...\")\n",
    "RF_pipe = make_pipeline(StandardScaler(), RandomForestRegressor(n_estimators = 200))\n",
    "RF_pipe.fit(X_train, y_train)\n",
    "RF_train_y_pred = RF_pipe.predict(X_test)\n",
    "print(RF_pipe.score(X_test, y_test))\n",
    "print('RMSLE:', 100*np.sqrt(metrics.mean_squared_log_error(y_test, RF_train_y_pred)))"
   ]
  }
 ],
 "metadata": {
  "kernelspec": {
   "display_name": "Python 3",
   "language": "python",
   "name": "python3"
  },
  "language_info": {
   "codemirror_mode": {
    "name": "ipython",
    "version": 3
   },
   "file_extension": ".py",
   "mimetype": "text/x-python",
   "name": "python",
   "nbconvert_exporter": "python",
   "pygments_lexer": "ipython3",
   "version": "3.8.5"
  }
 },
 "nbformat": 4,
 "nbformat_minor": 4
}
