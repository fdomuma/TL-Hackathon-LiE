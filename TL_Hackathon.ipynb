{
 "cells": [
  {
   "cell_type": "code",
   "execution_count": 1,
   "metadata": {
    "executionInfo": {
     "elapsed": 250,
     "status": "ok",
     "timestamp": 1627801032138,
     "user": {
      "displayName": "Adithya Krishna",
      "photoUrl": "",
      "userId": "14433587602683209861"
     },
     "user_tz": -120
    },
    "id": "RVCg7XAYyRxa"
   },
   "outputs": [],
   "source": [
    "import pandas as pd \n",
    "import numpy as np\n",
    "import matplotlib.pyplot as plt\n",
    "import seaborn as sns\n",
    "\n",
    "from sklearn.preprocessing import LabelEncoder\n",
    "from sklearn.model_selection import train_test_split\n",
    "from sklearn.preprocessing import StandardScaler\n",
    "from sklearn.metrics import classification_report\n",
    "from sklearn.tree import DecisionTreeRegressor\n",
    "from sklearn.ensemble import RandomForestRegressor\n",
    "from sklearn.metrics import mean_squared_log_error\n",
    "from sklearn import tree\n",
    "from sklearn.model_selection import GridSearchCV\n",
    "from sklearn.model_selection import RandomizedSearchCV, GridSearchCV\n",
    "from xgboost import XGBRegressor\n",
    "import lightgbm as lgb"
   ]
  },
  {
   "cell_type": "code",
   "execution_count": 3,
   "metadata": {
    "executionInfo": {
     "elapsed": 9,
     "status": "ok",
     "timestamp": 1627784401594,
     "user": {
      "displayName": "Adithya Krishna",
      "photoUrl": "",
      "userId": "14433587602683209861"
     },
     "user_tz": -120
    },
    "id": "swymRryxyekN"
   },
   "outputs": [],
   "source": [
    "pd.options.display.max_columns = None   # display all columns\n",
    "pd.options.display.max_rows = None  # display all rows\n",
    "pd.options.display.float_format = '{:.6f}'.format   # display float values upto 6 decimal places"
   ]
  },
  {
   "cell_type": "code",
   "execution_count": 11,
   "metadata": {
    "executionInfo": {
     "elapsed": 329,
     "status": "ok",
     "timestamp": 1627801034533,
     "user": {
      "displayName": "Adithya Krishna",
      "photoUrl": "",
      "userId": "14433587602683209861"
     },
     "user_tz": -120
    },
    "id": "QLtxFM4BzH-x"
   },
   "outputs": [],
   "source": [
    "train = pd.read_csv(\"train.csv\")\n",
    "test = pd.read_csv(\"test.csv\")\n",
    "meal_info = pd.read_csv(\"meal_info.csv\")\n",
    "fc_info = pd.read_csv(\"fulfilment_center_info.csv\")"
   ]
  },
  {
   "cell_type": "markdown",
   "metadata": {
    "id": "6zj3g04sXAMI"
   },
   "source": [
    "## Examine dataset"
   ]
  },
  {
   "cell_type": "code",
   "execution_count": 39,
   "metadata": {
    "colab": {
     "base_uri": "https://localhost:8080/"
    },
    "executionInfo": {
     "elapsed": 17,
     "status": "ok",
     "timestamp": 1627731875968,
     "user": {
      "displayName": "Adithya Krishna",
      "photoUrl": "",
      "userId": "14433587602683209861"
     },
     "user_tz": -120
    },
    "id": "Bx3tNJggz3I3",
    "outputId": "937aefda-fec9-4c2b-b0fe-54224d9583b6"
   },
   "outputs": [
    {
     "name": "stdout",
     "output_type": "stream",
     "text": [
      "<class 'pandas.core.frame.DataFrame'>\n",
      "RangeIndex: 456548 entries, 0 to 456547\n",
      "Data columns (total 9 columns):\n",
      " #   Column                 Non-Null Count   Dtype  \n",
      "---  ------                 --------------   -----  \n",
      " 0   id                     456548 non-null  int64  \n",
      " 1   week                   456548 non-null  int64  \n",
      " 2   center_id              456548 non-null  int64  \n",
      " 3   meal_id                456548 non-null  int64  \n",
      " 4   checkout_price         456548 non-null  float64\n",
      " 5   base_price             456548 non-null  float64\n",
      " 6   emailer_for_promotion  456548 non-null  int64  \n",
      " 7   homepage_featured      456548 non-null  int64  \n",
      " 8   num_orders             456548 non-null  int64  \n",
      "dtypes: float64(2), int64(7)\n",
      "memory usage: 31.3 MB\n",
      "<class 'pandas.core.frame.DataFrame'>\n",
      "RangeIndex: 32573 entries, 0 to 32572\n",
      "Data columns (total 8 columns):\n",
      " #   Column                 Non-Null Count  Dtype  \n",
      "---  ------                 --------------  -----  \n",
      " 0   id                     32573 non-null  int64  \n",
      " 1   week                   32573 non-null  int64  \n",
      " 2   center_id              32573 non-null  int64  \n",
      " 3   meal_id                32573 non-null  int64  \n",
      " 4   checkout_price         32573 non-null  float64\n",
      " 5   base_price             32573 non-null  float64\n",
      " 6   emailer_for_promotion  32573 non-null  int64  \n",
      " 7   homepage_featured      32573 non-null  int64  \n",
      "dtypes: float64(2), int64(6)\n",
      "memory usage: 2.0 MB\n"
     ]
    },
    {
     "data": {
      "text/plain": [
       "(None, None)"
      ]
     },
     "execution_count": 39,
     "metadata": {
      "tags": []
     },
     "output_type": "execute_result"
    }
   ],
   "source": [
    "train.info(), test.info()"
   ]
  },
  {
   "cell_type": "code",
   "execution_count": 40,
   "metadata": {
    "colab": {
     "base_uri": "https://localhost:8080/"
    },
    "executionInfo": {
     "elapsed": 7,
     "status": "ok",
     "timestamp": 1627731876602,
     "user": {
      "displayName": "Adithya Krishna",
      "photoUrl": "",
      "userId": "14433587602683209861"
     },
     "user_tz": -120
    },
    "id": "wAlkRqru0HWh",
    "outputId": "c54fbccd-a4c7-4f7c-e586-fbc69a559d12"
   },
   "outputs": [
    {
     "name": "stdout",
     "output_type": "stream",
     "text": [
      "<class 'pandas.core.frame.DataFrame'>\n",
      "RangeIndex: 51 entries, 0 to 50\n",
      "Data columns (total 3 columns):\n",
      " #   Column    Non-Null Count  Dtype \n",
      "---  ------    --------------  ----- \n",
      " 0   meal_id   51 non-null     int64 \n",
      " 1   category  51 non-null     object\n",
      " 2   cuisine   51 non-null     object\n",
      "dtypes: int64(1), object(2)\n",
      "memory usage: 1.3+ KB\n",
      "<class 'pandas.core.frame.DataFrame'>\n",
      "RangeIndex: 77 entries, 0 to 76\n",
      "Data columns (total 5 columns):\n",
      " #   Column       Non-Null Count  Dtype  \n",
      "---  ------       --------------  -----  \n",
      " 0   center_id    77 non-null     int64  \n",
      " 1   city_code    77 non-null     int64  \n",
      " 2   region_code  77 non-null     int64  \n",
      " 3   center_type  77 non-null     object \n",
      " 4   op_area      77 non-null     float64\n",
      "dtypes: float64(1), int64(3), object(1)\n",
      "memory usage: 3.1+ KB\n"
     ]
    },
    {
     "data": {
      "text/plain": [
       "(None, None)"
      ]
     },
     "execution_count": 40,
     "metadata": {
      "tags": []
     },
     "output_type": "execute_result"
    }
   ],
   "source": [
    "meal_info.info(), fc_info.info()"
   ]
  },
  {
   "cell_type": "code",
   "execution_count": 41,
   "metadata": {
    "colab": {
     "base_uri": "https://localhost:8080/"
    },
    "executionInfo": {
     "elapsed": 3,
     "status": "ok",
     "timestamp": 1627731877383,
     "user": {
      "displayName": "Adithya Krishna",
      "photoUrl": "",
      "userId": "14433587602683209861"
     },
     "user_tz": -120
    },
    "id": "YHpvTyCR0Vrf",
    "outputId": "27bbabb8-1188-4da1-95fb-c167c6c81746"
   },
   "outputs": [
    {
     "data": {
      "text/plain": [
       "(id                       0\n",
       " week                     0\n",
       " center_id                0\n",
       " meal_id                  0\n",
       " checkout_price           0\n",
       " base_price               0\n",
       " emailer_for_promotion    0\n",
       " homepage_featured        0\n",
       " num_orders               0\n",
       " dtype: int64, id                       0\n",
       " week                     0\n",
       " center_id                0\n",
       " meal_id                  0\n",
       " checkout_price           0\n",
       " base_price               0\n",
       " emailer_for_promotion    0\n",
       " homepage_featured        0\n",
       " dtype: int64)"
      ]
     },
     "execution_count": 41,
     "metadata": {
      "tags": []
     },
     "output_type": "execute_result"
    }
   ],
   "source": [
    "train.isnull().sum(), test.isnull().sum()"
   ]
  },
  {
   "cell_type": "code",
   "execution_count": 42,
   "metadata": {
    "colab": {
     "base_uri": "https://localhost:8080/"
    },
    "executionInfo": {
     "elapsed": 2,
     "status": "ok",
     "timestamp": 1627731877723,
     "user": {
      "displayName": "Adithya Krishna",
      "photoUrl": "",
      "userId": "14433587602683209861"
     },
     "user_tz": -120
    },
    "id": "0AABaBAQ0yPy",
    "outputId": "7113cde4-2e3a-4614-ea0e-9517363d70c6"
   },
   "outputs": [
    {
     "data": {
      "text/plain": [
       "(meal_id     0\n",
       " category    0\n",
       " cuisine     0\n",
       " dtype: int64, center_id      0\n",
       " city_code      0\n",
       " region_code    0\n",
       " center_type    0\n",
       " op_area        0\n",
       " dtype: int64)"
      ]
     },
     "execution_count": 42,
     "metadata": {
      "tags": []
     },
     "output_type": "execute_result"
    }
   ],
   "source": [
    "meal_info.isnull().sum(), fc_info.isnull().sum()"
   ]
  },
  {
   "cell_type": "code",
   "execution_count": 43,
   "metadata": {
    "colab": {
     "base_uri": "https://localhost:8080/",
     "height": 320
    },
    "executionInfo": {
     "elapsed": 343,
     "status": "ok",
     "timestamp": 1627731878902,
     "user": {
      "displayName": "Adithya Krishna",
      "photoUrl": "",
      "userId": "14433587602683209861"
     },
     "user_tz": -120
    },
    "id": "hB7QF6lx0kBN",
    "outputId": "ed177c0c-b151-4589-8d75-2333cec3380a"
   },
   "outputs": [
    {
     "data": {
      "text/html": [
       "<div>\n",
       "<style scoped>\n",
       "    .dataframe tbody tr th:only-of-type {\n",
       "        vertical-align: middle;\n",
       "    }\n",
       "\n",
       "    .dataframe tbody tr th {\n",
       "        vertical-align: top;\n",
       "    }\n",
       "\n",
       "    .dataframe thead th {\n",
       "        text-align: right;\n",
       "    }\n",
       "</style>\n",
       "<table border=\"1\" class=\"dataframe\">\n",
       "  <thead>\n",
       "    <tr style=\"text-align: right;\">\n",
       "      <th></th>\n",
       "      <th>id</th>\n",
       "      <th>week</th>\n",
       "      <th>center_id</th>\n",
       "      <th>meal_id</th>\n",
       "      <th>checkout_price</th>\n",
       "      <th>base_price</th>\n",
       "      <th>emailer_for_promotion</th>\n",
       "      <th>homepage_featured</th>\n",
       "      <th>num_orders</th>\n",
       "    </tr>\n",
       "  </thead>\n",
       "  <tbody>\n",
       "    <tr>\n",
       "      <th>count</th>\n",
       "      <td>456548.000000</td>\n",
       "      <td>456548.000000</td>\n",
       "      <td>456548.000000</td>\n",
       "      <td>456548.000000</td>\n",
       "      <td>456548.000000</td>\n",
       "      <td>456548.000000</td>\n",
       "      <td>456548.000000</td>\n",
       "      <td>456548.000000</td>\n",
       "      <td>456548.000000</td>\n",
       "    </tr>\n",
       "    <tr>\n",
       "      <th>mean</th>\n",
       "      <td>1250096.305633</td>\n",
       "      <td>74.768771</td>\n",
       "      <td>82.105796</td>\n",
       "      <td>2024.337458</td>\n",
       "      <td>332.238933</td>\n",
       "      <td>354.156627</td>\n",
       "      <td>0.081152</td>\n",
       "      <td>0.109200</td>\n",
       "      <td>261.872760</td>\n",
       "    </tr>\n",
       "    <tr>\n",
       "      <th>std</th>\n",
       "      <td>144354.822378</td>\n",
       "      <td>41.524956</td>\n",
       "      <td>45.975046</td>\n",
       "      <td>547.420920</td>\n",
       "      <td>152.939723</td>\n",
       "      <td>160.715914</td>\n",
       "      <td>0.273069</td>\n",
       "      <td>0.311890</td>\n",
       "      <td>395.922798</td>\n",
       "    </tr>\n",
       "    <tr>\n",
       "      <th>min</th>\n",
       "      <td>1000000.000000</td>\n",
       "      <td>1.000000</td>\n",
       "      <td>10.000000</td>\n",
       "      <td>1062.000000</td>\n",
       "      <td>2.970000</td>\n",
       "      <td>55.350000</td>\n",
       "      <td>0.000000</td>\n",
       "      <td>0.000000</td>\n",
       "      <td>13.000000</td>\n",
       "    </tr>\n",
       "    <tr>\n",
       "      <th>25%</th>\n",
       "      <td>1124998.750000</td>\n",
       "      <td>39.000000</td>\n",
       "      <td>43.000000</td>\n",
       "      <td>1558.000000</td>\n",
       "      <td>228.950000</td>\n",
       "      <td>243.500000</td>\n",
       "      <td>0.000000</td>\n",
       "      <td>0.000000</td>\n",
       "      <td>54.000000</td>\n",
       "    </tr>\n",
       "    <tr>\n",
       "      <th>50%</th>\n",
       "      <td>1250183.500000</td>\n",
       "      <td>76.000000</td>\n",
       "      <td>76.000000</td>\n",
       "      <td>1993.000000</td>\n",
       "      <td>296.820000</td>\n",
       "      <td>310.460000</td>\n",
       "      <td>0.000000</td>\n",
       "      <td>0.000000</td>\n",
       "      <td>136.000000</td>\n",
       "    </tr>\n",
       "    <tr>\n",
       "      <th>75%</th>\n",
       "      <td>1375140.250000</td>\n",
       "      <td>111.000000</td>\n",
       "      <td>110.000000</td>\n",
       "      <td>2539.000000</td>\n",
       "      <td>445.230000</td>\n",
       "      <td>458.870000</td>\n",
       "      <td>0.000000</td>\n",
       "      <td>0.000000</td>\n",
       "      <td>324.000000</td>\n",
       "    </tr>\n",
       "    <tr>\n",
       "      <th>max</th>\n",
       "      <td>1499999.000000</td>\n",
       "      <td>145.000000</td>\n",
       "      <td>186.000000</td>\n",
       "      <td>2956.000000</td>\n",
       "      <td>866.270000</td>\n",
       "      <td>866.270000</td>\n",
       "      <td>1.000000</td>\n",
       "      <td>1.000000</td>\n",
       "      <td>24299.000000</td>\n",
       "    </tr>\n",
       "  </tbody>\n",
       "</table>\n",
       "</div>"
      ],
      "text/plain": [
       "                  id          week     center_id       meal_id  \\\n",
       "count  456548.000000 456548.000000 456548.000000 456548.000000   \n",
       "mean  1250096.305633     74.768771     82.105796   2024.337458   \n",
       "std    144354.822378     41.524956     45.975046    547.420920   \n",
       "min   1000000.000000      1.000000     10.000000   1062.000000   \n",
       "25%   1124998.750000     39.000000     43.000000   1558.000000   \n",
       "50%   1250183.500000     76.000000     76.000000   1993.000000   \n",
       "75%   1375140.250000    111.000000    110.000000   2539.000000   \n",
       "max   1499999.000000    145.000000    186.000000   2956.000000   \n",
       "\n",
       "       checkout_price    base_price  emailer_for_promotion  homepage_featured  \\\n",
       "count   456548.000000 456548.000000          456548.000000      456548.000000   \n",
       "mean       332.238933    354.156627               0.081152           0.109200   \n",
       "std        152.939723    160.715914               0.273069           0.311890   \n",
       "min          2.970000     55.350000               0.000000           0.000000   \n",
       "25%        228.950000    243.500000               0.000000           0.000000   \n",
       "50%        296.820000    310.460000               0.000000           0.000000   \n",
       "75%        445.230000    458.870000               0.000000           0.000000   \n",
       "max        866.270000    866.270000               1.000000           1.000000   \n",
       "\n",
       "         num_orders  \n",
       "count 456548.000000  \n",
       "mean     261.872760  \n",
       "std      395.922798  \n",
       "min       13.000000  \n",
       "25%       54.000000  \n",
       "50%      136.000000  \n",
       "75%      324.000000  \n",
       "max    24299.000000  "
      ]
     },
     "execution_count": 43,
     "metadata": {
      "tags": []
     },
     "output_type": "execute_result"
    }
   ],
   "source": [
    "train.describe()"
   ]
  },
  {
   "cell_type": "code",
   "execution_count": 49,
   "metadata": {
    "colab": {
     "base_uri": "https://localhost:8080/",
     "height": 206
    },
    "executionInfo": {
     "elapsed": 230,
     "status": "ok",
     "timestamp": 1627732109502,
     "user": {
      "displayName": "Adithya Krishna",
      "photoUrl": "",
      "userId": "14433587602683209861"
     },
     "user_tz": -120
    },
    "id": "DkaSr-th3YR9",
    "outputId": "06cf8de9-e7ab-4ac5-92b7-5bb1470d63ef"
   },
   "outputs": [
    {
     "data": {
      "text/html": [
       "<div>\n",
       "<style scoped>\n",
       "    .dataframe tbody tr th:only-of-type {\n",
       "        vertical-align: middle;\n",
       "    }\n",
       "\n",
       "    .dataframe tbody tr th {\n",
       "        vertical-align: top;\n",
       "    }\n",
       "\n",
       "    .dataframe thead th {\n",
       "        text-align: right;\n",
       "    }\n",
       "</style>\n",
       "<table border=\"1\" class=\"dataframe\">\n",
       "  <thead>\n",
       "    <tr style=\"text-align: right;\">\n",
       "      <th></th>\n",
       "      <th>id</th>\n",
       "      <th>week</th>\n",
       "      <th>center_id</th>\n",
       "      <th>meal_id</th>\n",
       "      <th>checkout_price</th>\n",
       "      <th>base_price</th>\n",
       "      <th>emailer_for_promotion</th>\n",
       "      <th>homepage_featured</th>\n",
       "      <th>num_orders</th>\n",
       "    </tr>\n",
       "  </thead>\n",
       "  <tbody>\n",
       "    <tr>\n",
       "      <th>0</th>\n",
       "      <td>1379560</td>\n",
       "      <td>1</td>\n",
       "      <td>55</td>\n",
       "      <td>1885</td>\n",
       "      <td>136.830000</td>\n",
       "      <td>152.290000</td>\n",
       "      <td>0</td>\n",
       "      <td>0</td>\n",
       "      <td>177</td>\n",
       "    </tr>\n",
       "    <tr>\n",
       "      <th>1</th>\n",
       "      <td>1466964</td>\n",
       "      <td>1</td>\n",
       "      <td>55</td>\n",
       "      <td>1993</td>\n",
       "      <td>136.830000</td>\n",
       "      <td>135.830000</td>\n",
       "      <td>0</td>\n",
       "      <td>0</td>\n",
       "      <td>270</td>\n",
       "    </tr>\n",
       "    <tr>\n",
       "      <th>2</th>\n",
       "      <td>1346989</td>\n",
       "      <td>1</td>\n",
       "      <td>55</td>\n",
       "      <td>2539</td>\n",
       "      <td>134.860000</td>\n",
       "      <td>135.860000</td>\n",
       "      <td>0</td>\n",
       "      <td>0</td>\n",
       "      <td>189</td>\n",
       "    </tr>\n",
       "    <tr>\n",
       "      <th>3</th>\n",
       "      <td>1338232</td>\n",
       "      <td>1</td>\n",
       "      <td>55</td>\n",
       "      <td>2139</td>\n",
       "      <td>339.500000</td>\n",
       "      <td>437.530000</td>\n",
       "      <td>0</td>\n",
       "      <td>0</td>\n",
       "      <td>54</td>\n",
       "    </tr>\n",
       "    <tr>\n",
       "      <th>4</th>\n",
       "      <td>1448490</td>\n",
       "      <td>1</td>\n",
       "      <td>55</td>\n",
       "      <td>2631</td>\n",
       "      <td>243.500000</td>\n",
       "      <td>242.500000</td>\n",
       "      <td>0</td>\n",
       "      <td>0</td>\n",
       "      <td>40</td>\n",
       "    </tr>\n",
       "  </tbody>\n",
       "</table>\n",
       "</div>"
      ],
      "text/plain": [
       "        id  week  center_id  meal_id  checkout_price  base_price  \\\n",
       "0  1379560     1         55     1885      136.830000  152.290000   \n",
       "1  1466964     1         55     1993      136.830000  135.830000   \n",
       "2  1346989     1         55     2539      134.860000  135.860000   \n",
       "3  1338232     1         55     2139      339.500000  437.530000   \n",
       "4  1448490     1         55     2631      243.500000  242.500000   \n",
       "\n",
       "   emailer_for_promotion  homepage_featured  num_orders  \n",
       "0                      0                  0         177  \n",
       "1                      0                  0         270  \n",
       "2                      0                  0         189  \n",
       "3                      0                  0          54  \n",
       "4                      0                  0          40  "
      ]
     },
     "execution_count": 49,
     "metadata": {
      "tags": []
     },
     "output_type": "execute_result"
    }
   ],
   "source": [
    "train.head()"
   ]
  },
  {
   "cell_type": "code",
   "execution_count": 57,
   "metadata": {
    "colab": {
     "base_uri": "https://localhost:8080/"
    },
    "executionInfo": {
     "elapsed": 247,
     "status": "ok",
     "timestamp": 1627736102394,
     "user": {
      "displayName": "Adithya Krishna",
      "photoUrl": "",
      "userId": "14433587602683209861"
     },
     "user_tz": -120
    },
    "id": "_gWN1st_YTtG",
    "outputId": "ddc1591e-3b6c-493b-da92-08262657d76d"
   },
   "outputs": [
    {
     "data": {
      "text/plain": [
       "(456548, 9)"
      ]
     },
     "execution_count": 57,
     "metadata": {
      "tags": []
     },
     "output_type": "execute_result"
    }
   ],
   "source": [
    "train.shape"
   ]
  },
  {
   "cell_type": "markdown",
   "metadata": {
    "id": "5Zu_XaWqXJb4"
   },
   "source": [
    "## Data cleaning"
   ]
  },
  {
   "cell_type": "code",
   "execution_count": 12,
   "metadata": {
    "colab": {
     "base_uri": "https://localhost:8080/",
     "height": 226
    },
    "executionInfo": {
     "elapsed": 611,
     "status": "ok",
     "timestamp": 1627801036664,
     "user": {
      "displayName": "Adithya Krishna",
      "photoUrl": "",
      "userId": "14433587602683209861"
     },
     "user_tz": -120
    },
    "id": "OyhztVZ-079d",
    "outputId": "ca6740cd-1e9e-496e-d5cf-d0323e219e40"
   },
   "outputs": [
    {
     "data": {
      "text/html": [
       "<div>\n",
       "<style scoped>\n",
       "    .dataframe tbody tr th:only-of-type {\n",
       "        vertical-align: middle;\n",
       "    }\n",
       "\n",
       "    .dataframe tbody tr th {\n",
       "        vertical-align: top;\n",
       "    }\n",
       "\n",
       "    .dataframe thead th {\n",
       "        text-align: right;\n",
       "    }\n",
       "</style>\n",
       "<table border=\"1\" class=\"dataframe\">\n",
       "  <thead>\n",
       "    <tr style=\"text-align: right;\">\n",
       "      <th></th>\n",
       "      <th>id</th>\n",
       "      <th>week</th>\n",
       "      <th>center_id</th>\n",
       "      <th>meal_id</th>\n",
       "      <th>checkout_price</th>\n",
       "      <th>base_price</th>\n",
       "      <th>emailer_for_promotion</th>\n",
       "      <th>homepage_featured</th>\n",
       "      <th>num_orders</th>\n",
       "      <th>category</th>\n",
       "      <th>cuisine</th>\n",
       "      <th>city_code</th>\n",
       "      <th>region_code</th>\n",
       "      <th>center_type</th>\n",
       "      <th>op_area</th>\n",
       "    </tr>\n",
       "  </thead>\n",
       "  <tbody>\n",
       "    <tr>\n",
       "      <th>0</th>\n",
       "      <td>1379560</td>\n",
       "      <td>1</td>\n",
       "      <td>55</td>\n",
       "      <td>1885</td>\n",
       "      <td>136.83</td>\n",
       "      <td>152.29</td>\n",
       "      <td>0</td>\n",
       "      <td>0</td>\n",
       "      <td>177</td>\n",
       "      <td>Beverages</td>\n",
       "      <td>Thai</td>\n",
       "      <td>647</td>\n",
       "      <td>56</td>\n",
       "      <td>TYPE_C</td>\n",
       "      <td>2.0</td>\n",
       "    </tr>\n",
       "    <tr>\n",
       "      <th>1</th>\n",
       "      <td>1466964</td>\n",
       "      <td>1</td>\n",
       "      <td>55</td>\n",
       "      <td>1993</td>\n",
       "      <td>136.83</td>\n",
       "      <td>135.83</td>\n",
       "      <td>0</td>\n",
       "      <td>0</td>\n",
       "      <td>270</td>\n",
       "      <td>Beverages</td>\n",
       "      <td>Thai</td>\n",
       "      <td>647</td>\n",
       "      <td>56</td>\n",
       "      <td>TYPE_C</td>\n",
       "      <td>2.0</td>\n",
       "    </tr>\n",
       "    <tr>\n",
       "      <th>2</th>\n",
       "      <td>1346989</td>\n",
       "      <td>1</td>\n",
       "      <td>55</td>\n",
       "      <td>2539</td>\n",
       "      <td>134.86</td>\n",
       "      <td>135.86</td>\n",
       "      <td>0</td>\n",
       "      <td>0</td>\n",
       "      <td>189</td>\n",
       "      <td>Beverages</td>\n",
       "      <td>Thai</td>\n",
       "      <td>647</td>\n",
       "      <td>56</td>\n",
       "      <td>TYPE_C</td>\n",
       "      <td>2.0</td>\n",
       "    </tr>\n",
       "    <tr>\n",
       "      <th>3</th>\n",
       "      <td>1338232</td>\n",
       "      <td>1</td>\n",
       "      <td>55</td>\n",
       "      <td>2139</td>\n",
       "      <td>339.50</td>\n",
       "      <td>437.53</td>\n",
       "      <td>0</td>\n",
       "      <td>0</td>\n",
       "      <td>54</td>\n",
       "      <td>Beverages</td>\n",
       "      <td>Indian</td>\n",
       "      <td>647</td>\n",
       "      <td>56</td>\n",
       "      <td>TYPE_C</td>\n",
       "      <td>2.0</td>\n",
       "    </tr>\n",
       "    <tr>\n",
       "      <th>4</th>\n",
       "      <td>1448490</td>\n",
       "      <td>1</td>\n",
       "      <td>55</td>\n",
       "      <td>2631</td>\n",
       "      <td>243.50</td>\n",
       "      <td>242.50</td>\n",
       "      <td>0</td>\n",
       "      <td>0</td>\n",
       "      <td>40</td>\n",
       "      <td>Beverages</td>\n",
       "      <td>Indian</td>\n",
       "      <td>647</td>\n",
       "      <td>56</td>\n",
       "      <td>TYPE_C</td>\n",
       "      <td>2.0</td>\n",
       "    </tr>\n",
       "  </tbody>\n",
       "</table>\n",
       "</div>"
      ],
      "text/plain": [
       "        id  week  center_id  meal_id  checkout_price  base_price  \\\n",
       "0  1379560     1         55     1885          136.83      152.29   \n",
       "1  1466964     1         55     1993          136.83      135.83   \n",
       "2  1346989     1         55     2539          134.86      135.86   \n",
       "3  1338232     1         55     2139          339.50      437.53   \n",
       "4  1448490     1         55     2631          243.50      242.50   \n",
       "\n",
       "   emailer_for_promotion  homepage_featured  num_orders   category cuisine  \\\n",
       "0                      0                  0         177  Beverages    Thai   \n",
       "1                      0                  0         270  Beverages    Thai   \n",
       "2                      0                  0         189  Beverages    Thai   \n",
       "3                      0                  0          54  Beverages  Indian   \n",
       "4                      0                  0          40  Beverages  Indian   \n",
       "\n",
       "   city_code  region_code center_type  op_area  \n",
       "0        647           56      TYPE_C      2.0  \n",
       "1        647           56      TYPE_C      2.0  \n",
       "2        647           56      TYPE_C      2.0  \n",
       "3        647           56      TYPE_C      2.0  \n",
       "4        647           56      TYPE_C      2.0  "
      ]
     },
     "execution_count": 12,
     "metadata": {},
     "output_type": "execute_result"
    }
   ],
   "source": [
    "train_df = pd.merge(train, meal_info, on=\"meal_id\", how=\"left\")\n",
    "train_df = pd.merge(train_df, fc_info, on=\"center_id\", how=\"left\")\n",
    "train_df.head()"
   ]
  },
  {
   "cell_type": "markdown",
   "metadata": {
    "id": "Rx293sn5XWes"
   },
   "source": [
    "**Features**\n",
    "\n",
    "week -> Numerical\n",
    "checkout_price -> Numerical\n",
    "base_price -> Numerical\n",
    "emailer_for_promotion -> Categorical\t\n",
    "homepage_featured -> Categorical\t\n",
    "num_orders -> Numerical\n",
    "category -> Categorical\t\n",
    "cuisine -> Categorical\t\t\n",
    "city_code -> Categorical\t\n",
    "region_code -> Categorical\t\t\n",
    "center_type -> Categorical\t\n",
    "op_area -> Numerical\n",
    "\n",
    "**FE**\n",
    "\n",
    "discount = base_price - checkout_price"
   ]
  },
  {
   "cell_type": "code",
   "execution_count": 12,
   "metadata": {},
   "outputs": [
    {
     "data": {
      "text/html": [
       "<div>\n",
       "<style scoped>\n",
       "    .dataframe tbody tr th:only-of-type {\n",
       "        vertical-align: middle;\n",
       "    }\n",
       "\n",
       "    .dataframe tbody tr th {\n",
       "        vertical-align: top;\n",
       "    }\n",
       "\n",
       "    .dataframe thead th {\n",
       "        text-align: right;\n",
       "    }\n",
       "</style>\n",
       "<table border=\"1\" class=\"dataframe\">\n",
       "  <thead>\n",
       "    <tr style=\"text-align: right;\">\n",
       "      <th></th>\n",
       "      <th>id</th>\n",
       "      <th>week</th>\n",
       "      <th>center_id</th>\n",
       "      <th>meal_id</th>\n",
       "      <th>checkout_price</th>\n",
       "      <th>base_price</th>\n",
       "      <th>emailer_for_promotion</th>\n",
       "      <th>homepage_featured</th>\n",
       "      <th>num_orders</th>\n",
       "    </tr>\n",
       "  </thead>\n",
       "  <tbody>\n",
       "    <tr>\n",
       "      <th>0</th>\n",
       "      <td>1379560</td>\n",
       "      <td>1</td>\n",
       "      <td>55</td>\n",
       "      <td>1885</td>\n",
       "      <td>136.830000</td>\n",
       "      <td>152.290000</td>\n",
       "      <td>0</td>\n",
       "      <td>0</td>\n",
       "      <td>177</td>\n",
       "    </tr>\n",
       "    <tr>\n",
       "      <th>1</th>\n",
       "      <td>1466964</td>\n",
       "      <td>1</td>\n",
       "      <td>55</td>\n",
       "      <td>1993</td>\n",
       "      <td>136.830000</td>\n",
       "      <td>135.830000</td>\n",
       "      <td>0</td>\n",
       "      <td>0</td>\n",
       "      <td>270</td>\n",
       "    </tr>\n",
       "    <tr>\n",
       "      <th>2</th>\n",
       "      <td>1346989</td>\n",
       "      <td>1</td>\n",
       "      <td>55</td>\n",
       "      <td>2539</td>\n",
       "      <td>134.860000</td>\n",
       "      <td>135.860000</td>\n",
       "      <td>0</td>\n",
       "      <td>0</td>\n",
       "      <td>189</td>\n",
       "    </tr>\n",
       "    <tr>\n",
       "      <th>3</th>\n",
       "      <td>1338232</td>\n",
       "      <td>1</td>\n",
       "      <td>55</td>\n",
       "      <td>2139</td>\n",
       "      <td>339.500000</td>\n",
       "      <td>437.530000</td>\n",
       "      <td>0</td>\n",
       "      <td>0</td>\n",
       "      <td>54</td>\n",
       "    </tr>\n",
       "    <tr>\n",
       "      <th>4</th>\n",
       "      <td>1448490</td>\n",
       "      <td>1</td>\n",
       "      <td>55</td>\n",
       "      <td>2631</td>\n",
       "      <td>243.500000</td>\n",
       "      <td>242.500000</td>\n",
       "      <td>0</td>\n",
       "      <td>0</td>\n",
       "      <td>40</td>\n",
       "    </tr>\n",
       "  </tbody>\n",
       "</table>\n",
       "</div>"
      ],
      "text/plain": [
       "        id  week  center_id  meal_id  checkout_price  base_price  \\\n",
       "0  1379560     1         55     1885      136.830000  152.290000   \n",
       "1  1466964     1         55     1993      136.830000  135.830000   \n",
       "2  1346989     1         55     2539      134.860000  135.860000   \n",
       "3  1338232     1         55     2139      339.500000  437.530000   \n",
       "4  1448490     1         55     2631      243.500000  242.500000   \n",
       "\n",
       "   emailer_for_promotion  homepage_featured  num_orders  \n",
       "0                      0                  0         177  \n",
       "1                      0                  0         270  \n",
       "2                      0                  0         189  \n",
       "3                      0                  0          54  \n",
       "4                      0                  0          40  "
      ]
     },
     "execution_count": 12,
     "metadata": {},
     "output_type": "execute_result"
    }
   ],
   "source": [
    "train_df.head()"
   ]
  },
  {
   "cell_type": "code",
   "execution_count": 13,
   "metadata": {},
   "outputs": [],
   "source": [
    "train_df = train_df.drop([\"id\", \"emailer_for_promotion\", \"homepage_featured\"], axis=1)"
   ]
  },
  {
   "cell_type": "code",
   "execution_count": 10,
   "metadata": {
    "colab": {
     "base_uri": "https://localhost:8080/"
    },
    "executionInfo": {
     "elapsed": 211,
     "status": "ok",
     "timestamp": 1627750920135,
     "user": {
      "displayName": "Adithya Krishna",
      "photoUrl": "",
      "userId": "14433587602683209861"
     },
     "user_tz": -120
    },
    "id": "V81-gt9hTg-Z",
    "outputId": "ee45b27f-3b10-4afc-f2c7-6412ba6c0a6e"
   },
   "outputs": [
    {
     "data": {
      "text/plain": [
       "(456548, 9)"
      ]
     },
     "execution_count": 10,
     "metadata": {},
     "output_type": "execute_result"
    }
   ],
   "source": [
    "train_df.shape"
   ]
  },
  {
   "cell_type": "code",
   "execution_count": 87,
   "metadata": {
    "colab": {
     "base_uri": "https://localhost:8080/"
    },
    "executionInfo": {
     "elapsed": 218,
     "status": "ok",
     "timestamp": 1627751314242,
     "user": {
      "displayName": "Adithya Krishna",
      "photoUrl": "",
      "userId": "14433587602683209861"
     },
     "user_tz": -120
    },
    "id": "G8-3dWyLsBk4",
    "outputId": "83bcb55a-665f-46bc-f257-65632b095129"
   },
   "outputs": [
    {
     "name": "stdout",
     "output_type": "stream",
     "text": [
      "51\n",
      "8\n",
      "14\n",
      "4\n",
      "3\n"
     ]
    }
   ],
   "source": [
    "print(len(train_df['city_code'].unique()))\n",
    "print(len(train_df['region_code'].unique()))\n",
    "print(len(train_df['category'].unique()))\n",
    "print(len(train_df['cuisine'].unique()))\n",
    "print(len(train_df['center_type'].unique()))\n",
    "#print(len(train_df['center_id'].unique()))\n",
    "#print(len(train_df['meal_id'].unique()))            "
   ]
  },
  {
   "cell_type": "code",
   "execution_count": 5,
   "metadata": {
    "colab": {
     "base_uri": "https://localhost:8080/",
     "height": 226
    },
    "executionInfo": {
     "elapsed": 264,
     "status": "ok",
     "timestamp": 1627801041036,
     "user": {
      "displayName": "Adithya Krishna",
      "photoUrl": "",
      "userId": "14433587602683209861"
     },
     "user_tz": -120
    },
    "id": "r8S31-qS3bHB",
    "outputId": "5b75d887-be13-4e7e-a544-ad81fcf62183"
   },
   "outputs": [
    {
     "data": {
      "text/html": [
       "<div>\n",
       "<style scoped>\n",
       "    .dataframe tbody tr th:only-of-type {\n",
       "        vertical-align: middle;\n",
       "    }\n",
       "\n",
       "    .dataframe tbody tr th {\n",
       "        vertical-align: top;\n",
       "    }\n",
       "\n",
       "    .dataframe thead th {\n",
       "        text-align: right;\n",
       "    }\n",
       "</style>\n",
       "<table border=\"1\" class=\"dataframe\">\n",
       "  <thead>\n",
       "    <tr style=\"text-align: right;\">\n",
       "      <th></th>\n",
       "      <th>week</th>\n",
       "      <th>checkout_price</th>\n",
       "      <th>base_price</th>\n",
       "      <th>emailer_for_promotion</th>\n",
       "      <th>homepage_featured</th>\n",
       "      <th>num_orders</th>\n",
       "      <th>category</th>\n",
       "      <th>cuisine</th>\n",
       "      <th>city_code</th>\n",
       "      <th>region_code</th>\n",
       "      <th>center_type</th>\n",
       "      <th>op_area</th>\n",
       "    </tr>\n",
       "  </thead>\n",
       "  <tbody>\n",
       "    <tr>\n",
       "      <th>0</th>\n",
       "      <td>1</td>\n",
       "      <td>136.83</td>\n",
       "      <td>152.29</td>\n",
       "      <td>0</td>\n",
       "      <td>0</td>\n",
       "      <td>177</td>\n",
       "      <td>Beverages</td>\n",
       "      <td>Thai</td>\n",
       "      <td>647</td>\n",
       "      <td>56</td>\n",
       "      <td>TYPE_C</td>\n",
       "      <td>2.0</td>\n",
       "    </tr>\n",
       "    <tr>\n",
       "      <th>1</th>\n",
       "      <td>1</td>\n",
       "      <td>136.83</td>\n",
       "      <td>135.83</td>\n",
       "      <td>0</td>\n",
       "      <td>0</td>\n",
       "      <td>270</td>\n",
       "      <td>Beverages</td>\n",
       "      <td>Thai</td>\n",
       "      <td>647</td>\n",
       "      <td>56</td>\n",
       "      <td>TYPE_C</td>\n",
       "      <td>2.0</td>\n",
       "    </tr>\n",
       "    <tr>\n",
       "      <th>2</th>\n",
       "      <td>1</td>\n",
       "      <td>134.86</td>\n",
       "      <td>135.86</td>\n",
       "      <td>0</td>\n",
       "      <td>0</td>\n",
       "      <td>189</td>\n",
       "      <td>Beverages</td>\n",
       "      <td>Thai</td>\n",
       "      <td>647</td>\n",
       "      <td>56</td>\n",
       "      <td>TYPE_C</td>\n",
       "      <td>2.0</td>\n",
       "    </tr>\n",
       "    <tr>\n",
       "      <th>3</th>\n",
       "      <td>1</td>\n",
       "      <td>339.50</td>\n",
       "      <td>437.53</td>\n",
       "      <td>0</td>\n",
       "      <td>0</td>\n",
       "      <td>54</td>\n",
       "      <td>Beverages</td>\n",
       "      <td>Indian</td>\n",
       "      <td>647</td>\n",
       "      <td>56</td>\n",
       "      <td>TYPE_C</td>\n",
       "      <td>2.0</td>\n",
       "    </tr>\n",
       "    <tr>\n",
       "      <th>4</th>\n",
       "      <td>1</td>\n",
       "      <td>243.50</td>\n",
       "      <td>242.50</td>\n",
       "      <td>0</td>\n",
       "      <td>0</td>\n",
       "      <td>40</td>\n",
       "      <td>Beverages</td>\n",
       "      <td>Indian</td>\n",
       "      <td>647</td>\n",
       "      <td>56</td>\n",
       "      <td>TYPE_C</td>\n",
       "      <td>2.0</td>\n",
       "    </tr>\n",
       "  </tbody>\n",
       "</table>\n",
       "</div>"
      ],
      "text/plain": [
       "   week  checkout_price  base_price  ...  region_code  center_type  op_area\n",
       "0     1          136.83      152.29  ...           56       TYPE_C      2.0\n",
       "1     1          136.83      135.83  ...           56       TYPE_C      2.0\n",
       "2     1          134.86      135.86  ...           56       TYPE_C      2.0\n",
       "3     1          339.50      437.53  ...           56       TYPE_C      2.0\n",
       "4     1          243.50      242.50  ...           56       TYPE_C      2.0\n",
       "\n",
       "[5 rows x 12 columns]"
      ]
     },
     "execution_count": 5,
     "metadata": {
      "tags": []
     },
     "output_type": "execute_result"
    }
   ],
   "source": [
    "train_df = train_df.drop(['id', 'center_id', 'meal_id'], axis=1)\n",
    "train_df.head()"
   ]
  },
  {
   "cell_type": "code",
   "execution_count": 14,
   "metadata": {
    "colab": {
     "base_uri": "https://localhost:8080/"
    },
    "executionInfo": {
     "elapsed": 235,
     "status": "ok",
     "timestamp": 1627750958336,
     "user": {
      "displayName": "Adithya Krishna",
      "photoUrl": "",
      "userId": "14433587602683209861"
     },
     "user_tz": -120
    },
    "id": "TmqIIvP4t0jN",
    "outputId": "1f6905a9-c9de-49a9-b005-b8cf3cbc538e"
   },
   "outputs": [
    {
     "name": "stdout",
     "output_type": "stream",
     "text": [
      "<class 'pandas.core.frame.DataFrame'>\n",
      "RangeIndex: 456548 entries, 0 to 456547\n",
      "Data columns (total 7 columns):\n",
      " #   Column          Non-Null Count   Dtype  \n",
      "---  ------          --------------   -----  \n",
      " 0   id              456548 non-null  int64  \n",
      " 1   week            456548 non-null  int64  \n",
      " 2   center_id       456548 non-null  int64  \n",
      " 3   meal_id         456548 non-null  int64  \n",
      " 4   checkout_price  456548 non-null  float64\n",
      " 5   base_price      456548 non-null  float64\n",
      " 6   num_orders      456548 non-null  int64  \n",
      "dtypes: float64(2), int64(5)\n",
      "memory usage: 24.4 MB\n"
     ]
    }
   ],
   "source": [
    "train_df.info()"
   ]
  },
  {
   "cell_type": "code",
   "execution_count": 6,
   "metadata": {
    "executionInfo": {
     "elapsed": 225,
     "status": "ok",
     "timestamp": 1627801044069,
     "user": {
      "displayName": "Adithya Krishna",
      "photoUrl": "",
      "userId": "14433587602683209861"
     },
     "user_tz": -120
    },
    "id": "mhcGf0MJtOhw"
   },
   "outputs": [],
   "source": [
    "#train_df['emailer_for_promotion'] = train_df['emailer_for_promotion'].astype(object)\n",
    "#train_df['homepage_featured'] = train_df['homepage_featured'].astype(object)\n",
    "train_df['city_code'] = train_df['city_code'].astype(object)\n",
    "train_df['region_code'] = train_df['region_code'].astype(object)"
   ]
  },
  {
   "cell_type": "code",
   "execution_count": 85,
   "metadata": {
    "colab": {
     "base_uri": "https://localhost:8080/"
    },
    "executionInfo": {
     "elapsed": 358,
     "status": "ok",
     "timestamp": 1627751017512,
     "user": {
      "displayName": "Adithya Krishna",
      "photoUrl": "",
      "userId": "14433587602683209861"
     },
     "user_tz": -120
    },
    "id": "ueR7NfWXuZE9",
    "outputId": "1601e244-6b02-4b62-c0c9-ba85641fa8ee"
   },
   "outputs": [
    {
     "name": "stdout",
     "output_type": "stream",
     "text": [
      "<class 'pandas.core.frame.DataFrame'>\n",
      "Int64Index: 456548 entries, 0 to 456547\n",
      "Data columns (total 12 columns):\n",
      " #   Column                 Non-Null Count   Dtype  \n",
      "---  ------                 --------------   -----  \n",
      " 0   week                   456548 non-null  int64  \n",
      " 1   checkout_price         456548 non-null  float64\n",
      " 2   base_price             456548 non-null  float64\n",
      " 3   emailer_for_promotion  456548 non-null  int64  \n",
      " 4   homepage_featured      456548 non-null  int64  \n",
      " 5   num_orders             456548 non-null  int64  \n",
      " 6   category               456548 non-null  object \n",
      " 7   cuisine                456548 non-null  object \n",
      " 8   city_code              456548 non-null  object \n",
      " 9   region_code            456548 non-null  object \n",
      " 10  center_type            456548 non-null  object \n",
      " 11  op_area                456548 non-null  float64\n",
      "dtypes: float64(3), int64(4), object(5)\n",
      "memory usage: 45.3+ MB\n"
     ]
    }
   ],
   "source": [
    "train_df.info()"
   ]
  },
  {
   "cell_type": "markdown",
   "metadata": {
    "id": "iXTKNposotc7"
   },
   "source": [
    "##visulaizations"
   ]
  },
  {
   "cell_type": "code",
   "execution_count": 31,
   "metadata": {
    "colab": {
     "base_uri": "https://localhost:8080/",
     "height": 390
    },
    "executionInfo": {
     "elapsed": 988,
     "status": "ok",
     "timestamp": 1627751026113,
     "user": {
      "displayName": "Adithya Krishna",
      "photoUrl": "",
      "userId": "14433587602683209861"
     },
     "user_tz": -120
    },
    "id": "pp0nQrCVueWc",
    "outputId": "e280829a-be50-4194-90fb-6ebfde0d9c2c"
   },
   "outputs": [
    {
     "data": {
      "text/plain": [
       "<AxesSubplot:>"
      ]
     },
     "execution_count": 31,
     "metadata": {},
     "output_type": "execute_result"
    },
    {
     "data": {
      "image/png": "[encoded data removed]",
      "text/plain": [
       "<Figure size 432x288 with 2 Axes>"
      ]
     },
     "metadata": {
      "needs_background": "light"
     },
     "output_type": "display_data"
    }
   ],
   "source": [
    "sns.heatmap(train_df.corr(), annot=True)"
   ]
  },
  {
   "cell_type": "code",
   "execution_count": 75,
   "metadata": {
    "colab": {
     "base_uri": "https://localhost:8080/",
     "height": 283
    },
    "executionInfo": {
     "elapsed": 729,
     "status": "ok",
     "timestamp": 1627738329554,
     "user": {
      "displayName": "Adithya Krishna",
      "photoUrl": "",
      "userId": "14433587602683209861"
     },
     "user_tz": -120
    },
    "id": "jKwq7h4Uvgzd",
    "outputId": "e64cb2be-6f2a-41bf-ef4b-b8124625b7e0"
   },
   "outputs": [
    {
     "data": {
      "text/plain": [
       "<matplotlib.axes._subplots.AxesSubplot at 0x7fb3b45e76d0>"
      ]
     },
     "execution_count": 75,
     "metadata": {
      "tags": []
     },
     "output_type": "execute_result"
    },
    {
     "data": {
      "image/png": "[encoded data removed]",
      "text/plain": [
       "<Figure size 432x288 with 1 Axes>"
      ]
     },
     "metadata": {
      "needs_background": "light",
      "tags": []
     },
     "output_type": "display_data"
    }
   ],
   "source": [
    "train_df['num_orders'].plot(linewidth=0.5)"
   ]
  },
  {
   "cell_type": "code",
   "execution_count": null,
   "metadata": {
    "id": "X5TVwVN4ufT7"
   },
   "outputs": [],
   "source": [
    "train_df.pivot(index = 'week', columns='')"
   ]
  },
  {
   "cell_type": "code",
   "execution_count": null,
   "metadata": {
    "id": "5YaW9Ov80NYA"
   },
   "outputs": [],
   "source": []
  },
  {
   "cell_type": "code",
   "execution_count": null,
   "metadata": {
    "id": "GHhohN_v0Nae"
   },
   "outputs": [],
   "source": []
  },
  {
   "cell_type": "code",
   "execution_count": 60,
   "metadata": {
    "colab": {
     "base_uri": "https://localhost:8080/"
    },
    "executionInfo": {
     "elapsed": 224,
     "status": "ok",
     "timestamp": 1627736624407,
     "user": {
      "displayName": "Adithya Krishna",
      "photoUrl": "",
      "userId": "14433587602683209861"
     },
     "user_tz": -120
    },
    "id": "BD3cflOkqQBF",
    "outputId": "e722ae2a-8126-4686-c796-11ebad252ffa"
   },
   "outputs": [
    {
     "data": {
      "text/plain": [
       "array([  1,   2,   3,   4,   5,   6,   7,   8,   9,  10,  11,  12,  13,\n",
       "        14,  15,  16,  17,  18,  19,  20,  21,  22,  23,  24,  25,  26,\n",
       "        27,  28,  29,  30,  31,  32,  33,  34,  35,  36,  37,  38,  39,\n",
       "        40,  41,  42,  43,  44,  45,  46,  47,  48,  49,  50,  51,  52,\n",
       "        53,  54,  55,  56,  57,  58,  59,  60,  61,  62,  63,  64,  65,\n",
       "        66,  67,  68,  69,  70,  71,  72,  73,  74,  75,  76,  77,  78,\n",
       "        79,  80,  81,  82,  83,  84,  85,  86,  87,  88,  89,  90,  91,\n",
       "        92,  93,  94,  95,  96,  97,  98,  99, 100, 101, 102, 103, 104,\n",
       "       105, 106, 107, 108, 109, 110, 111, 112, 113, 114, 115, 116, 117,\n",
       "       118, 119, 120, 121, 122, 123, 124, 125, 126, 127, 128, 129, 130,\n",
       "       131, 132, 133, 134, 135, 136, 137, 138, 139, 140, 141, 142, 143,\n",
       "       144, 145])"
      ]
     },
     "execution_count": 60,
     "metadata": {
      "tags": []
     },
     "output_type": "execute_result"
    }
   ],
   "source": [
    "train_df['week'].unique()"
   ]
  },
  {
   "cell_type": "markdown",
   "metadata": {
    "id": "ibQmtQYOo0VL"
   },
   "source": [
    "## Back to preprocessing"
   ]
  },
  {
   "cell_type": "code",
   "execution_count": 15,
   "metadata": {
    "executionInfo": {
     "elapsed": 246,
     "status": "ok",
     "timestamp": 1627801048010,
     "user": {
      "displayName": "Adithya Krishna",
      "photoUrl": "",
      "userId": "14433587602683209861"
     },
     "user_tz": -120
    },
    "id": "NofSo2LOpDHa"
   },
   "outputs": [
    {
     "ename": "KeyError",
     "evalue": "'base_price'",
     "output_type": "error",
     "traceback": [
      "\u001b[1;31m---------------------------------------------------------------------------\u001b[0m",
      "\u001b[1;31mKeyError\u001b[0m                                  Traceback (most recent call last)",
      "\u001b[1;32m~\\anaconda3\\lib\\site-packages\\pandas\\core\\indexes\\base.py\u001b[0m in \u001b[0;36mget_loc\u001b[1;34m(self, key, method, tolerance)\u001b[0m\n\u001b[0;32m   2894\u001b[0m             \u001b[1;32mtry\u001b[0m\u001b[1;33m:\u001b[0m\u001b[1;33m\u001b[0m\u001b[1;33m\u001b[0m\u001b[0m\n\u001b[1;32m-> 2895\u001b[1;33m                 \u001b[1;32mreturn\u001b[0m \u001b[0mself\u001b[0m\u001b[1;33m.\u001b[0m\u001b[0m_engine\u001b[0m\u001b[1;33m.\u001b[0m\u001b[0mget_loc\u001b[0m\u001b[1;33m(\u001b[0m\u001b[0mcasted_key\u001b[0m\u001b[1;33m)\u001b[0m\u001b[1;33m\u001b[0m\u001b[1;33m\u001b[0m\u001b[0m\n\u001b[0m\u001b[0;32m   2896\u001b[0m             \u001b[1;32mexcept\u001b[0m \u001b[0mKeyError\u001b[0m \u001b[1;32mas\u001b[0m \u001b[0merr\u001b[0m\u001b[1;33m:\u001b[0m\u001b[1;33m\u001b[0m\u001b[1;33m\u001b[0m\u001b[0m\n",
      "\u001b[1;32mpandas\\_libs\\index.pyx\u001b[0m in \u001b[0;36mpandas._libs.index.IndexEngine.get_loc\u001b[1;34m()\u001b[0m\n",
      "\u001b[1;32mpandas\\_libs\\index.pyx\u001b[0m in \u001b[0;36mpandas._libs.index.IndexEngine.get_loc\u001b[1;34m()\u001b[0m\n",
      "\u001b[1;32mpandas\\_libs\\hashtable_class_helper.pxi\u001b[0m in \u001b[0;36mpandas._libs.hashtable.PyObjectHashTable.get_item\u001b[1;34m()\u001b[0m\n",
      "\u001b[1;32mpandas\\_libs\\hashtable_class_helper.pxi\u001b[0m in \u001b[0;36mpandas._libs.hashtable.PyObjectHashTable.get_item\u001b[1;34m()\u001b[0m\n",
      "\u001b[1;31mKeyError\u001b[0m: 'base_price'",
      "\nThe above exception was the direct cause of the following exception:\n",
      "\u001b[1;31mKeyError\u001b[0m                                  Traceback (most recent call last)",
      "\u001b[1;32m<ipython-input-15-621388f1b5b4>\u001b[0m in \u001b[0;36m<module>\u001b[1;34m\u001b[0m\n\u001b[1;32m----> 1\u001b[1;33m \u001b[0mtrain_df\u001b[0m\u001b[1;33m[\u001b[0m\u001b[1;34m'discount'\u001b[0m\u001b[1;33m]\u001b[0m \u001b[1;33m=\u001b[0m \u001b[0mtrain_df\u001b[0m\u001b[1;33m[\u001b[0m\u001b[1;34m'base_price'\u001b[0m\u001b[1;33m]\u001b[0m\u001b[1;33m-\u001b[0m\u001b[0mtrain_df\u001b[0m\u001b[1;33m[\u001b[0m\u001b[1;34m'checkout_price'\u001b[0m\u001b[1;33m]\u001b[0m\u001b[1;33m\u001b[0m\u001b[1;33m\u001b[0m\u001b[0m\n\u001b[0m\u001b[0;32m      2\u001b[0m \u001b[0mtrain_df\u001b[0m \u001b[1;33m=\u001b[0m \u001b[0mtrain_df\u001b[0m\u001b[1;33m.\u001b[0m\u001b[0mdrop\u001b[0m\u001b[1;33m(\u001b[0m\u001b[1;33m[\u001b[0m\u001b[1;34m'base_price'\u001b[0m\u001b[1;33m]\u001b[0m\u001b[1;33m,\u001b[0m \u001b[0maxis\u001b[0m\u001b[1;33m=\u001b[0m\u001b[1;36m1\u001b[0m\u001b[1;33m)\u001b[0m\u001b[1;33m\u001b[0m\u001b[1;33m\u001b[0m\u001b[0m\n",
      "\u001b[1;32m~\\anaconda3\\lib\\site-packages\\pandas\\core\\frame.py\u001b[0m in \u001b[0;36m__getitem__\u001b[1;34m(self, key)\u001b[0m\n\u001b[0;32m   2900\u001b[0m             \u001b[1;32mif\u001b[0m \u001b[0mself\u001b[0m\u001b[1;33m.\u001b[0m\u001b[0mcolumns\u001b[0m\u001b[1;33m.\u001b[0m\u001b[0mnlevels\u001b[0m \u001b[1;33m>\u001b[0m \u001b[1;36m1\u001b[0m\u001b[1;33m:\u001b[0m\u001b[1;33m\u001b[0m\u001b[1;33m\u001b[0m\u001b[0m\n\u001b[0;32m   2901\u001b[0m                 \u001b[1;32mreturn\u001b[0m \u001b[0mself\u001b[0m\u001b[1;33m.\u001b[0m\u001b[0m_getitem_multilevel\u001b[0m\u001b[1;33m(\u001b[0m\u001b[0mkey\u001b[0m\u001b[1;33m)\u001b[0m\u001b[1;33m\u001b[0m\u001b[1;33m\u001b[0m\u001b[0m\n\u001b[1;32m-> 2902\u001b[1;33m             \u001b[0mindexer\u001b[0m \u001b[1;33m=\u001b[0m \u001b[0mself\u001b[0m\u001b[1;33m.\u001b[0m\u001b[0mcolumns\u001b[0m\u001b[1;33m.\u001b[0m\u001b[0mget_loc\u001b[0m\u001b[1;33m(\u001b[0m\u001b[0mkey\u001b[0m\u001b[1;33m)\u001b[0m\u001b[1;33m\u001b[0m\u001b[1;33m\u001b[0m\u001b[0m\n\u001b[0m\u001b[0;32m   2903\u001b[0m             \u001b[1;32mif\u001b[0m \u001b[0mis_integer\u001b[0m\u001b[1;33m(\u001b[0m\u001b[0mindexer\u001b[0m\u001b[1;33m)\u001b[0m\u001b[1;33m:\u001b[0m\u001b[1;33m\u001b[0m\u001b[1;33m\u001b[0m\u001b[0m\n\u001b[0;32m   2904\u001b[0m                 \u001b[0mindexer\u001b[0m \u001b[1;33m=\u001b[0m \u001b[1;33m[\u001b[0m\u001b[0mindexer\u001b[0m\u001b[1;33m]\u001b[0m\u001b[1;33m\u001b[0m\u001b[1;33m\u001b[0m\u001b[0m\n",
      "\u001b[1;32m~\\anaconda3\\lib\\site-packages\\pandas\\core\\indexes\\base.py\u001b[0m in \u001b[0;36mget_loc\u001b[1;34m(self, key, method, tolerance)\u001b[0m\n\u001b[0;32m   2895\u001b[0m                 \u001b[1;32mreturn\u001b[0m \u001b[0mself\u001b[0m\u001b[1;33m.\u001b[0m\u001b[0m_engine\u001b[0m\u001b[1;33m.\u001b[0m\u001b[0mget_loc\u001b[0m\u001b[1;33m(\u001b[0m\u001b[0mcasted_key\u001b[0m\u001b[1;33m)\u001b[0m\u001b[1;33m\u001b[0m\u001b[1;33m\u001b[0m\u001b[0m\n\u001b[0;32m   2896\u001b[0m             \u001b[1;32mexcept\u001b[0m \u001b[0mKeyError\u001b[0m \u001b[1;32mas\u001b[0m \u001b[0merr\u001b[0m\u001b[1;33m:\u001b[0m\u001b[1;33m\u001b[0m\u001b[1;33m\u001b[0m\u001b[0m\n\u001b[1;32m-> 2897\u001b[1;33m                 \u001b[1;32mraise\u001b[0m \u001b[0mKeyError\u001b[0m\u001b[1;33m(\u001b[0m\u001b[0mkey\u001b[0m\u001b[1;33m)\u001b[0m \u001b[1;32mfrom\u001b[0m \u001b[0merr\u001b[0m\u001b[1;33m\u001b[0m\u001b[1;33m\u001b[0m\u001b[0m\n\u001b[0m\u001b[0;32m   2898\u001b[0m \u001b[1;33m\u001b[0m\u001b[0m\n\u001b[0;32m   2899\u001b[0m         \u001b[1;32mif\u001b[0m \u001b[0mtolerance\u001b[0m \u001b[1;32mis\u001b[0m \u001b[1;32mnot\u001b[0m \u001b[1;32mNone\u001b[0m\u001b[1;33m:\u001b[0m\u001b[1;33m\u001b[0m\u001b[1;33m\u001b[0m\u001b[0m\n",
      "\u001b[1;31mKeyError\u001b[0m: 'base_price'"
     ]
    }
   ],
   "source": [
    "train_df['discount'] = train_df['base_price']-train_df['checkout_price']\n",
    "train_df = train_df.drop(['base_price'], axis=1)"
   ]
  },
  {
   "cell_type": "code",
   "execution_count": 6,
   "metadata": {
    "colab": {
     "base_uri": "https://localhost:8080/",
     "height": 226
    },
    "executionInfo": {
     "elapsed": 7,
     "status": "ok",
     "timestamp": 1627753434020,
     "user": {
      "displayName": "Adithya Krishna",
      "photoUrl": "",
      "userId": "14433587602683209861"
     },
     "user_tz": -120
    },
    "id": "Y9Tzshi2qGVn",
    "outputId": "d2628a67-3bbe-4d3b-8e7f-dbdd02edebc7"
   },
   "outputs": [
    {
     "data": {
      "text/html": [
       "<div>\n",
       "<style scoped>\n",
       "    .dataframe tbody tr th:only-of-type {\n",
       "        vertical-align: middle;\n",
       "    }\n",
       "\n",
       "    .dataframe tbody tr th {\n",
       "        vertical-align: top;\n",
       "    }\n",
       "\n",
       "    .dataframe thead th {\n",
       "        text-align: right;\n",
       "    }\n",
       "</style>\n",
       "<table border=\"1\" class=\"dataframe\">\n",
       "  <thead>\n",
       "    <tr style=\"text-align: right;\">\n",
       "      <th></th>\n",
       "      <th>id</th>\n",
       "      <th>week</th>\n",
       "      <th>center_id</th>\n",
       "      <th>meal_id</th>\n",
       "      <th>checkout_price</th>\n",
       "      <th>num_orders</th>\n",
       "      <th>category</th>\n",
       "      <th>cuisine</th>\n",
       "      <th>city_code</th>\n",
       "      <th>region_code</th>\n",
       "      <th>center_type</th>\n",
       "      <th>op_area</th>\n",
       "      <th>discount</th>\n",
       "    </tr>\n",
       "  </thead>\n",
       "  <tbody>\n",
       "    <tr>\n",
       "      <th>0</th>\n",
       "      <td>1379560</td>\n",
       "      <td>1</td>\n",
       "      <td>55</td>\n",
       "      <td>1885</td>\n",
       "      <td>136.83</td>\n",
       "      <td>177</td>\n",
       "      <td>Beverages</td>\n",
       "      <td>Thai</td>\n",
       "      <td>647</td>\n",
       "      <td>56</td>\n",
       "      <td>TYPE_C</td>\n",
       "      <td>2.0</td>\n",
       "      <td>15.46</td>\n",
       "    </tr>\n",
       "    <tr>\n",
       "      <th>1</th>\n",
       "      <td>1466964</td>\n",
       "      <td>1</td>\n",
       "      <td>55</td>\n",
       "      <td>1993</td>\n",
       "      <td>136.83</td>\n",
       "      <td>270</td>\n",
       "      <td>Beverages</td>\n",
       "      <td>Thai</td>\n",
       "      <td>647</td>\n",
       "      <td>56</td>\n",
       "      <td>TYPE_C</td>\n",
       "      <td>2.0</td>\n",
       "      <td>-1.00</td>\n",
       "    </tr>\n",
       "    <tr>\n",
       "      <th>2</th>\n",
       "      <td>1346989</td>\n",
       "      <td>1</td>\n",
       "      <td>55</td>\n",
       "      <td>2539</td>\n",
       "      <td>134.86</td>\n",
       "      <td>189</td>\n",
       "      <td>Beverages</td>\n",
       "      <td>Thai</td>\n",
       "      <td>647</td>\n",
       "      <td>56</td>\n",
       "      <td>TYPE_C</td>\n",
       "      <td>2.0</td>\n",
       "      <td>1.00</td>\n",
       "    </tr>\n",
       "    <tr>\n",
       "      <th>3</th>\n",
       "      <td>1338232</td>\n",
       "      <td>1</td>\n",
       "      <td>55</td>\n",
       "      <td>2139</td>\n",
       "      <td>339.50</td>\n",
       "      <td>54</td>\n",
       "      <td>Beverages</td>\n",
       "      <td>Indian</td>\n",
       "      <td>647</td>\n",
       "      <td>56</td>\n",
       "      <td>TYPE_C</td>\n",
       "      <td>2.0</td>\n",
       "      <td>98.03</td>\n",
       "    </tr>\n",
       "    <tr>\n",
       "      <th>4</th>\n",
       "      <td>1448490</td>\n",
       "      <td>1</td>\n",
       "      <td>55</td>\n",
       "      <td>2631</td>\n",
       "      <td>243.50</td>\n",
       "      <td>40</td>\n",
       "      <td>Beverages</td>\n",
       "      <td>Indian</td>\n",
       "      <td>647</td>\n",
       "      <td>56</td>\n",
       "      <td>TYPE_C</td>\n",
       "      <td>2.0</td>\n",
       "      <td>-1.00</td>\n",
       "    </tr>\n",
       "  </tbody>\n",
       "</table>\n",
       "</div>"
      ],
      "text/plain": [
       "        id  week  center_id  meal_id  checkout_price  num_orders   category  \\\n",
       "0  1379560     1         55     1885          136.83         177  Beverages   \n",
       "1  1466964     1         55     1993          136.83         270  Beverages   \n",
       "2  1346989     1         55     2539          134.86         189  Beverages   \n",
       "3  1338232     1         55     2139          339.50          54  Beverages   \n",
       "4  1448490     1         55     2631          243.50          40  Beverages   \n",
       "\n",
       "  cuisine  city_code  region_code center_type  op_area  discount  \n",
       "0    Thai        647           56      TYPE_C      2.0     15.46  \n",
       "1    Thai        647           56      TYPE_C      2.0     -1.00  \n",
       "2    Thai        647           56      TYPE_C      2.0      1.00  \n",
       "3  Indian        647           56      TYPE_C      2.0     98.03  \n",
       "4  Indian        647           56      TYPE_C      2.0     -1.00  "
      ]
     },
     "execution_count": 6,
     "metadata": {},
     "output_type": "execute_result"
    }
   ],
   "source": [
    "train_df.head()"
   ]
  },
  {
   "cell_type": "code",
   "execution_count": 16,
   "metadata": {
    "executionInfo": {
     "elapsed": 544,
     "status": "ok",
     "timestamp": 1627801052036,
     "user": {
      "displayName": "Adithya Krishna",
      "photoUrl": "",
      "userId": "14433587602683209861"
     },
     "user_tz": -120
    },
    "id": "0fyDoRU9hiSe"
   },
   "outputs": [],
   "source": [
    "train_df = pd.get_dummies(train_df,drop_first=True)"
   ]
  },
  {
   "cell_type": "code",
   "execution_count": 35,
   "metadata": {
    "colab": {
     "base_uri": "https://localhost:8080/"
    },
    "executionInfo": {
     "elapsed": 218,
     "status": "ok",
     "timestamp": 1627784434320,
     "user": {
      "displayName": "Adithya Krishna",
      "photoUrl": "",
      "userId": "14433587602683209861"
     },
     "user_tz": -120
    },
    "id": "4okM9PJviwor",
    "outputId": "5e0cedcd-500a-46f4-e197-0783e9a93dc7"
   },
   "outputs": [
    {
     "data": {
      "text/plain": [
       "(456548, 28)"
      ]
     },
     "execution_count": 35,
     "metadata": {},
     "output_type": "execute_result"
    }
   ],
   "source": [
    "train_df.shape"
   ]
  },
  {
   "cell_type": "code",
   "execution_count": 17,
   "metadata": {
    "executionInfo": {
     "elapsed": 578,
     "status": "ok",
     "timestamp": 1627801053912,
     "user": {
      "displayName": "Adithya Krishna",
      "photoUrl": "",
      "userId": "14433587602683209861"
     },
     "user_tz": -120
    },
    "id": "sN-pOqsxqw-z"
   },
   "outputs": [],
   "source": [
    "train_split_x = train_df[train_df['week']<=116]\n",
    "test_split_x = train_df[train_df['week']>116]\n",
    "train_split_y = train_split_x['num_orders']\n",
    "test_split_y = test_split_x['num_orders']\n",
    "train_split_x = train_split_x.drop(['num_orders'], axis=1)\n",
    "test_split_x = test_split_x.drop(['num_orders'], axis=1)"
   ]
  },
  {
   "cell_type": "code",
   "execution_count": 18,
   "metadata": {
    "colab": {
     "base_uri": "https://localhost:8080/"
    },
    "executionInfo": {
     "elapsed": 238,
     "status": "ok",
     "timestamp": 1627753465694,
     "user": {
      "displayName": "Adithya Krishna",
      "photoUrl": "",
      "userId": "14433587602683209861"
     },
     "user_tz": -120
    },
    "id": "Er-p4FJsjyWv",
    "outputId": "0215e739-0f03-4873-e708-1e0af3b01122"
   },
   "outputs": [
    {
     "data": {
      "text/plain": [
       "((361348, 26), (361348,), (95200, 26), (95200,))"
      ]
     },
     "execution_count": 18,
     "metadata": {},
     "output_type": "execute_result"
    }
   ],
   "source": [
    "train_split_x.shape, train_split_y.shape, test_split_x.shape, test_split_y.shape"
   ]
  },
  {
   "cell_type": "code",
   "execution_count": 24,
   "metadata": {},
   "outputs": [
    {
     "data": {
      "text/plain": [
       "Index(['week', 'center_id', 'meal_id', 'checkout_price', 'city_code',\n",
       "       'region_code', 'op_area', 'discount', 'category_Biryani',\n",
       "       'category_Desert', 'category_Extras', 'category_Fish',\n",
       "       'category_Other Snacks', 'category_Pasta', 'category_Pizza',\n",
       "       'category_Rice Bowl', 'category_Salad', 'category_Sandwich',\n",
       "       'category_Seafood', 'category_Soup', 'category_Starters',\n",
       "       'cuisine_Indian', 'cuisine_Italian', 'cuisine_Thai',\n",
       "       'center_type_TYPE_B', 'center_type_TYPE_C'],\n",
       "      dtype='object')"
      ]
     },
     "execution_count": 24,
     "metadata": {},
     "output_type": "execute_result"
    }
   ],
   "source": [
    "train_split_x.columns"
   ]
  },
  {
   "cell_type": "code",
   "execution_count": 43,
   "metadata": {},
   "outputs": [
    {
     "data": {
      "text/plain": [
       "[647, 56, 'TYPE_C', 2.0]"
      ]
     },
     "execution_count": 43,
     "metadata": {},
     "output_type": "execute_result"
    }
   ],
   "source": [
    "temp_row = fc_info[fc_info[\"center_id\"] == 55]\n",
    "temp_values = temp_row.values.tolist()[0]\n",
    "temp_values[1:]"
   ]
  },
  {
   "cell_type": "code",
   "execution_count": 34,
   "metadata": {
    "colab": {
     "base_uri": "https://localhost:8080/"
    },
    "executionInfo": {
     "elapsed": 291,
     "status": "ok",
     "timestamp": 1627725119562,
     "user": {
      "displayName": "Adithya Krishna",
      "photoUrl": "",
      "userId": "14433587602683209861"
     },
     "user_tz": -120
    },
    "id": "M-nuRjYd4vqP",
    "outputId": "bc120551-d9f9-4869-b0be-6f67a7d3b53c"
   },
   "outputs": [
    {
     "name": "stdout",
     "output_type": "stream",
     "text": [
      "[2 1 0]\n",
      "[ 0  8 13  6 10  1  3  7 11  5  2  9  4 12]\n",
      "[3 1 2 0]\n"
     ]
    },
    {
     "data": {
      "text/plain": [
       "8"
      ]
     },
     "execution_count": 34,
     "metadata": {
      "tags": []
     },
     "output_type": "execute_result"
    }
   ],
   "source": [
    "print(train_df['center_type'].unique())\n",
    "print(train_df['category'].unique())\n",
    "print(train_df['cuisine'].unique())"
   ]
  },
  {
   "cell_type": "code",
   "execution_count": 20,
   "metadata": {
    "colab": {
     "base_uri": "https://localhost:8080/",
     "height": 226
    },
    "executionInfo": {
     "elapsed": 237,
     "status": "ok",
     "timestamp": 1627723699412,
     "user": {
      "displayName": "Adithya Krishna",
      "photoUrl": "",
      "userId": "14433587602683209861"
     },
     "user_tz": -120
    },
    "id": "cQrUu3R84dVU",
    "outputId": "f0f30d4d-72ef-4e12-ff72-ee082e2a27b0"
   },
   "outputs": [
    {
     "data": {
      "text/html": [
       "<div>\n",
       "<style scoped>\n",
       "    .dataframe tbody tr th:only-of-type {\n",
       "        vertical-align: middle;\n",
       "    }\n",
       "\n",
       "    .dataframe tbody tr th {\n",
       "        vertical-align: top;\n",
       "    }\n",
       "\n",
       "    .dataframe thead th {\n",
       "        text-align: right;\n",
       "    }\n",
       "</style>\n",
       "<table border=\"1\" class=\"dataframe\">\n",
       "  <thead>\n",
       "    <tr style=\"text-align: right;\">\n",
       "      <th></th>\n",
       "      <th>id</th>\n",
       "      <th>week</th>\n",
       "      <th>checkout_price</th>\n",
       "      <th>base_price</th>\n",
       "      <th>emailer_for_promotion</th>\n",
       "      <th>homepage_featured</th>\n",
       "      <th>num_orders</th>\n",
       "      <th>category</th>\n",
       "      <th>cuisine</th>\n",
       "      <th>city_code</th>\n",
       "      <th>region_code</th>\n",
       "      <th>center_type</th>\n",
       "      <th>op_area</th>\n",
       "    </tr>\n",
       "  </thead>\n",
       "  <tbody>\n",
       "    <tr>\n",
       "      <th>0</th>\n",
       "      <td>1379560</td>\n",
       "      <td>1</td>\n",
       "      <td>136.830000</td>\n",
       "      <td>152.290000</td>\n",
       "      <td>0</td>\n",
       "      <td>0</td>\n",
       "      <td>177</td>\n",
       "      <td>0</td>\n",
       "      <td>3</td>\n",
       "      <td>647</td>\n",
       "      <td>56</td>\n",
       "      <td>2</td>\n",
       "      <td>2.000000</td>\n",
       "    </tr>\n",
       "    <tr>\n",
       "      <th>1</th>\n",
       "      <td>1018704</td>\n",
       "      <td>2</td>\n",
       "      <td>135.830000</td>\n",
       "      <td>152.290000</td>\n",
       "      <td>0</td>\n",
       "      <td>0</td>\n",
       "      <td>323</td>\n",
       "      <td>0</td>\n",
       "      <td>3</td>\n",
       "      <td>647</td>\n",
       "      <td>56</td>\n",
       "      <td>2</td>\n",
       "      <td>2.000000</td>\n",
       "    </tr>\n",
       "    <tr>\n",
       "      <th>2</th>\n",
       "      <td>1196273</td>\n",
       "      <td>3</td>\n",
       "      <td>132.920000</td>\n",
       "      <td>133.920000</td>\n",
       "      <td>0</td>\n",
       "      <td>0</td>\n",
       "      <td>96</td>\n",
       "      <td>0</td>\n",
       "      <td>3</td>\n",
       "      <td>647</td>\n",
       "      <td>56</td>\n",
       "      <td>2</td>\n",
       "      <td>2.000000</td>\n",
       "    </tr>\n",
       "    <tr>\n",
       "      <th>3</th>\n",
       "      <td>1116527</td>\n",
       "      <td>4</td>\n",
       "      <td>135.860000</td>\n",
       "      <td>134.860000</td>\n",
       "      <td>0</td>\n",
       "      <td>0</td>\n",
       "      <td>163</td>\n",
       "      <td>0</td>\n",
       "      <td>3</td>\n",
       "      <td>647</td>\n",
       "      <td>56</td>\n",
       "      <td>2</td>\n",
       "      <td>2.000000</td>\n",
       "    </tr>\n",
       "    <tr>\n",
       "      <th>4</th>\n",
       "      <td>1343872</td>\n",
       "      <td>5</td>\n",
       "      <td>146.500000</td>\n",
       "      <td>147.500000</td>\n",
       "      <td>0</td>\n",
       "      <td>0</td>\n",
       "      <td>215</td>\n",
       "      <td>0</td>\n",
       "      <td>3</td>\n",
       "      <td>647</td>\n",
       "      <td>56</td>\n",
       "      <td>2</td>\n",
       "      <td>2.000000</td>\n",
       "    </tr>\n",
       "  </tbody>\n",
       "</table>\n",
       "</div>"
      ],
      "text/plain": [
       "        id  week  checkout_price  base_price  emailer_for_promotion  \\\n",
       "0  1379560     1      136.830000  152.290000                      0   \n",
       "1  1018704     2      135.830000  152.290000                      0   \n",
       "2  1196273     3      132.920000  133.920000                      0   \n",
       "3  1116527     4      135.860000  134.860000                      0   \n",
       "4  1343872     5      146.500000  147.500000                      0   \n",
       "\n",
       "   homepage_featured  num_orders  category  cuisine  city_code  region_code  \\\n",
       "0                  0         177         0        3        647           56   \n",
       "1                  0         323         0        3        647           56   \n",
       "2                  0          96         0        3        647           56   \n",
       "3                  0         163         0        3        647           56   \n",
       "4                  0         215         0        3        647           56   \n",
       "\n",
       "   center_type  op_area  \n",
       "0            2 2.000000  \n",
       "1            2 2.000000  \n",
       "2            2 2.000000  \n",
       "3            2 2.000000  \n",
       "4            2 2.000000  "
      ]
     },
     "execution_count": 20,
     "metadata": {
      "tags": []
     },
     "output_type": "execute_result"
    }
   ],
   "source": [
    "train_df.head()"
   ]
  },
  {
   "cell_type": "code",
   "execution_count": null,
   "metadata": {
    "id": "rEzDPk1Eg1iO"
   },
   "outputs": [],
   "source": []
  },
  {
   "cell_type": "code",
   "execution_count": null,
   "metadata": {
    "id": "dg4PTF5Kg1k1"
   },
   "outputs": [],
   "source": []
  },
  {
   "cell_type": "markdown",
   "metadata": {
    "id": "w19tLl5zoTyT"
   },
   "source": [
    "##Base"
   ]
  },
  {
   "cell_type": "markdown",
   "metadata": {
    "id": "34N7WI2JKHss"
   },
   "source": [
    "XGBoost"
   ]
  },
  {
   "cell_type": "code",
   "execution_count": 21,
   "metadata": {
    "colab": {
     "base_uri": "https://localhost:8080/"
    },
    "executionInfo": {
     "elapsed": 466370,
     "status": "ok",
     "timestamp": 1627752395970,
     "user": {
      "displayName": "Adithya Krishna",
      "photoUrl": "",
      "userId": "14433587602683209861"
     },
     "user_tz": -120
    },
    "id": "SgjqoeOL5smS",
    "outputId": "aa9df04a-c952-44cc-896d-770c386cdcd8"
   },
   "outputs": [
    {
     "name": "stdout",
     "output_type": "stream",
     "text": [
      "[0]\tvalidation_0-rmse:479.54755\tvalidation_1-rmse:438.79404\n",
      "[1]\tvalidation_0-rmse:476.37183\tvalidation_1-rmse:436.40329\n",
      "[2]\tvalidation_0-rmse:473.22778\tvalidation_1-rmse:434.03918\n",
      "[3]\tvalidation_0-rmse:470.12802\tvalidation_1-rmse:431.72092\n",
      "[4]\tvalidation_0-rmse:467.06787\tvalidation_1-rmse:429.44836\n",
      "[5]\tvalidation_0-rmse:464.05310\tvalidation_1-rmse:427.19516\n",
      "[6]\tvalidation_0-rmse:461.07095\tvalidation_1-rmse:424.98166\n",
      "[7]\tvalidation_0-rmse:458.14310\tvalidation_1-rmse:422.66983\n",
      "[8]\tvalidation_0-rmse:455.23785\tvalidation_1-rmse:420.51654\n",
      "[9]\tvalidation_0-rmse:452.37824\tvalidation_1-rmse:418.38504\n",
      "[10]\tvalidation_0-rmse:449.54404\tvalidation_1-rmse:416.22586\n",
      "[11]\tvalidation_0-rmse:446.75269\tvalidation_1-rmse:414.16190\n",
      "[12]\tvalidation_0-rmse:443.99301\tvalidation_1-rmse:412.04748\n",
      "[13]\tvalidation_0-rmse:441.28113\tvalidation_1-rmse:410.04425\n",
      "[14]\tvalidation_0-rmse:438.59143\tvalidation_1-rmse:408.06805\n",
      "[15]\tvalidation_0-rmse:435.95422\tvalidation_1-rmse:406.03705\n",
      "[16]\tvalidation_0-rmse:433.32812\tvalidation_1-rmse:404.02899\n",
      "[17]\tvalidation_0-rmse:430.73599\tvalidation_1-rmse:402.13257\n",
      "[18]\tvalidation_0-rmse:428.19440\tvalidation_1-rmse:400.12573\n",
      "[19]\tvalidation_0-rmse:425.67041\tvalidation_1-rmse:398.23389\n",
      "[20]\tvalidation_0-rmse:423.20361\tvalidation_1-rmse:396.60068\n",
      "[21]\tvalidation_0-rmse:420.76566\tvalidation_1-rmse:394.79273\n",
      "[22]\tvalidation_0-rmse:418.33575\tvalidation_1-rmse:392.94486\n",
      "[23]\tvalidation_0-rmse:415.96597\tvalidation_1-rmse:390.98975\n",
      "[24]\tvalidation_0-rmse:413.60654\tvalidation_1-rmse:389.52396\n",
      "[25]\tvalidation_0-rmse:411.30106\tvalidation_1-rmse:387.70361\n",
      "[26]\tvalidation_0-rmse:409.00345\tvalidation_1-rmse:386.25424\n",
      "[27]\tvalidation_0-rmse:406.76446\tvalidation_1-rmse:384.59723\n",
      "[28]\tvalidation_0-rmse:404.54983\tvalidation_1-rmse:383.15244\n",
      "[29]\tvalidation_0-rmse:402.34650\tvalidation_1-rmse:381.40146\n",
      "[30]\tvalidation_0-rmse:400.19089\tvalidation_1-rmse:379.71545\n",
      "[31]\tvalidation_0-rmse:398.07330\tvalidation_1-rmse:378.18613\n",
      "[32]\tvalidation_0-rmse:395.95764\tvalidation_1-rmse:376.61649\n",
      "[33]\tvalidation_0-rmse:393.89358\tvalidation_1-rmse:375.33151\n",
      "[34]\tvalidation_0-rmse:391.85507\tvalidation_1-rmse:373.73184\n",
      "[35]\tvalidation_0-rmse:389.83179\tvalidation_1-rmse:372.46887\n",
      "[36]\tvalidation_0-rmse:387.84903\tvalidation_1-rmse:370.94208\n",
      "[37]\tvalidation_0-rmse:385.86685\tvalidation_1-rmse:369.43710\n",
      "[38]\tvalidation_0-rmse:383.93491\tvalidation_1-rmse:367.87537\n",
      "[39]\tvalidation_0-rmse:382.03223\tvalidation_1-rmse:366.37854\n",
      "[40]\tvalidation_0-rmse:380.13709\tvalidation_1-rmse:364.93915\n",
      "[41]\tvalidation_0-rmse:378.25043\tvalidation_1-rmse:363.50345\n",
      "[42]\tvalidation_0-rmse:376.42685\tvalidation_1-rmse:362.23016\n",
      "[43]\tvalidation_0-rmse:374.61969\tvalidation_1-rmse:361.13046\n",
      "[44]\tvalidation_0-rmse:372.86273\tvalidation_1-rmse:359.69589\n",
      "[45]\tvalidation_0-rmse:371.09674\tvalidation_1-rmse:358.39648\n",
      "[46]\tvalidation_0-rmse:369.35678\tvalidation_1-rmse:357.07489\n",
      "[47]\tvalidation_0-rmse:367.62164\tvalidation_1-rmse:355.81631\n",
      "[48]\tvalidation_0-rmse:365.92938\tvalidation_1-rmse:354.51379\n",
      "[49]\tvalidation_0-rmse:364.26770\tvalidation_1-rmse:353.28198\n",
      "[50]\tvalidation_0-rmse:362.62573\tvalidation_1-rmse:352.12170\n",
      "[51]\tvalidation_0-rmse:360.98163\tvalidation_1-rmse:350.88919\n",
      "[52]\tvalidation_0-rmse:359.40720\tvalidation_1-rmse:349.66089\n",
      "[53]\tvalidation_0-rmse:357.79565\tvalidation_1-rmse:348.40762\n",
      "[54]\tvalidation_0-rmse:356.26135\tvalidation_1-rmse:347.20883\n",
      "[55]\tvalidation_0-rmse:354.75159\tvalidation_1-rmse:346.07010\n",
      "[56]\tvalidation_0-rmse:353.21149\tvalidation_1-rmse:344.93295\n",
      "[57]\tvalidation_0-rmse:351.74408\tvalidation_1-rmse:343.75235\n",
      "[58]\tvalidation_0-rmse:350.24429\tvalidation_1-rmse:342.64020\n",
      "[59]\tvalidation_0-rmse:348.80762\tvalidation_1-rmse:341.46777\n",
      "[60]\tvalidation_0-rmse:347.25439\tvalidation_1-rmse:340.19894\n",
      "[61]\tvalidation_0-rmse:345.72705\tvalidation_1-rmse:338.95178\n",
      "[62]\tvalidation_0-rmse:344.22791\tvalidation_1-rmse:337.76385\n",
      "[63]\tvalidation_0-rmse:342.75067\tvalidation_1-rmse:336.55481\n",
      "[64]\tvalidation_0-rmse:341.29123\tvalidation_1-rmse:335.40216\n",
      "[65]\tvalidation_0-rmse:339.81729\tvalidation_1-rmse:334.18338\n",
      "[66]\tvalidation_0-rmse:338.36566\tvalidation_1-rmse:333.01480\n",
      "[67]\tvalidation_0-rmse:336.94159\tvalidation_1-rmse:331.84015\n",
      "[68]\tvalidation_0-rmse:335.56513\tvalidation_1-rmse:330.75220\n",
      "[69]\tvalidation_0-rmse:334.18268\tvalidation_1-rmse:329.60696\n",
      "[70]\tvalidation_0-rmse:332.79520\tvalidation_1-rmse:328.51953\n",
      "[71]\tvalidation_0-rmse:331.45425\tvalidation_1-rmse:327.41678\n",
      "[72]\tvalidation_0-rmse:330.10846\tvalidation_1-rmse:326.31915\n",
      "[73]\tvalidation_0-rmse:328.80310\tvalidation_1-rmse:325.27841\n",
      "[74]\tvalidation_0-rmse:327.49320\tvalidation_1-rmse:324.28290\n",
      "[75]\tvalidation_0-rmse:326.20932\tvalidation_1-rmse:323.26874\n",
      "[76]\tvalidation_0-rmse:324.94800\tvalidation_1-rmse:322.24414\n",
      "[77]\tvalidation_0-rmse:323.70145\tvalidation_1-rmse:321.26526\n",
      "[78]\tvalidation_0-rmse:322.45105\tvalidation_1-rmse:320.29718\n",
      "[79]\tvalidation_0-rmse:321.26752\tvalidation_1-rmse:319.38577\n",
      "[80]\tvalidation_0-rmse:320.13843\tvalidation_1-rmse:318.51291\n",
      "[81]\tvalidation_0-rmse:319.02722\tvalidation_1-rmse:317.64481\n",
      "[82]\tvalidation_0-rmse:317.84589\tvalidation_1-rmse:316.78888\n",
      "[83]\tvalidation_0-rmse:316.78861\tvalidation_1-rmse:315.91296\n",
      "[84]\tvalidation_0-rmse:315.63879\tvalidation_1-rmse:315.02118\n",
      "[85]\tvalidation_0-rmse:314.61627\tvalidation_1-rmse:314.18362\n",
      "[86]\tvalidation_0-rmse:313.61111\tvalidation_1-rmse:313.29428\n",
      "[87]\tvalidation_0-rmse:312.52692\tvalidation_1-rmse:312.44428\n",
      "[88]\tvalidation_0-rmse:311.43323\tvalidation_1-rmse:311.63107\n",
      "[89]\tvalidation_0-rmse:310.38245\tvalidation_1-rmse:310.77359\n",
      "[90]\tvalidation_0-rmse:309.47235\tvalidation_1-rmse:309.99347\n",
      "[91]\tvalidation_0-rmse:308.46689\tvalidation_1-rmse:309.23801\n",
      "[92]\tvalidation_0-rmse:307.58243\tvalidation_1-rmse:308.49869\n",
      "[93]\tvalidation_0-rmse:306.61102\tvalidation_1-rmse:307.72946\n",
      "[94]\tvalidation_0-rmse:305.65067\tvalidation_1-rmse:306.99405\n",
      "[95]\tvalidation_0-rmse:304.80490\tvalidation_1-rmse:306.28317\n",
      "[96]\tvalidation_0-rmse:303.86728\tvalidation_1-rmse:305.54456\n",
      "[97]\tvalidation_0-rmse:303.04135\tvalidation_1-rmse:304.84699\n",
      "[98]\tvalidation_0-rmse:302.13092\tvalidation_1-rmse:304.14429\n",
      "[99]\tvalidation_0-rmse:301.24063\tvalidation_1-rmse:303.42416\n",
      "[100]\tvalidation_0-rmse:300.45322\tvalidation_1-rmse:302.73428\n",
      "[101]\tvalidation_0-rmse:299.50726\tvalidation_1-rmse:301.97531\n",
      "[102]\tvalidation_0-rmse:298.53839\tvalidation_1-rmse:301.12631\n",
      "[103]\tvalidation_0-rmse:297.78449\tvalidation_1-rmse:300.48190\n",
      "[104]\tvalidation_0-rmse:296.84732\tvalidation_1-rmse:299.68732\n",
      "[105]\tvalidation_0-rmse:295.91498\tvalidation_1-rmse:298.85770\n",
      "[106]\tvalidation_0-rmse:295.03302\tvalidation_1-rmse:298.15335\n",
      "[107]\tvalidation_0-rmse:294.31906\tvalidation_1-rmse:297.54541\n",
      "[108]\tvalidation_0-rmse:293.45767\tvalidation_1-rmse:296.88541\n",
      "[109]\tvalidation_0-rmse:292.58237\tvalidation_1-rmse:296.12186\n",
      "[110]\tvalidation_0-rmse:291.89700\tvalidation_1-rmse:295.54388\n",
      "[111]\tvalidation_0-rmse:291.08582\tvalidation_1-rmse:294.94739\n",
      "[112]\tvalidation_0-rmse:290.23672\tvalidation_1-rmse:294.19321\n",
      "[113]\tvalidation_0-rmse:289.28769\tvalidation_1-rmse:293.50641\n",
      "[114]\tvalidation_0-rmse:288.35471\tvalidation_1-rmse:292.82916\n",
      "[115]\tvalidation_0-rmse:287.43613\tvalidation_1-rmse:292.08423\n",
      "[116]\tvalidation_0-rmse:286.53330\tvalidation_1-rmse:291.43454\n",
      "[117]\tvalidation_0-rmse:285.64414\tvalidation_1-rmse:290.68527\n",
      "[118]\tvalidation_0-rmse:285.02872\tvalidation_1-rmse:290.16141\n",
      "[119]\tvalidation_0-rmse:284.16122\tvalidation_1-rmse:289.55991\n",
      "[120]\tvalidation_0-rmse:283.30756\tvalidation_1-rmse:288.94244\n",
      "[121]\tvalidation_0-rmse:282.46722\tvalidation_1-rmse:288.35611\n",
      "[122]\tvalidation_0-rmse:281.64133\tvalidation_1-rmse:287.74518\n",
      "[123]\tvalidation_0-rmse:281.06509\tvalidation_1-rmse:287.26413\n",
      "[124]\tvalidation_0-rmse:280.26288\tvalidation_1-rmse:286.75711\n",
      "[125]\tvalidation_0-rmse:279.47189\tvalidation_1-rmse:286.14999\n",
      "[126]\tvalidation_0-rmse:278.69177\tvalidation_1-rmse:285.61319\n",
      "[127]\tvalidation_0-rmse:278.14383\tvalidation_1-rmse:285.10730\n",
      "[128]\tvalidation_0-rmse:277.38159\tvalidation_1-rmse:284.54163\n",
      "[129]\tvalidation_0-rmse:276.72916\tvalidation_1-rmse:284.06699\n",
      "[130]\tvalidation_0-rmse:275.98825\tvalidation_1-rmse:283.54614\n",
      "[131]\tvalidation_0-rmse:275.25263\tvalidation_1-rmse:283.01785\n",
      "[132]\tvalidation_0-rmse:274.53751\tvalidation_1-rmse:282.49570\n"
     ]
    },
    {
     "name": "stdout",
     "output_type": "stream",
     "text": [
      "[133]\tvalidation_0-rmse:274.04163\tvalidation_1-rmse:282.07739\n",
      "[134]\tvalidation_0-rmse:273.34161\tvalidation_1-rmse:281.58978\n",
      "[135]\tvalidation_0-rmse:272.67877\tvalidation_1-rmse:281.14023\n",
      "[136]\tvalidation_0-rmse:272.02487\tvalidation_1-rmse:280.62317\n",
      "[137]\tvalidation_0-rmse:271.56467\tvalidation_1-rmse:280.22330\n",
      "[138]\tvalidation_0-rmse:270.92706\tvalidation_1-rmse:279.72443\n",
      "[139]\tvalidation_0-rmse:270.36472\tvalidation_1-rmse:279.27664\n",
      "[140]\tvalidation_0-rmse:269.74063\tvalidation_1-rmse:278.81021\n",
      "[141]\tvalidation_0-rmse:269.12763\tvalidation_1-rmse:278.29114\n",
      "[142]\tvalidation_0-rmse:268.49548\tvalidation_1-rmse:277.79336\n",
      "[143]\tvalidation_0-rmse:267.93692\tvalidation_1-rmse:277.39548\n",
      "[144]\tvalidation_0-rmse:267.33578\tvalidation_1-rmse:276.95035\n",
      "[145]\tvalidation_0-rmse:266.75037\tvalidation_1-rmse:276.46609\n",
      "[146]\tvalidation_0-rmse:266.17471\tvalidation_1-rmse:275.99063\n",
      "[147]\tvalidation_0-rmse:265.64404\tvalidation_1-rmse:275.61487\n",
      "[148]\tvalidation_0-rmse:265.08270\tvalidation_1-rmse:275.13831\n",
      "[149]\tvalidation_0-rmse:264.49359\tvalidation_1-rmse:274.63803\n",
      "[150]\tvalidation_0-rmse:263.98337\tvalidation_1-rmse:274.28360\n",
      "[151]\tvalidation_0-rmse:263.44165\tvalidation_1-rmse:273.82468\n",
      "[152]\tvalidation_0-rmse:262.96195\tvalidation_1-rmse:273.50815\n",
      "[153]\tvalidation_0-rmse:262.39923\tvalidation_1-rmse:273.02258\n",
      "[154]\tvalidation_0-rmse:261.91608\tvalidation_1-rmse:272.68887\n",
      "[155]\tvalidation_0-rmse:261.35593\tvalidation_1-rmse:272.17462\n",
      "[156]\tvalidation_0-rmse:260.93738\tvalidation_1-rmse:271.80814\n",
      "[157]\tvalidation_0-rmse:260.42304\tvalidation_1-rmse:271.33411\n",
      "[158]\tvalidation_0-rmse:259.90872\tvalidation_1-rmse:270.89084\n",
      "[159]\tvalidation_0-rmse:259.50507\tvalidation_1-rmse:270.53702\n",
      "[160]\tvalidation_0-rmse:259.10837\tvalidation_1-rmse:270.19907\n",
      "[161]\tvalidation_0-rmse:258.58517\tvalidation_1-rmse:269.73642\n",
      "[162]\tvalidation_0-rmse:258.10736\tvalidation_1-rmse:269.35321\n",
      "[163]\tvalidation_0-rmse:257.72797\tvalidation_1-rmse:269.03079\n",
      "[164]\tvalidation_0-rmse:257.22263\tvalidation_1-rmse:268.57846\n",
      "[165]\tvalidation_0-rmse:256.83264\tvalidation_1-rmse:268.26651\n",
      "[166]\tvalidation_0-rmse:256.38995\tvalidation_1-rmse:267.89410\n",
      "[167]\tvalidation_0-rmse:255.88135\tvalidation_1-rmse:267.47379\n",
      "[168]\tvalidation_0-rmse:255.51051\tvalidation_1-rmse:267.15500\n",
      "[169]\tvalidation_0-rmse:255.09308\tvalidation_1-rmse:266.79098\n",
      "[170]\tvalidation_0-rmse:254.64441\tvalidation_1-rmse:266.38132\n",
      "[171]\tvalidation_0-rmse:254.29324\tvalidation_1-rmse:266.10138\n",
      "[172]\tvalidation_0-rmse:253.95332\tvalidation_1-rmse:265.81287\n",
      "[173]\tvalidation_0-rmse:253.55388\tvalidation_1-rmse:265.46451\n",
      "[174]\tvalidation_0-rmse:253.09184\tvalidation_1-rmse:265.07400\n",
      "[175]\tvalidation_0-rmse:252.76746\tvalidation_1-rmse:264.83063\n",
      "[176]\tvalidation_0-rmse:252.38145\tvalidation_1-rmse:264.49750\n",
      "[177]\tvalidation_0-rmse:251.93877\tvalidation_1-rmse:264.12741\n",
      "[178]\tvalidation_0-rmse:251.62999\tvalidation_1-rmse:263.87024\n",
      "[179]\tvalidation_0-rmse:251.32378\tvalidation_1-rmse:263.62845\n",
      "[180]\tvalidation_0-rmse:250.95531\tvalidation_1-rmse:263.30966\n",
      "[181]\tvalidation_0-rmse:250.51079\tvalidation_1-rmse:262.90802\n",
      "[182]\tvalidation_0-rmse:250.21118\tvalidation_1-rmse:262.65299\n",
      "[183]\tvalidation_0-rmse:249.78706\tvalidation_1-rmse:262.26434\n",
      "[184]\tvalidation_0-rmse:249.48590\tvalidation_1-rmse:262.00171\n",
      "[185]\tvalidation_0-rmse:249.10873\tvalidation_1-rmse:261.66623\n",
      "[186]\tvalidation_0-rmse:248.69934\tvalidation_1-rmse:261.31561\n",
      "[187]\tvalidation_0-rmse:248.42616\tvalidation_1-rmse:261.09689\n",
      "[188]\tvalidation_0-rmse:248.14824\tvalidation_1-rmse:260.87082\n",
      "[189]\tvalidation_0-rmse:247.79195\tvalidation_1-rmse:260.55924\n",
      "[190]\tvalidation_0-rmse:247.38455\tvalidation_1-rmse:260.19040\n",
      "[191]\tvalidation_0-rmse:247.12633\tvalidation_1-rmse:259.98248\n",
      "[192]\tvalidation_0-rmse:246.78230\tvalidation_1-rmse:259.69037\n",
      "[193]\tvalidation_0-rmse:246.40353\tvalidation_1-rmse:259.36075\n",
      "[194]\tvalidation_0-rmse:246.13556\tvalidation_1-rmse:259.13614\n",
      "[195]\tvalidation_0-rmse:245.87750\tvalidation_1-rmse:258.91977\n",
      "[196]\tvalidation_0-rmse:245.54723\tvalidation_1-rmse:258.62082\n",
      "[197]\tvalidation_0-rmse:245.17990\tvalidation_1-rmse:258.30667\n",
      "[198]\tvalidation_0-rmse:244.92496\tvalidation_1-rmse:258.11252\n",
      "[199]\tvalidation_0-rmse:244.60588\tvalidation_1-rmse:257.83240\n",
      "[200]\tvalidation_0-rmse:244.25046\tvalidation_1-rmse:257.51779\n",
      "[201]\tvalidation_0-rmse:243.95714\tvalidation_1-rmse:257.26773\n",
      "[202]\tvalidation_0-rmse:243.73633\tvalidation_1-rmse:257.08539\n",
      "[203]\tvalidation_0-rmse:243.42783\tvalidation_1-rmse:256.81043\n",
      "[204]\tvalidation_0-rmse:243.12534\tvalidation_1-rmse:256.52905\n",
      "[205]\tvalidation_0-rmse:242.78571\tvalidation_1-rmse:256.23096\n",
      "[206]\tvalidation_0-rmse:242.58075\tvalidation_1-rmse:256.05887\n",
      "[207]\tvalidation_0-rmse:242.28737\tvalidation_1-rmse:255.81262\n",
      "[208]\tvalidation_0-rmse:242.01514\tvalidation_1-rmse:255.58102\n",
      "[209]\tvalidation_0-rmse:241.72354\tvalidation_1-rmse:255.34457\n",
      "[210]\tvalidation_0-rmse:241.40739\tvalidation_1-rmse:255.05057\n",
      "[211]\tvalidation_0-rmse:241.21884\tvalidation_1-rmse:254.88557\n",
      "[212]\tvalidation_0-rmse:240.93674\tvalidation_1-rmse:254.65709\n",
      "[213]\tvalidation_0-rmse:240.66283\tvalidation_1-rmse:254.44076\n",
      "[214]\tvalidation_0-rmse:240.35985\tvalidation_1-rmse:254.16142\n",
      "[215]\tvalidation_0-rmse:240.17610\tvalidation_1-rmse:254.00682\n",
      "[216]\tvalidation_0-rmse:239.90183\tvalidation_1-rmse:253.79332\n",
      "[217]\tvalidation_0-rmse:239.60776\tvalidation_1-rmse:253.51843\n",
      "[218]\tvalidation_0-rmse:239.43060\tvalidation_1-rmse:253.36429\n",
      "[219]\tvalidation_0-rmse:239.13464\tvalidation_1-rmse:253.11616\n",
      "[220]\tvalidation_0-rmse:238.87560\tvalidation_1-rmse:252.87918\n",
      "[221]\tvalidation_0-rmse:238.59485\tvalidation_1-rmse:252.61948\n",
      "[222]\tvalidation_0-rmse:238.34158\tvalidation_1-rmse:252.40932\n",
      "[223]\tvalidation_0-rmse:238.11768\tvalidation_1-rmse:252.25316\n",
      "[224]\tvalidation_0-rmse:237.84271\tvalidation_1-rmse:251.99364\n",
      "[225]\tvalidation_0-rmse:237.63586\tvalidation_1-rmse:251.83098\n",
      "[226]\tvalidation_0-rmse:237.40210\tvalidation_1-rmse:251.63324\n",
      "[227]\tvalidation_0-rmse:237.20016\tvalidation_1-rmse:251.47517\n",
      "[228]\tvalidation_0-rmse:236.95840\tvalidation_1-rmse:251.26451\n",
      "[229]\tvalidation_0-rmse:236.76000\tvalidation_1-rmse:251.09966\n",
      "[230]\tvalidation_0-rmse:236.52649\tvalidation_1-rmse:250.89883\n",
      "[231]\tvalidation_0-rmse:236.33270\tvalidation_1-rmse:250.73767\n",
      "[232]\tvalidation_0-rmse:236.06586\tvalidation_1-rmse:250.50829\n",
      "[233]\tvalidation_0-rmse:235.90477\tvalidation_1-rmse:250.38626\n",
      "[234]\tvalidation_0-rmse:235.67754\tvalidation_1-rmse:250.19878\n",
      "[235]\tvalidation_0-rmse:235.41859\tvalidation_1-rmse:249.97584\n",
      "[236]\tvalidation_0-rmse:235.23865\tvalidation_1-rmse:249.82915\n",
      "[237]\tvalidation_0-rmse:234.99641\tvalidation_1-rmse:249.64694\n",
      "[238]\tvalidation_0-rmse:234.77623\tvalidation_1-rmse:249.46007\n",
      "[239]\tvalidation_0-rmse:234.60007\tvalidation_1-rmse:249.30110\n",
      "[240]\tvalidation_0-rmse:234.39671\tvalidation_1-rmse:249.12906\n",
      "[241]\tvalidation_0-rmse:234.22929\tvalidation_1-rmse:248.99126\n",
      "[242]\tvalidation_0-rmse:234.05806\tvalidation_1-rmse:248.87411\n",
      "[243]\tvalidation_0-rmse:233.80168\tvalidation_1-rmse:248.72104\n",
      "[244]\tvalidation_0-rmse:233.64032\tvalidation_1-rmse:248.58841\n",
      "[245]\tvalidation_0-rmse:233.41965\tvalidation_1-rmse:248.44118\n",
      "[246]\tvalidation_0-rmse:233.21890\tvalidation_1-rmse:248.27593\n",
      "[247]\tvalidation_0-rmse:233.06163\tvalidation_1-rmse:248.14954\n",
      "[248]\tvalidation_0-rmse:232.85782\tvalidation_1-rmse:247.97440\n",
      "[249]\tvalidation_0-rmse:232.67555\tvalidation_1-rmse:247.84758\n",
      "[250]\tvalidation_0-rmse:232.47632\tvalidation_1-rmse:247.68475\n",
      "[251]\tvalidation_0-rmse:232.34168\tvalidation_1-rmse:247.55777\n",
      "[252]\tvalidation_0-rmse:232.19531\tvalidation_1-rmse:247.41647\n",
      "[253]\tvalidation_0-rmse:232.02446\tvalidation_1-rmse:247.27588\n",
      "[254]\tvalidation_0-rmse:231.78532\tvalidation_1-rmse:247.14210\n",
      "[255]\tvalidation_0-rmse:231.56519\tvalidation_1-rmse:246.93785\n",
      "[256]\tvalidation_0-rmse:231.43936\tvalidation_1-rmse:246.81799\n",
      "[257]\tvalidation_0-rmse:231.20670\tvalidation_1-rmse:246.68864\n",
      "[258]\tvalidation_0-rmse:231.02245\tvalidation_1-rmse:246.54201\n",
      "[259]\tvalidation_0-rmse:230.87993\tvalidation_1-rmse:246.39264\n",
      "[260]\tvalidation_0-rmse:230.75604\tvalidation_1-rmse:246.26749\n",
      "[261]\tvalidation_0-rmse:230.63623\tvalidation_1-rmse:246.15266\n",
      "[262]\tvalidation_0-rmse:230.41045\tvalidation_1-rmse:246.02164\n",
      "[263]\tvalidation_0-rmse:230.19411\tvalidation_1-rmse:245.79835\n",
      "[264]\tvalidation_0-rmse:230.05586\tvalidation_1-rmse:245.66115\n",
      "[265]\tvalidation_0-rmse:229.83754\tvalidation_1-rmse:245.53415\n"
     ]
    },
    {
     "name": "stdout",
     "output_type": "stream",
     "text": [
      "[266]\tvalidation_0-rmse:229.64835\tvalidation_1-rmse:245.36923\n",
      "[267]\tvalidation_0-rmse:229.46725\tvalidation_1-rmse:245.25128\n",
      "[268]\tvalidation_0-rmse:229.33617\tvalidation_1-rmse:245.11621\n",
      "[269]\tvalidation_0-rmse:229.20775\tvalidation_1-rmse:244.97980\n",
      "[270]\tvalidation_0-rmse:229.06877\tvalidation_1-rmse:244.87181\n",
      "[271]\tvalidation_0-rmse:228.85721\tvalidation_1-rmse:244.74795\n",
      "[272]\tvalidation_0-rmse:228.67660\tvalidation_1-rmse:244.59384\n",
      "[273]\tvalidation_0-rmse:228.54108\tvalidation_1-rmse:244.45523\n",
      "[274]\tvalidation_0-rmse:228.33809\tvalidation_1-rmse:244.35941\n",
      "[275]\tvalidation_0-rmse:228.13353\tvalidation_1-rmse:244.14651\n",
      "[276]\tvalidation_0-rmse:227.93745\tvalidation_1-rmse:243.98198\n",
      "[277]\tvalidation_0-rmse:227.75261\tvalidation_1-rmse:243.89172\n",
      "[278]\tvalidation_0-rmse:227.58160\tvalidation_1-rmse:243.73979\n",
      "[279]\tvalidation_0-rmse:227.38815\tvalidation_1-rmse:243.54022\n",
      "[280]\tvalidation_0-rmse:227.22574\tvalidation_1-rmse:243.40460\n",
      "[281]\tvalidation_0-rmse:227.07469\tvalidation_1-rmse:243.28334\n",
      "[282]\tvalidation_0-rmse:226.94897\tvalidation_1-rmse:243.14252\n",
      "[283]\tvalidation_0-rmse:226.75632\tvalidation_1-rmse:243.00595\n",
      "[284]\tvalidation_0-rmse:226.59889\tvalidation_1-rmse:242.87373\n",
      "[285]\tvalidation_0-rmse:226.41838\tvalidation_1-rmse:242.75214\n",
      "[286]\tvalidation_0-rmse:226.33633\tvalidation_1-rmse:242.67134\n",
      "[287]\tvalidation_0-rmse:226.17531\tvalidation_1-rmse:242.54559\n",
      "[288]\tvalidation_0-rmse:226.02438\tvalidation_1-rmse:242.38275\n",
      "[289]\tvalidation_0-rmse:225.87972\tvalidation_1-rmse:242.30250\n",
      "[290]\tvalidation_0-rmse:225.73421\tvalidation_1-rmse:242.18610\n",
      "[291]\tvalidation_0-rmse:225.58723\tvalidation_1-rmse:242.06619\n",
      "[292]\tvalidation_0-rmse:225.44560\tvalidation_1-rmse:241.98714\n",
      "[293]\tvalidation_0-rmse:225.34488\tvalidation_1-rmse:241.86763\n",
      "[294]\tvalidation_0-rmse:225.20535\tvalidation_1-rmse:241.78433\n",
      "[295]\tvalidation_0-rmse:225.06657\tvalidation_1-rmse:241.65366\n",
      "[296]\tvalidation_0-rmse:224.87250\tvalidation_1-rmse:241.50792\n",
      "[297]\tvalidation_0-rmse:224.68207\tvalidation_1-rmse:241.33688\n",
      "[298]\tvalidation_0-rmse:224.53870\tvalidation_1-rmse:241.24805\n",
      "[299]\tvalidation_0-rmse:224.40413\tvalidation_1-rmse:241.14177\n",
      "[300]\tvalidation_0-rmse:224.27045\tvalidation_1-rmse:241.01779\n",
      "[301]\tvalidation_0-rmse:224.08505\tvalidation_1-rmse:240.87707\n",
      "[302]\tvalidation_0-rmse:223.90532\tvalidation_1-rmse:240.81830\n",
      "[303]\tvalidation_0-rmse:223.76556\tvalidation_1-rmse:240.70322\n",
      "[304]\tvalidation_0-rmse:223.63683\tvalidation_1-rmse:240.62662\n",
      "[305]\tvalidation_0-rmse:223.50768\tvalidation_1-rmse:240.50415\n",
      "[306]\tvalidation_0-rmse:223.30632\tvalidation_1-rmse:240.32051\n",
      "[307]\tvalidation_0-rmse:223.12784\tvalidation_1-rmse:240.18526\n",
      "[308]\tvalidation_0-rmse:222.95396\tvalidation_1-rmse:240.12972\n",
      "[309]\tvalidation_0-rmse:222.82771\tvalidation_1-rmse:240.00925\n",
      "[310]\tvalidation_0-rmse:222.63235\tvalidation_1-rmse:239.83272\n",
      "[311]\tvalidation_0-rmse:222.53603\tvalidation_1-rmse:239.73010\n",
      "[312]\tvalidation_0-rmse:222.36624\tvalidation_1-rmse:239.67654\n",
      "[313]\tvalidation_0-rmse:222.28044\tvalidation_1-rmse:239.59801\n",
      "[314]\tvalidation_0-rmse:222.18704\tvalidation_1-rmse:239.53636\n",
      "[315]\tvalidation_0-rmse:222.06661\tvalidation_1-rmse:239.42256\n",
      "[316]\tvalidation_0-rmse:221.90126\tvalidation_1-rmse:239.37105\n",
      "[317]\tvalidation_0-rmse:221.80104\tvalidation_1-rmse:239.30391\n",
      "[318]\tvalidation_0-rmse:221.63734\tvalidation_1-rmse:239.21588\n",
      "[319]\tvalidation_0-rmse:221.51038\tvalidation_1-rmse:239.07910\n",
      "[320]\tvalidation_0-rmse:221.37735\tvalidation_1-rmse:238.99205\n",
      "[321]\tvalidation_0-rmse:221.19196\tvalidation_1-rmse:238.82506\n",
      "[322]\tvalidation_0-rmse:221.06879\tvalidation_1-rmse:238.72266\n",
      "[323]\tvalidation_0-rmse:220.98151\tvalidation_1-rmse:238.65042\n",
      "[324]\tvalidation_0-rmse:220.90100\tvalidation_1-rmse:238.57408\n",
      "[325]\tvalidation_0-rmse:220.72212\tvalidation_1-rmse:238.41376\n",
      "[326]\tvalidation_0-rmse:220.62797\tvalidation_1-rmse:238.35065\n",
      "[327]\tvalidation_0-rmse:220.53459\tvalidation_1-rmse:238.28111\n",
      "[328]\tvalidation_0-rmse:220.42841\tvalidation_1-rmse:238.18308\n",
      "[329]\tvalidation_0-rmse:220.32375\tvalidation_1-rmse:238.05171\n",
      "[330]\tvalidation_0-rmse:220.16797\tvalidation_1-rmse:238.00607\n",
      "[331]\tvalidation_0-rmse:220.06529\tvalidation_1-rmse:237.91130\n",
      "[332]\tvalidation_0-rmse:219.91258\tvalidation_1-rmse:237.86694\n",
      "[333]\tvalidation_0-rmse:219.76868\tvalidation_1-rmse:237.77464\n",
      "[334]\tvalidation_0-rmse:219.65770\tvalidation_1-rmse:237.64404\n",
      "[335]\tvalidation_0-rmse:219.52416\tvalidation_1-rmse:237.55838\n",
      "[336]\tvalidation_0-rmse:219.42726\tvalidation_1-rmse:237.46909\n",
      "[337]\tvalidation_0-rmse:219.26923\tvalidation_1-rmse:237.35321\n",
      "[338]\tvalidation_0-rmse:219.13339\tvalidation_1-rmse:237.26463\n",
      "[339]\tvalidation_0-rmse:218.97996\tvalidation_1-rmse:237.10448\n",
      "[340]\tvalidation_0-rmse:218.81576\tvalidation_1-rmse:236.96403\n",
      "[341]\tvalidation_0-rmse:218.66423\tvalidation_1-rmse:236.85399\n",
      "[342]\tvalidation_0-rmse:218.57892\tvalidation_1-rmse:236.78253\n",
      "[343]\tvalidation_0-rmse:218.41890\tvalidation_1-rmse:236.65289\n",
      "[344]\tvalidation_0-rmse:218.32730\tvalidation_1-rmse:236.56661\n",
      "[345]\tvalidation_0-rmse:218.18378\tvalidation_1-rmse:236.52383\n",
      "[346]\tvalidation_0-rmse:218.09464\tvalidation_1-rmse:236.44914\n",
      "[347]\tvalidation_0-rmse:217.95204\tvalidation_1-rmse:236.39438\n",
      "[348]\tvalidation_0-rmse:217.87415\tvalidation_1-rmse:236.31047\n",
      "[349]\tvalidation_0-rmse:217.73454\tvalidation_1-rmse:236.25671\n",
      "[350]\tvalidation_0-rmse:217.58607\tvalidation_1-rmse:236.17366\n",
      "[351]\tvalidation_0-rmse:217.44544\tvalidation_1-rmse:236.09682\n",
      "[352]\tvalidation_0-rmse:217.36154\tvalidation_1-rmse:236.01497\n",
      "[353]\tvalidation_0-rmse:217.21588\tvalidation_1-rmse:235.91232\n",
      "[354]\tvalidation_0-rmse:217.07346\tvalidation_1-rmse:235.83269\n",
      "[355]\tvalidation_0-rmse:216.92798\tvalidation_1-rmse:235.73598\n",
      "[356]\tvalidation_0-rmse:216.78438\tvalidation_1-rmse:235.60735\n",
      "[357]\tvalidation_0-rmse:216.70148\tvalidation_1-rmse:235.54669\n",
      "[358]\tvalidation_0-rmse:216.56406\tvalidation_1-rmse:235.40981\n",
      "[359]\tvalidation_0-rmse:216.43118\tvalidation_1-rmse:235.37300\n",
      "[360]\tvalidation_0-rmse:216.34732\tvalidation_1-rmse:235.29208\n",
      "[361]\tvalidation_0-rmse:216.26498\tvalidation_1-rmse:235.21376\n",
      "[362]\tvalidation_0-rmse:216.13411\tvalidation_1-rmse:235.16910\n",
      "[363]\tvalidation_0-rmse:216.05672\tvalidation_1-rmse:235.08934\n",
      "[364]\tvalidation_0-rmse:215.92726\tvalidation_1-rmse:235.03651\n",
      "[365]\tvalidation_0-rmse:215.79271\tvalidation_1-rmse:234.97417\n",
      "[366]\tvalidation_0-rmse:215.71451\tvalidation_1-rmse:234.89168\n",
      "[367]\tvalidation_0-rmse:215.63254\tvalidation_1-rmse:234.80603\n",
      "[368]\tvalidation_0-rmse:215.50632\tvalidation_1-rmse:234.75934\n",
      "[369]\tvalidation_0-rmse:215.37501\tvalidation_1-rmse:234.69936\n",
      "[370]\tvalidation_0-rmse:215.29901\tvalidation_1-rmse:234.61906\n",
      "[371]\tvalidation_0-rmse:215.16638\tvalidation_1-rmse:234.52913\n",
      "[372]\tvalidation_0-rmse:215.03815\tvalidation_1-rmse:234.46002\n",
      "[373]\tvalidation_0-rmse:214.90858\tvalidation_1-rmse:234.37521\n",
      "[374]\tvalidation_0-rmse:214.83748\tvalidation_1-rmse:234.32408\n",
      "[375]\tvalidation_0-rmse:214.70155\tvalidation_1-rmse:234.21503\n",
      "[376]\tvalidation_0-rmse:214.55057\tvalidation_1-rmse:234.14174\n",
      "[377]\tvalidation_0-rmse:214.47926\tvalidation_1-rmse:234.09181\n",
      "[378]\tvalidation_0-rmse:214.40283\tvalidation_1-rmse:234.03729\n",
      "[379]\tvalidation_0-rmse:214.26601\tvalidation_1-rmse:233.92593\n",
      "[380]\tvalidation_0-rmse:214.11862\tvalidation_1-rmse:233.86610\n",
      "[381]\tvalidation_0-rmse:214.04582\tvalidation_1-rmse:233.79295\n",
      "[382]\tvalidation_0-rmse:213.94147\tvalidation_1-rmse:233.74589\n",
      "[383]\tvalidation_0-rmse:213.82491\tvalidation_1-rmse:233.69653\n",
      "[384]\tvalidation_0-rmse:213.75868\tvalidation_1-rmse:233.63124\n",
      "[385]\tvalidation_0-rmse:213.68810\tvalidation_1-rmse:233.58464\n",
      "[386]\tvalidation_0-rmse:213.55545\tvalidation_1-rmse:233.46143\n",
      "[387]\tvalidation_0-rmse:213.41881\tvalidation_1-rmse:233.38661\n",
      "[388]\tvalidation_0-rmse:213.30598\tvalidation_1-rmse:233.34035\n",
      "[389]\tvalidation_0-rmse:213.23640\tvalidation_1-rmse:233.27008\n",
      "[390]\tvalidation_0-rmse:213.11505\tvalidation_1-rmse:233.17926\n",
      "[391]\tvalidation_0-rmse:212.98967\tvalidation_1-rmse:233.10518\n",
      "[392]\tvalidation_0-rmse:212.92042\tvalidation_1-rmse:233.06209\n",
      "[393]\tvalidation_0-rmse:212.79071\tvalidation_1-rmse:232.99062\n",
      "[394]\tvalidation_0-rmse:212.72264\tvalidation_1-rmse:232.94634\n",
      "[395]\tvalidation_0-rmse:212.59421\tvalidation_1-rmse:232.87775\n",
      "[396]\tvalidation_0-rmse:212.49944\tvalidation_1-rmse:232.82007\n",
      "[397]\tvalidation_0-rmse:212.39584\tvalidation_1-rmse:232.72589\n",
      "[398]\tvalidation_0-rmse:212.33377\tvalidation_1-rmse:232.66394\n"
     ]
    },
    {
     "name": "stdout",
     "output_type": "stream",
     "text": [
      "[399]\tvalidation_0-rmse:212.22878\tvalidation_1-rmse:232.62317\n",
      "[400]\tvalidation_0-rmse:212.11383\tvalidation_1-rmse:232.53548\n",
      "[401]\tvalidation_0-rmse:212.02432\tvalidation_1-rmse:232.48975\n",
      "[402]\tvalidation_0-rmse:211.88982\tvalidation_1-rmse:232.40495\n",
      "[403]\tvalidation_0-rmse:211.77805\tvalidation_1-rmse:232.32088\n",
      "[404]\tvalidation_0-rmse:211.64653\tvalidation_1-rmse:232.22728\n",
      "[405]\tvalidation_0-rmse:211.52635\tvalidation_1-rmse:232.15732\n",
      "[406]\tvalidation_0-rmse:211.44237\tvalidation_1-rmse:232.05261\n",
      "[407]\tvalidation_0-rmse:211.38001\tvalidation_1-rmse:232.01077\n",
      "[408]\tvalidation_0-rmse:211.27193\tvalidation_1-rmse:231.97049\n",
      "[409]\tvalidation_0-rmse:211.17316\tvalidation_1-rmse:231.88258\n",
      "[410]\tvalidation_0-rmse:211.06523\tvalidation_1-rmse:231.79881\n",
      "[411]\tvalidation_0-rmse:210.96881\tvalidation_1-rmse:231.70749\n",
      "[412]\tvalidation_0-rmse:210.86160\tvalidation_1-rmse:231.62608\n",
      "[413]\tvalidation_0-rmse:210.73469\tvalidation_1-rmse:231.59874\n",
      "[414]\tvalidation_0-rmse:210.63002\tvalidation_1-rmse:231.56099\n",
      "[415]\tvalidation_0-rmse:210.52571\tvalidation_1-rmse:231.48323\n",
      "[416]\tvalidation_0-rmse:210.42896\tvalidation_1-rmse:231.38765\n",
      "[417]\tvalidation_0-rmse:210.32585\tvalidation_1-rmse:231.31223\n",
      "[418]\tvalidation_0-rmse:210.21246\tvalidation_1-rmse:231.23231\n",
      "[419]\tvalidation_0-rmse:210.11072\tvalidation_1-rmse:231.19594\n",
      "[420]\tvalidation_0-rmse:210.01897\tvalidation_1-rmse:231.11160\n",
      "[421]\tvalidation_0-rmse:209.96135\tvalidation_1-rmse:231.05264\n",
      "[422]\tvalidation_0-rmse:209.86316\tvalidation_1-rmse:230.98018\n",
      "[423]\tvalidation_0-rmse:209.76662\tvalidation_1-rmse:230.89572\n",
      "[424]\tvalidation_0-rmse:209.66753\tvalidation_1-rmse:230.86446\n",
      "[425]\tvalidation_0-rmse:209.55858\tvalidation_1-rmse:230.78897\n",
      "[426]\tvalidation_0-rmse:209.46464\tvalidation_1-rmse:230.69827\n",
      "[427]\tvalidation_0-rmse:209.37317\tvalidation_1-rmse:230.64531\n",
      "[428]\tvalidation_0-rmse:209.27072\tvalidation_1-rmse:230.58050\n",
      "[429]\tvalidation_0-rmse:209.17255\tvalidation_1-rmse:230.55428\n",
      "[430]\tvalidation_0-rmse:209.07655\tvalidation_1-rmse:230.46164\n",
      "[431]\tvalidation_0-rmse:208.98624\tvalidation_1-rmse:230.37921\n",
      "[432]\tvalidation_0-rmse:208.93138\tvalidation_1-rmse:230.32500\n",
      "[433]\tvalidation_0-rmse:208.83098\tvalidation_1-rmse:230.26041\n",
      "[434]\tvalidation_0-rmse:208.74489\tvalidation_1-rmse:230.20349\n",
      "[435]\tvalidation_0-rmse:208.66534\tvalidation_1-rmse:230.14478\n",
      "[436]\tvalidation_0-rmse:208.57297\tvalidation_1-rmse:230.05626\n",
      "[437]\tvalidation_0-rmse:208.51952\tvalidation_1-rmse:230.01726\n",
      "[438]\tvalidation_0-rmse:208.43895\tvalidation_1-rmse:229.94615\n",
      "[439]\tvalidation_0-rmse:208.35841\tvalidation_1-rmse:229.87295\n",
      "[440]\tvalidation_0-rmse:208.26839\tvalidation_1-rmse:229.84834\n",
      "[441]\tvalidation_0-rmse:208.17723\tvalidation_1-rmse:229.79138\n",
      "[442]\tvalidation_0-rmse:208.09538\tvalidation_1-rmse:229.71086\n",
      "[443]\tvalidation_0-rmse:208.04373\tvalidation_1-rmse:229.66048\n",
      "[444]\tvalidation_0-rmse:207.95891\tvalidation_1-rmse:229.54575\n",
      "[445]\tvalidation_0-rmse:207.88209\tvalidation_1-rmse:229.47780\n",
      "[446]\tvalidation_0-rmse:207.83174\tvalidation_1-rmse:229.42647\n",
      "[447]\tvalidation_0-rmse:207.74385\tvalidation_1-rmse:229.39149\n",
      "[448]\tvalidation_0-rmse:207.66142\tvalidation_1-rmse:229.28564\n",
      "[449]\tvalidation_0-rmse:207.58873\tvalidation_1-rmse:229.22371\n",
      "[450]\tvalidation_0-rmse:207.53993\tvalidation_1-rmse:229.17331\n",
      "[451]\tvalidation_0-rmse:207.45935\tvalidation_1-rmse:229.06380\n",
      "[452]\tvalidation_0-rmse:207.35313\tvalidation_1-rmse:229.04875\n",
      "[453]\tvalidation_0-rmse:207.30547\tvalidation_1-rmse:228.99635\n",
      "[454]\tvalidation_0-rmse:207.22058\tvalidation_1-rmse:228.93877\n",
      "[455]\tvalidation_0-rmse:207.14192\tvalidation_1-rmse:228.83723\n",
      "[456]\tvalidation_0-rmse:207.08870\tvalidation_1-rmse:228.78990\n",
      "[457]\tvalidation_0-rmse:207.01183\tvalidation_1-rmse:228.68471\n",
      "[458]\tvalidation_0-rmse:206.90337\tvalidation_1-rmse:228.67966\n",
      "[459]\tvalidation_0-rmse:206.82079\tvalidation_1-rmse:228.62364\n",
      "[460]\tvalidation_0-rmse:206.76895\tvalidation_1-rmse:228.57667\n",
      "[461]\tvalidation_0-rmse:206.69853\tvalidation_1-rmse:228.51263\n",
      "[462]\tvalidation_0-rmse:206.62363\tvalidation_1-rmse:228.40976\n",
      "[463]\tvalidation_0-rmse:206.57205\tvalidation_1-rmse:228.36208\n",
      "[464]\tvalidation_0-rmse:206.46909\tvalidation_1-rmse:228.36189\n",
      "[465]\tvalidation_0-rmse:206.42191\tvalidation_1-rmse:228.32445\n",
      "[466]\tvalidation_0-rmse:206.36786\tvalidation_1-rmse:228.27589\n",
      "[467]\tvalidation_0-rmse:206.28859\tvalidation_1-rmse:228.24696\n",
      "[468]\tvalidation_0-rmse:206.21561\tvalidation_1-rmse:228.14580\n",
      "[469]\tvalidation_0-rmse:206.16640\tvalidation_1-rmse:228.10187\n",
      "[470]\tvalidation_0-rmse:206.09531\tvalidation_1-rmse:228.01381\n",
      "[471]\tvalidation_0-rmse:206.01971\tvalidation_1-rmse:227.94694\n",
      "[472]\tvalidation_0-rmse:205.92891\tvalidation_1-rmse:227.90161\n",
      "[473]\tvalidation_0-rmse:205.88171\tvalidation_1-rmse:227.85678\n",
      "[474]\tvalidation_0-rmse:205.81477\tvalidation_1-rmse:227.78349\n",
      "[475]\tvalidation_0-rmse:205.74118\tvalidation_1-rmse:227.74216\n",
      "[476]\tvalidation_0-rmse:205.68758\tvalidation_1-rmse:227.71277\n",
      "[477]\tvalidation_0-rmse:205.61852\tvalidation_1-rmse:227.62474\n",
      "[478]\tvalidation_0-rmse:205.54683\tvalidation_1-rmse:227.58458\n",
      "[479]\tvalidation_0-rmse:205.41625\tvalidation_1-rmse:227.54826\n",
      "[480]\tvalidation_0-rmse:205.35646\tvalidation_1-rmse:227.48598\n",
      "[481]\tvalidation_0-rmse:205.26965\tvalidation_1-rmse:227.42903\n",
      "[482]\tvalidation_0-rmse:205.20563\tvalidation_1-rmse:227.40297\n",
      "[483]\tvalidation_0-rmse:205.15977\tvalidation_1-rmse:227.35722\n",
      "[484]\tvalidation_0-rmse:205.09639\tvalidation_1-rmse:227.30988\n",
      "[485]\tvalidation_0-rmse:205.01183\tvalidation_1-rmse:227.24680\n",
      "[486]\tvalidation_0-rmse:204.94952\tvalidation_1-rmse:227.22186\n",
      "[487]\tvalidation_0-rmse:204.86559\tvalidation_1-rmse:227.17174\n",
      "[488]\tvalidation_0-rmse:204.81955\tvalidation_1-rmse:227.13663\n",
      "[489]\tvalidation_0-rmse:204.75867\tvalidation_1-rmse:227.09602\n",
      "[490]\tvalidation_0-rmse:204.69220\tvalidation_1-rmse:227.05968\n",
      "[491]\tvalidation_0-rmse:204.61874\tvalidation_1-rmse:227.00635\n",
      "[492]\tvalidation_0-rmse:204.55772\tvalidation_1-rmse:226.95317\n",
      "[493]\tvalidation_0-rmse:204.48320\tvalidation_1-rmse:226.88774\n",
      "[494]\tvalidation_0-rmse:204.43930\tvalidation_1-rmse:226.84554\n",
      "[495]\tvalidation_0-rmse:204.38896\tvalidation_1-rmse:226.80177\n",
      "[496]\tvalidation_0-rmse:204.31691\tvalidation_1-rmse:226.74970\n",
      "[497]\tvalidation_0-rmse:204.24905\tvalidation_1-rmse:226.70877\n",
      "[498]\tvalidation_0-rmse:204.18478\tvalidation_1-rmse:226.67398\n",
      "[499]\tvalidation_0-rmse:204.12505\tvalidation_1-rmse:226.65022\n"
     ]
    },
    {
     "data": {
      "text/plain": [
       "XGBRegressor(base_score=0.5, booster='gbtree', colsample_bylevel=1,\n",
       "             colsample_bynode=1, colsample_bytree=1, gamma=0, gpu_id=-1,\n",
       "             importance_type='gain', interaction_constraints='',\n",
       "             learning_rate=0.01, max_delta_step=0, max_depth=6,\n",
       "             min_child_weight=1, missing=nan, monotone_constraints='()',\n",
       "             n_estimators=500, n_jobs=8, num_parallel_tree=1, random_state=0,\n",
       "             reg_alpha=0, reg_lambda=1, scale_pos_weight=1, subsample=1,\n",
       "             tree_method='exact', validate_parameters=1, verbosity=None)"
      ]
     },
     "execution_count": 21,
     "metadata": {},
     "output_type": "execute_result"
    }
   ],
   "source": [
    "reg = XGBRegressor(n_estimators=500, learning_rate=0.01)\n",
    "reg.fit(train_split_x,train_split_y,        \n",
    "        eval_set=[(train_split_x,train_split_y), (test_split_x, test_split_y)],)\n",
    "#        eval_metric='mae')"
   ]
  },
  {
   "cell_type": "code",
   "execution_count": 22,
   "metadata": {
    "colab": {
     "base_uri": "https://localhost:8080/"
    },
    "executionInfo": {
     "elapsed": 1652,
     "status": "ok",
     "timestamp": 1627752756639,
     "user": {
      "displayName": "Adithya Krishna",
      "photoUrl": "",
      "userId": "14433587602683209861"
     },
     "user_tz": -120
    },
    "id": "UyRmMfLzkbNQ",
    "outputId": "353f316f-dc38-400b-b566-5f28a36054dd"
   },
   "outputs": [
    {
     "name": "stdout",
     "output_type": "stream",
     "text": [
      "RMSLE: 75.66849939844735\n"
     ]
    }
   ],
   "source": [
    "y_pred = reg.predict(test_split_x)\n",
    "y_pred[y_pred<0] = 0 \n",
    "from sklearn import metrics \n",
    "print('RMSLE:', 100*np.sqrt(metrics.mean_squared_log_error(test_split_y, y_pred)))"
   ]
  },
  {
   "cell_type": "markdown",
   "metadata": {
    "id": "3Ym3rxGhKhck"
   },
   "source": [
    "GradientBoosting"
   ]
  },
  {
   "cell_type": "code",
   "execution_count": null,
   "metadata": {
    "id": "cV2eTe6BmY9v"
   },
   "outputs": [],
   "source": [
    "from sklearn.datasets import make_regression\n",
    "from sklearn.ensemble import GradientBoostingRegressor\n",
    "\n",
    "reg = GradientBoostingRegressor(random_state=0)\n",
    "reg.fit(train_split_x,train_split_y)\n",
    "y_pred = reg.predict(test_split_x)\n",
    "print('Score: ', reg.score(test_split_x, test_split_y))\n",
    "\n",
    "y_pred[y_pred<0] = 0 \n",
    "from sklearn import metrics \n",
    "print('RMSLE:', 100*np.sqrt(metrics.mean_squared_log_error(test_split_y, y_pred)))"
   ]
  },
  {
   "cell_type": "markdown",
   "metadata": {
    "id": "cmucoy2rKs8d"
   },
   "source": [
    "DecisionTree"
   ]
  },
  {
   "cell_type": "code",
   "execution_count": null,
   "metadata": {
    "id": "HXvwvdxEoBZc"
   },
   "outputs": [],
   "source": [
    "from sklearn.tree import DecisionTreeRegressor\n",
    "\n",
    "reg = DecisionTreeRegressor(random_state=0)\n",
    "reg.fit(train_split_x,train_split_y)\n",
    "y_pred = reg.predict(test_split_x)\n",
    "print('Score: ', reg.score(test_split_x, test_split_y))\n",
    "\n",
    "y_pred[y_pred<0] = 0 \n",
    "from sklearn import metrics \n",
    "print('RMSLE:', 100*np.sqrt(metrics.mean_squared_log_error(test_split_y, y_pred)))"
   ]
  },
  {
   "cell_type": "markdown",
   "metadata": {
    "id": "IAhNPSlMKy8j"
   },
   "source": [
    "RandomForest"
   ]
  },
  {
   "cell_type": "code",
   "execution_count": null,
   "metadata": {
    "id": "hG6J5fo1KzGV"
   },
   "outputs": [],
   "source": [
    "from sklearn.ensemble import RandomForestRegressor\n",
    "\n",
    "reg = RandomForestRegressor(max_depth=2, random_state=0)\n",
    "reg.fit(train_split_x,train_split_y)\n",
    "y_pred = reg.predict(test_split_x)\n",
    "print('Score: ', reg.score(test_split_x, test_split_y))\n",
    "\n",
    "y_pred[y_pred<0] = 0 \n",
    "from sklearn import metrics \n",
    "print('RMSLE:', 100*np.sqrt(metrics.mean_squared_log_error(test_split_y, y_pred)))"
   ]
  },
  {
   "cell_type": "markdown",
   "metadata": {
    "id": "Rajf35tJK3y4"
   },
   "source": [
    "LightGBM"
   ]
  },
  {
   "cell_type": "code",
   "execution_count": null,
   "metadata": {
    "id": "SeSlWuFiK39W"
   },
   "outputs": [],
   "source": [
    "hyper_params = {\n",
    "    'task': 'train',\n",
    "    'boosting_type': 'gbdt',\n",
    "    'objective': 'regression',\n",
    "    'metric': ['l2', 'auc'],\n",
    "    'learning_rate': 0.005,\n",
    "    'feature_fraction': 0.9,\n",
    "    'bagging_fraction': 0.7,\n",
    "    'bagging_freq': 10,\n",
    "    'verbose': 0,\n",
    "    \"max_depth\": 8,\n",
    "    \"num_leaves\": 128,  \n",
    "    \"max_bin\": 512,\n",
    "    \"num_iterations\": 100000,\n",
    "    \"n_estimators\": 1000\n",
    "}\n",
    "\n",
    "gbm = lgb.LGBMRegressor(**hyper_params)\n",
    "gbm.fit(train_split_x,train_split_y,\n",
    "        eval_set=[(train_split_x,train_split_y), (test_split_x, test_split_y)],\n",
    "        early_stopping_rounds=1000)\n",
    "\n",
    "y_pred = gbm.predict(test_split_x)\n",
    "y_pred[y_pred<0] = 0 \n",
    "from sklearn import metrics \n",
    "print('RMSLE:', 100*np.sqrt(metrics.mean_squared_log_error(test_split_y, y_pred)))"
   ]
  },
  {
   "cell_type": "markdown",
   "metadata": {
    "id": "90kIq1ksoQyk"
   },
   "source": [
    "##FE"
   ]
  },
  {
   "cell_type": "code",
   "execution_count": 24,
   "metadata": {
    "colab": {
     "base_uri": "https://localhost:8080/"
    },
    "executionInfo": {
     "elapsed": 385868,
     "status": "ok",
     "timestamp": 1627765857550,
     "user": {
      "displayName": "Adithya Krishna",
      "photoUrl": "",
      "userId": "14433587602683209861"
     },
     "user_tz": -120
    },
    "id": "VFoL-nHjoF3W",
    "outputId": "ba56cc9d-354f-4b32-8fb7-596d8af96fe0"
   },
   "outputs": [
    {
     "name": "stdout",
     "output_type": "stream",
     "text": [
      "[0]\tvalidation_0-rmse:479.90753\tvalidation_1-rmse:439.22110\n",
      "[1]\tvalidation_0-rmse:477.08136\tvalidation_1-rmse:437.24368\n",
      "[2]\tvalidation_0-rmse:474.29392\tvalidation_1-rmse:435.29871\n",
      "[3]\tvalidation_0-rmse:471.55209\tvalidation_1-rmse:433.38309\n",
      "[4]\tvalidation_0-rmse:468.84418\tvalidation_1-rmse:431.50278\n",
      "[5]\tvalidation_0-rmse:466.17007\tvalidation_1-rmse:429.62903\n",
      "[6]\tvalidation_0-rmse:463.53720\tvalidation_1-rmse:427.80206\n",
      "[7]\tvalidation_0-rmse:460.94940\tvalidation_1-rmse:426.02911\n",
      "[8]\tvalidation_0-rmse:458.31720\tvalidation_1-rmse:424.02182\n",
      "[9]\tvalidation_0-rmse:455.72855\tvalidation_1-rmse:422.04639\n",
      "[10]\tvalidation_0-rmse:453.25287\tvalidation_1-rmse:420.37399\n",
      "[11]\tvalidation_0-rmse:450.72876\tvalidation_1-rmse:418.41669\n",
      "[12]\tvalidation_0-rmse:448.24207\tvalidation_1-rmse:416.52295\n",
      "[13]\tvalidation_0-rmse:445.86185\tvalidation_1-rmse:414.91235\n",
      "[14]\tvalidation_0-rmse:443.44705\tvalidation_1-rmse:413.09232\n",
      "[15]\tvalidation_0-rmse:441.06732\tvalidation_1-rmse:411.27316\n",
      "[16]\tvalidation_0-rmse:438.71222\tvalidation_1-rmse:409.52292\n",
      "[17]\tvalidation_0-rmse:436.40137\tvalidation_1-rmse:407.76080\n",
      "[18]\tvalidation_0-rmse:434.12668\tvalidation_1-rmse:406.05624\n",
      "[19]\tvalidation_0-rmse:431.88159\tvalidation_1-rmse:404.35226\n",
      "[20]\tvalidation_0-rmse:429.73453\tvalidation_1-rmse:402.94522\n",
      "[21]\tvalidation_0-rmse:427.55408\tvalidation_1-rmse:401.29343\n",
      "[22]\tvalidation_0-rmse:425.41132\tvalidation_1-rmse:399.69128\n",
      "[23]\tvalidation_0-rmse:423.35651\tvalidation_1-rmse:398.34430\n",
      "[24]\tvalidation_0-rmse:421.23789\tvalidation_1-rmse:396.75766\n",
      "[25]\tvalidation_0-rmse:419.15778\tvalidation_1-rmse:395.17151\n",
      "[26]\tvalidation_0-rmse:417.16541\tvalidation_1-rmse:393.55548\n",
      "[27]\tvalidation_0-rmse:415.20703\tvalidation_1-rmse:392.27536\n",
      "[28]\tvalidation_0-rmse:413.14587\tvalidation_1-rmse:390.58179\n",
      "[29]\tvalidation_0-rmse:411.26282\tvalidation_1-rmse:389.37225\n",
      "[30]\tvalidation_0-rmse:409.23459\tvalidation_1-rmse:387.68835\n",
      "[31]\tvalidation_0-rmse:407.27930\tvalidation_1-rmse:386.07199\n",
      "[32]\tvalidation_0-rmse:405.43295\tvalidation_1-rmse:384.85797\n",
      "[33]\tvalidation_0-rmse:403.64233\tvalidation_1-rmse:383.41797\n",
      "[34]\tvalidation_0-rmse:401.72201\tvalidation_1-rmse:381.81067\n",
      "[35]\tvalidation_0-rmse:399.99161\tvalidation_1-rmse:380.73654\n",
      "[36]\tvalidation_0-rmse:398.14618\tvalidation_1-rmse:379.20349\n",
      "[37]\tvalidation_0-rmse:396.41147\tvalidation_1-rmse:378.11783\n",
      "[38]\tvalidation_0-rmse:394.60159\tvalidation_1-rmse:376.62457\n",
      "[39]\tvalidation_0-rmse:392.90015\tvalidation_1-rmse:375.45758\n",
      "[40]\tvalidation_0-rmse:391.28082\tvalidation_1-rmse:374.32910\n",
      "[41]\tvalidation_0-rmse:389.61343\tvalidation_1-rmse:372.93399\n",
      "[42]\tvalidation_0-rmse:387.91507\tvalidation_1-rmse:371.54648\n",
      "[43]\tvalidation_0-rmse:386.30679\tvalidation_1-rmse:370.38199\n",
      "[44]\tvalidation_0-rmse:384.67899\tvalidation_1-rmse:369.03763\n",
      "[45]\tvalidation_0-rmse:383.08057\tvalidation_1-rmse:367.93060\n",
      "[46]\tvalidation_0-rmse:381.58133\tvalidation_1-rmse:366.92148\n",
      "[47]\tvalidation_0-rmse:380.05319\tvalidation_1-rmse:365.83051\n",
      "[48]\tvalidation_0-rmse:378.55124\tvalidation_1-rmse:364.76202\n",
      "[49]\tvalidation_0-rmse:376.99789\tvalidation_1-rmse:363.47794\n",
      "[50]\tvalidation_0-rmse:375.55743\tvalidation_1-rmse:362.47263\n",
      "[51]\tvalidation_0-rmse:374.17053\tvalidation_1-rmse:361.49997\n",
      "[52]\tvalidation_0-rmse:372.83847\tvalidation_1-rmse:360.57935\n",
      "[53]\tvalidation_0-rmse:371.49924\tvalidation_1-rmse:359.64343\n",
      "[54]\tvalidation_0-rmse:370.15659\tvalidation_1-rmse:358.74322\n",
      "[55]\tvalidation_0-rmse:368.76950\tvalidation_1-rmse:357.57687\n",
      "[56]\tvalidation_0-rmse:367.42645\tvalidation_1-rmse:356.65149\n",
      "[57]\tvalidation_0-rmse:366.11520\tvalidation_1-rmse:355.71384\n",
      "[58]\tvalidation_0-rmse:364.84323\tvalidation_1-rmse:354.86862\n",
      "[59]\tvalidation_0-rmse:363.53607\tvalidation_1-rmse:353.80633\n",
      "[60]\tvalidation_0-rmse:362.27564\tvalidation_1-rmse:352.90408\n",
      "[61]\tvalidation_0-rmse:361.04108\tvalidation_1-rmse:352.07446\n",
      "[62]\tvalidation_0-rmse:359.83673\tvalidation_1-rmse:351.22546\n",
      "[63]\tvalidation_0-rmse:358.66632\tvalidation_1-rmse:350.35214\n",
      "[64]\tvalidation_0-rmse:357.51398\tvalidation_1-rmse:349.51242\n",
      "[65]\tvalidation_0-rmse:356.30499\tvalidation_1-rmse:348.54980\n",
      "[66]\tvalidation_0-rmse:355.16986\tvalidation_1-rmse:347.75296\n",
      "[67]\tvalidation_0-rmse:354.02243\tvalidation_1-rmse:346.90476\n",
      "[68]\tvalidation_0-rmse:352.80890\tvalidation_1-rmse:346.01492\n",
      "[69]\tvalidation_0-rmse:351.71902\tvalidation_1-rmse:345.24030\n",
      "[70]\tvalidation_0-rmse:350.54230\tvalidation_1-rmse:344.37570\n",
      "[71]\tvalidation_0-rmse:349.46597\tvalidation_1-rmse:343.61340\n",
      "[72]\tvalidation_0-rmse:348.44400\tvalidation_1-rmse:342.93762\n",
      "[73]\tvalidation_0-rmse:347.39438\tvalidation_1-rmse:342.17084\n",
      "[74]\tvalidation_0-rmse:346.38043\tvalidation_1-rmse:341.48587\n",
      "[75]\tvalidation_0-rmse:345.34451\tvalidation_1-rmse:340.72397\n",
      "[76]\tvalidation_0-rmse:344.38461\tvalidation_1-rmse:340.09369\n",
      "[77]\tvalidation_0-rmse:343.34427\tvalidation_1-rmse:339.31619\n",
      "[78]\tvalidation_0-rmse:342.31754\tvalidation_1-rmse:338.55835\n",
      "[79]\tvalidation_0-rmse:341.47116\tvalidation_1-rmse:337.94577\n",
      "[80]\tvalidation_0-rmse:340.52759\tvalidation_1-rmse:337.29376\n",
      "[81]\tvalidation_0-rmse:339.61740\tvalidation_1-rmse:336.66446\n",
      "[82]\tvalidation_0-rmse:338.65082\tvalidation_1-rmse:335.90259\n",
      "[83]\tvalidation_0-rmse:337.75775\tvalidation_1-rmse:335.32074\n",
      "[84]\tvalidation_0-rmse:336.78738\tvalidation_1-rmse:334.62207\n",
      "[85]\tvalidation_0-rmse:336.00833\tvalidation_1-rmse:334.06735\n",
      "[86]\tvalidation_0-rmse:335.08505\tvalidation_1-rmse:333.32678\n",
      "[87]\tvalidation_0-rmse:334.15112\tvalidation_1-rmse:332.66177\n",
      "[88]\tvalidation_0-rmse:333.33108\tvalidation_1-rmse:332.10419\n",
      "[89]\tvalidation_0-rmse:332.58374\tvalidation_1-rmse:331.57590\n",
      "[90]\tvalidation_0-rmse:331.71652\tvalidation_1-rmse:330.91013\n",
      "[91]\tvalidation_0-rmse:330.88165\tvalidation_1-rmse:330.27805\n",
      "[92]\tvalidation_0-rmse:330.05969\tvalidation_1-rmse:329.67188\n",
      "[93]\tvalidation_0-rmse:329.20429\tvalidation_1-rmse:329.08728\n",
      "[94]\tvalidation_0-rmse:328.37924\tvalidation_1-rmse:328.55014\n",
      "[95]\tvalidation_0-rmse:327.67004\tvalidation_1-rmse:328.05130\n",
      "[96]\tvalidation_0-rmse:326.87363\tvalidation_1-rmse:327.46280\n",
      "[97]\tvalidation_0-rmse:326.20737\tvalidation_1-rmse:327.02127\n",
      "[98]\tvalidation_0-rmse:325.44986\tvalidation_1-rmse:326.45383\n",
      "[99]\tvalidation_0-rmse:324.69888\tvalidation_1-rmse:325.94916\n",
      "[100]\tvalidation_0-rmse:323.92807\tvalidation_1-rmse:325.43774\n",
      "[101]\tvalidation_0-rmse:323.18457\tvalidation_1-rmse:324.88657\n",
      "[102]\tvalidation_0-rmse:322.44165\tvalidation_1-rmse:324.41055\n",
      "[103]\tvalidation_0-rmse:321.74262\tvalidation_1-rmse:323.91977\n",
      "[104]\tvalidation_0-rmse:321.09439\tvalidation_1-rmse:323.42529\n",
      "[105]\tvalidation_0-rmse:320.43417\tvalidation_1-rmse:322.96097\n",
      "[106]\tvalidation_0-rmse:319.82089\tvalidation_1-rmse:322.52530\n",
      "[107]\tvalidation_0-rmse:319.17432\tvalidation_1-rmse:322.05142\n",
      "[108]\tvalidation_0-rmse:318.49988\tvalidation_1-rmse:321.55759\n",
      "[109]\tvalidation_0-rmse:317.87766\tvalidation_1-rmse:321.14291\n",
      "[110]\tvalidation_0-rmse:317.32880\tvalidation_1-rmse:320.78101\n",
      "[111]\tvalidation_0-rmse:316.70599\tvalidation_1-rmse:320.33621\n",
      "[112]\tvalidation_0-rmse:316.10291\tvalidation_1-rmse:319.95123\n",
      "[113]\tvalidation_0-rmse:315.51007\tvalidation_1-rmse:319.51392\n",
      "[114]\tvalidation_0-rmse:314.94156\tvalidation_1-rmse:319.14310\n",
      "[115]\tvalidation_0-rmse:314.41715\tvalidation_1-rmse:318.75967\n",
      "[116]\tvalidation_0-rmse:313.84351\tvalidation_1-rmse:318.29221\n",
      "[117]\tvalidation_0-rmse:313.25287\tvalidation_1-rmse:317.90250\n",
      "[118]\tvalidation_0-rmse:312.70557\tvalidation_1-rmse:317.49020\n",
      "[119]\tvalidation_0-rmse:312.17761\tvalidation_1-rmse:317.17322\n",
      "[120]\tvalidation_0-rmse:311.68942\tvalidation_1-rmse:316.83124\n",
      "[121]\tvalidation_0-rmse:311.15689\tvalidation_1-rmse:316.39865\n",
      "[122]\tvalidation_0-rmse:310.63626\tvalidation_1-rmse:316.01349\n",
      "[123]\tvalidation_0-rmse:310.05548\tvalidation_1-rmse:315.59396\n",
      "[124]\tvalidation_0-rmse:309.42322\tvalidation_1-rmse:315.13498\n",
      "[125]\tvalidation_0-rmse:308.86853\tvalidation_1-rmse:314.69858\n",
      "[126]\tvalidation_0-rmse:308.31516\tvalidation_1-rmse:314.24039\n",
      "[127]\tvalidation_0-rmse:307.71991\tvalidation_1-rmse:313.83499\n",
      "[128]\tvalidation_0-rmse:307.26148\tvalidation_1-rmse:313.49536\n",
      "[129]\tvalidation_0-rmse:306.73779\tvalidation_1-rmse:313.13431\n",
      "[130]\tvalidation_0-rmse:306.13629\tvalidation_1-rmse:312.69510\n",
      "[131]\tvalidation_0-rmse:305.66892\tvalidation_1-rmse:312.34964\n",
      "[132]\tvalidation_0-rmse:305.16632\tvalidation_1-rmse:311.95917\n",
      "[133]\tvalidation_0-rmse:304.64868\tvalidation_1-rmse:311.58704\n"
     ]
    },
    {
     "name": "stdout",
     "output_type": "stream",
     "text": [
      "[134]\tvalidation_0-rmse:304.13992\tvalidation_1-rmse:311.22199\n",
      "[135]\tvalidation_0-rmse:303.64389\tvalidation_1-rmse:310.85413\n",
      "[136]\tvalidation_0-rmse:303.14993\tvalidation_1-rmse:310.49448\n",
      "[137]\tvalidation_0-rmse:302.66385\tvalidation_1-rmse:310.14722\n",
      "[138]\tvalidation_0-rmse:302.19229\tvalidation_1-rmse:309.84967\n",
      "[139]\tvalidation_0-rmse:301.65128\tvalidation_1-rmse:309.40930\n",
      "[140]\tvalidation_0-rmse:301.18829\tvalidation_1-rmse:309.07278\n",
      "[141]\tvalidation_0-rmse:300.73514\tvalidation_1-rmse:308.78775\n",
      "[142]\tvalidation_0-rmse:300.27179\tvalidation_1-rmse:308.48984\n",
      "[143]\tvalidation_0-rmse:299.82562\tvalidation_1-rmse:308.14456\n",
      "[144]\tvalidation_0-rmse:299.36905\tvalidation_1-rmse:307.85687\n",
      "[145]\tvalidation_0-rmse:298.97965\tvalidation_1-rmse:307.56775\n",
      "[146]\tvalidation_0-rmse:298.56436\tvalidation_1-rmse:307.29907\n",
      "[147]\tvalidation_0-rmse:298.15878\tvalidation_1-rmse:306.99701\n",
      "[148]\tvalidation_0-rmse:297.78918\tvalidation_1-rmse:306.78021\n",
      "[149]\tvalidation_0-rmse:297.39249\tvalidation_1-rmse:306.51389\n",
      "[150]\tvalidation_0-rmse:296.99017\tvalidation_1-rmse:306.19397\n",
      "[151]\tvalidation_0-rmse:296.58093\tvalidation_1-rmse:305.93582\n",
      "[152]\tvalidation_0-rmse:296.23840\tvalidation_1-rmse:305.69367\n",
      "[153]\tvalidation_0-rmse:295.85504\tvalidation_1-rmse:305.42248\n",
      "[154]\tvalidation_0-rmse:295.48743\tvalidation_1-rmse:305.17410\n",
      "[155]\tvalidation_0-rmse:295.12341\tvalidation_1-rmse:304.93964\n",
      "[156]\tvalidation_0-rmse:294.77057\tvalidation_1-rmse:304.69775\n",
      "[157]\tvalidation_0-rmse:294.40570\tvalidation_1-rmse:304.46817\n",
      "[158]\tvalidation_0-rmse:294.02008\tvalidation_1-rmse:304.20264\n",
      "[159]\tvalidation_0-rmse:293.67658\tvalidation_1-rmse:303.98206\n",
      "[160]\tvalidation_0-rmse:293.26392\tvalidation_1-rmse:303.69900\n",
      "[161]\tvalidation_0-rmse:292.91293\tvalidation_1-rmse:303.47217\n",
      "[162]\tvalidation_0-rmse:292.57871\tvalidation_1-rmse:303.21335\n",
      "[163]\tvalidation_0-rmse:292.23892\tvalidation_1-rmse:303.00201\n",
      "[164]\tvalidation_0-rmse:291.88477\tvalidation_1-rmse:302.78165\n",
      "[165]\tvalidation_0-rmse:291.59384\tvalidation_1-rmse:302.60071\n",
      "[166]\tvalidation_0-rmse:291.27176\tvalidation_1-rmse:302.37091\n",
      "[167]\tvalidation_0-rmse:290.93048\tvalidation_1-rmse:302.16498\n",
      "[168]\tvalidation_0-rmse:290.54739\tvalidation_1-rmse:301.91095\n",
      "[169]\tvalidation_0-rmse:290.22171\tvalidation_1-rmse:301.63791\n",
      "[170]\tvalidation_0-rmse:289.91541\tvalidation_1-rmse:301.41717\n",
      "[171]\tvalidation_0-rmse:289.51077\tvalidation_1-rmse:301.12253\n",
      "[172]\tvalidation_0-rmse:289.23901\tvalidation_1-rmse:300.91183\n",
      "[173]\tvalidation_0-rmse:288.84534\tvalidation_1-rmse:300.62360\n",
      "[174]\tvalidation_0-rmse:288.57156\tvalidation_1-rmse:300.41168\n",
      "[175]\tvalidation_0-rmse:288.25470\tvalidation_1-rmse:300.17963\n",
      "[176]\tvalidation_0-rmse:287.87613\tvalidation_1-rmse:299.90350\n",
      "[177]\tvalidation_0-rmse:287.60263\tvalidation_1-rmse:299.70190\n",
      "[178]\tvalidation_0-rmse:287.23462\tvalidation_1-rmse:299.43292\n",
      "[179]\tvalidation_0-rmse:286.97659\tvalidation_1-rmse:299.24655\n",
      "[180]\tvalidation_0-rmse:286.71924\tvalidation_1-rmse:299.05408\n",
      "[181]\tvalidation_0-rmse:286.36295\tvalidation_1-rmse:298.79257\n",
      "[182]\tvalidation_0-rmse:286.12155\tvalidation_1-rmse:298.61822\n",
      "[183]\tvalidation_0-rmse:285.77026\tvalidation_1-rmse:298.36365\n",
      "[184]\tvalidation_0-rmse:285.53803\tvalidation_1-rmse:298.17401\n",
      "[185]\tvalidation_0-rmse:285.31180\tvalidation_1-rmse:297.95364\n",
      "[186]\tvalidation_0-rmse:284.97559\tvalidation_1-rmse:297.71252\n",
      "[187]\tvalidation_0-rmse:284.72839\tvalidation_1-rmse:297.50324\n",
      "[188]\tvalidation_0-rmse:284.40082\tvalidation_1-rmse:297.27261\n",
      "[189]\tvalidation_0-rmse:284.17783\tvalidation_1-rmse:297.13953\n",
      "[190]\tvalidation_0-rmse:283.85428\tvalidation_1-rmse:296.90625\n",
      "[191]\tvalidation_0-rmse:283.64169\tvalidation_1-rmse:296.73318\n",
      "[192]\tvalidation_0-rmse:283.39444\tvalidation_1-rmse:296.49698\n",
      "[193]\tvalidation_0-rmse:283.08118\tvalidation_1-rmse:296.27670\n",
      "[194]\tvalidation_0-rmse:282.89652\tvalidation_1-rmse:296.14301\n",
      "[195]\tvalidation_0-rmse:282.58826\tvalidation_1-rmse:295.93353\n",
      "[196]\tvalidation_0-rmse:282.38977\tvalidation_1-rmse:295.78754\n",
      "[197]\tvalidation_0-rmse:282.08777\tvalidation_1-rmse:295.55267\n",
      "[198]\tvalidation_0-rmse:281.88931\tvalidation_1-rmse:295.39685\n",
      "[199]\tvalidation_0-rmse:281.58871\tvalidation_1-rmse:295.20490\n",
      "[200]\tvalidation_0-rmse:281.29929\tvalidation_1-rmse:294.98508\n",
      "[201]\tvalidation_0-rmse:281.07532\tvalidation_1-rmse:294.80188\n",
      "[202]\tvalidation_0-rmse:280.79129\tvalidation_1-rmse:294.59598\n",
      "[203]\tvalidation_0-rmse:280.57178\tvalidation_1-rmse:294.41834\n",
      "[204]\tvalidation_0-rmse:280.29510\tvalidation_1-rmse:294.19495\n",
      "[205]\tvalidation_0-rmse:280.05234\tvalidation_1-rmse:293.95371\n",
      "[206]\tvalidation_0-rmse:279.78046\tvalidation_1-rmse:293.74304\n",
      "[207]\tvalidation_0-rmse:279.61325\tvalidation_1-rmse:293.62180\n",
      "[208]\tvalidation_0-rmse:279.34314\tvalidation_1-rmse:293.47226\n",
      "[209]\tvalidation_0-rmse:279.10821\tvalidation_1-rmse:293.23834\n",
      "[210]\tvalidation_0-rmse:278.84818\tvalidation_1-rmse:293.04089\n",
      "[211]\tvalidation_0-rmse:278.58859\tvalidation_1-rmse:292.89758\n",
      "[212]\tvalidation_0-rmse:278.40189\tvalidation_1-rmse:292.74713\n",
      "[213]\tvalidation_0-rmse:278.15106\tvalidation_1-rmse:292.54385\n",
      "[214]\tvalidation_0-rmse:277.81988\tvalidation_1-rmse:292.22275\n",
      "[215]\tvalidation_0-rmse:277.60168\tvalidation_1-rmse:292.04181\n",
      "[216]\tvalidation_0-rmse:277.35770\tvalidation_1-rmse:291.85898\n",
      "[217]\tvalidation_0-rmse:277.16305\tvalidation_1-rmse:291.67191\n",
      "[218]\tvalidation_0-rmse:276.83752\tvalidation_1-rmse:291.36276\n",
      "[219]\tvalidation_0-rmse:276.66315\tvalidation_1-rmse:291.22348\n",
      "[220]\tvalidation_0-rmse:276.42691\tvalidation_1-rmse:291.03693\n",
      "[221]\tvalidation_0-rmse:276.19525\tvalidation_1-rmse:290.88431\n",
      "[222]\tvalidation_0-rmse:275.88196\tvalidation_1-rmse:290.58862\n",
      "[223]\tvalidation_0-rmse:275.67749\tvalidation_1-rmse:290.41928\n",
      "[224]\tvalidation_0-rmse:275.45105\tvalidation_1-rmse:290.23804\n",
      "[225]\tvalidation_0-rmse:275.31027\tvalidation_1-rmse:290.13995\n",
      "[226]\tvalidation_0-rmse:275.00702\tvalidation_1-rmse:289.85489\n",
      "[227]\tvalidation_0-rmse:274.80392\tvalidation_1-rmse:289.64850\n",
      "[228]\tvalidation_0-rmse:274.58514\tvalidation_1-rmse:289.48804\n",
      "[229]\tvalidation_0-rmse:274.30603\tvalidation_1-rmse:289.23163\n",
      "[230]\tvalidation_0-rmse:274.13196\tvalidation_1-rmse:289.10117\n",
      "[231]\tvalidation_0-rmse:273.92178\tvalidation_1-rmse:288.93137\n",
      "[232]\tvalidation_0-rmse:273.73157\tvalidation_1-rmse:288.77426\n",
      "[233]\tvalidation_0-rmse:273.44162\tvalidation_1-rmse:288.50104\n",
      "[234]\tvalidation_0-rmse:273.17725\tvalidation_1-rmse:288.25598\n",
      "[235]\tvalidation_0-rmse:273.03332\tvalidation_1-rmse:288.15677\n",
      "[236]\tvalidation_0-rmse:272.83273\tvalidation_1-rmse:287.95547\n",
      "[237]\tvalidation_0-rmse:272.63141\tvalidation_1-rmse:287.78030\n",
      "[238]\tvalidation_0-rmse:272.49115\tvalidation_1-rmse:287.68930\n",
      "[239]\tvalidation_0-rmse:272.27591\tvalidation_1-rmse:287.55273\n",
      "[240]\tvalidation_0-rmse:272.10834\tvalidation_1-rmse:287.41064\n",
      "[241]\tvalidation_0-rmse:271.84280\tvalidation_1-rmse:287.08139\n",
      "[242]\tvalidation_0-rmse:271.58221\tvalidation_1-rmse:286.75800\n",
      "[243]\tvalidation_0-rmse:271.39676\tvalidation_1-rmse:286.59430\n",
      "[244]\tvalidation_0-rmse:271.14139\tvalidation_1-rmse:286.34161\n",
      "[245]\tvalidation_0-rmse:270.92758\tvalidation_1-rmse:286.23001\n",
      "[246]\tvalidation_0-rmse:270.67719\tvalidation_1-rmse:285.92163\n",
      "[247]\tvalidation_0-rmse:270.43155\tvalidation_1-rmse:285.67816\n",
      "[248]\tvalidation_0-rmse:270.26358\tvalidation_1-rmse:285.52795\n",
      "[249]\tvalidation_0-rmse:270.02167\tvalidation_1-rmse:285.21475\n",
      "[250]\tvalidation_0-rmse:269.86603\tvalidation_1-rmse:285.12988\n",
      "[251]\tvalidation_0-rmse:269.68185\tvalidation_1-rmse:284.96429\n",
      "[252]\tvalidation_0-rmse:269.44656\tvalidation_1-rmse:284.73462\n",
      "[253]\tvalidation_0-rmse:269.26282\tvalidation_1-rmse:284.57016\n",
      "[254]\tvalidation_0-rmse:269.07965\tvalidation_1-rmse:284.49933\n",
      "[255]\tvalidation_0-rmse:268.92017\tvalidation_1-rmse:284.40582\n",
      "[256]\tvalidation_0-rmse:268.68945\tvalidation_1-rmse:284.10406\n",
      "[257]\tvalidation_0-rmse:268.51532\tvalidation_1-rmse:283.95221\n",
      "[258]\tvalidation_0-rmse:268.36816\tvalidation_1-rmse:283.87476\n",
      "[259]\tvalidation_0-rmse:268.18884\tvalidation_1-rmse:283.70639\n",
      "[260]\tvalidation_0-rmse:268.02664\tvalidation_1-rmse:283.60965\n",
      "[261]\tvalidation_0-rmse:267.85098\tvalidation_1-rmse:283.44128\n",
      "[262]\tvalidation_0-rmse:267.62750\tvalidation_1-rmse:283.16940\n",
      "[263]\tvalidation_0-rmse:267.46375\tvalidation_1-rmse:283.02145\n",
      "[264]\tvalidation_0-rmse:267.28290\tvalidation_1-rmse:282.96612\n",
      "[265]\tvalidation_0-rmse:267.06384\tvalidation_1-rmse:282.73959\n",
      "[266]\tvalidation_0-rmse:266.89548\tvalidation_1-rmse:282.57996\n",
      "[267]\tvalidation_0-rmse:266.73209\tvalidation_1-rmse:282.47803\n",
      "[268]\tvalidation_0-rmse:266.51807\tvalidation_1-rmse:282.22247\n",
      "[269]\tvalidation_0-rmse:266.35422\tvalidation_1-rmse:282.06348\n",
      "[270]\tvalidation_0-rmse:266.19531\tvalidation_1-rmse:281.96350\n",
      "[271]\tvalidation_0-rmse:266.03751\tvalidation_1-rmse:281.81851\n",
      "[272]\tvalidation_0-rmse:265.86084\tvalidation_1-rmse:281.61758\n",
      "[273]\tvalidation_0-rmse:265.67358\tvalidation_1-rmse:281.49936\n",
      "[274]\tvalidation_0-rmse:265.52097\tvalidation_1-rmse:281.35550\n",
      "[275]\tvalidation_0-rmse:265.37167\tvalidation_1-rmse:281.26611\n",
      "[276]\tvalidation_0-rmse:265.18838\tvalidation_1-rmse:281.15817\n",
      "[277]\tvalidation_0-rmse:265.03391\tvalidation_1-rmse:281.01019\n",
      "[278]\tvalidation_0-rmse:264.88336\tvalidation_1-rmse:280.91611\n",
      "[279]\tvalidation_0-rmse:264.70966\tvalidation_1-rmse:280.72070\n",
      "[280]\tvalidation_0-rmse:264.53101\tvalidation_1-rmse:280.60773\n",
      "[281]\tvalidation_0-rmse:264.38367\tvalidation_1-rmse:280.47241\n",
      "[282]\tvalidation_0-rmse:264.23712\tvalidation_1-rmse:280.38107\n",
      "[283]\tvalidation_0-rmse:264.09021\tvalidation_1-rmse:280.23926\n",
      "[284]\tvalidation_0-rmse:263.94961\tvalidation_1-rmse:280.15668\n",
      "[285]\tvalidation_0-rmse:263.77420\tvalidation_1-rmse:280.05429\n",
      "[286]\tvalidation_0-rmse:263.60699\tvalidation_1-rmse:279.87598\n",
      "[287]\tvalidation_0-rmse:263.46365\tvalidation_1-rmse:279.74115\n",
      "[288]\tvalidation_0-rmse:263.30060\tvalidation_1-rmse:279.65924\n",
      "[289]\tvalidation_0-rmse:263.12936\tvalidation_1-rmse:279.55106\n",
      "[290]\tvalidation_0-rmse:262.94455\tvalidation_1-rmse:279.42154\n",
      "[291]\tvalidation_0-rmse:262.80707\tvalidation_1-rmse:279.29166\n",
      "[292]\tvalidation_0-rmse:262.63937\tvalidation_1-rmse:279.19369\n",
      "[293]\tvalidation_0-rmse:262.48138\tvalidation_1-rmse:279.11682\n",
      "[294]\tvalidation_0-rmse:262.35162\tvalidation_1-rmse:278.99268\n",
      "[295]\tvalidation_0-rmse:262.18597\tvalidation_1-rmse:278.89026\n",
      "[296]\tvalidation_0-rmse:262.02551\tvalidation_1-rmse:278.72537\n",
      "[297]\tvalidation_0-rmse:261.89108\tvalidation_1-rmse:278.59857\n",
      "[298]\tvalidation_0-rmse:261.73944\tvalidation_1-rmse:278.47873\n",
      "[299]\tvalidation_0-rmse:261.56970\tvalidation_1-rmse:278.33682\n",
      "[300]\tvalidation_0-rmse:261.43613\tvalidation_1-rmse:278.26807\n",
      "[301]\tvalidation_0-rmse:261.28064\tvalidation_1-rmse:278.16406\n",
      "[302]\tvalidation_0-rmse:261.10458\tvalidation_1-rmse:278.04141\n",
      "[303]\tvalidation_0-rmse:260.96976\tvalidation_1-rmse:277.91363\n",
      "[304]\tvalidation_0-rmse:260.82391\tvalidation_1-rmse:277.83371\n",
      "[305]\tvalidation_0-rmse:260.67163\tvalidation_1-rmse:277.73248\n",
      "[306]\tvalidation_0-rmse:260.53983\tvalidation_1-rmse:277.60877\n",
      "[307]\tvalidation_0-rmse:260.39911\tvalidation_1-rmse:277.53409\n",
      "[308]\tvalidation_0-rmse:260.25003\tvalidation_1-rmse:277.43591\n",
      "[309]\tvalidation_0-rmse:260.12088\tvalidation_1-rmse:277.31610\n",
      "[310]\tvalidation_0-rmse:259.96228\tvalidation_1-rmse:277.20309\n",
      "[311]\tvalidation_0-rmse:259.81647\tvalidation_1-rmse:277.10553\n",
      "[312]\tvalidation_0-rmse:259.69183\tvalidation_1-rmse:277.03735\n",
      "[313]\tvalidation_0-rmse:259.56549\tvalidation_1-rmse:276.91931\n",
      "[314]\tvalidation_0-rmse:259.42999\tvalidation_1-rmse:276.84808\n",
      "[315]\tvalidation_0-rmse:259.27615\tvalidation_1-rmse:276.71988\n",
      "[316]\tvalidation_0-rmse:259.14059\tvalidation_1-rmse:276.62707\n",
      "[317]\tvalidation_0-rmse:258.98956\tvalidation_1-rmse:276.49170\n",
      "[318]\tvalidation_0-rmse:258.83923\tvalidation_1-rmse:276.36447\n",
      "[319]\tvalidation_0-rmse:258.70664\tvalidation_1-rmse:276.27319\n",
      "[320]\tvalidation_0-rmse:258.55527\tvalidation_1-rmse:276.15665\n",
      "[321]\tvalidation_0-rmse:258.39786\tvalidation_1-rmse:276.04098\n",
      "[322]\tvalidation_0-rmse:258.27621\tvalidation_1-rmse:275.92529\n",
      "[323]\tvalidation_0-rmse:258.14859\tvalidation_1-rmse:275.83606\n",
      "[324]\tvalidation_0-rmse:258.00281\tvalidation_1-rmse:275.70725\n",
      "[325]\tvalidation_0-rmse:257.85590\tvalidation_1-rmse:275.59012\n",
      "[326]\tvalidation_0-rmse:257.72141\tvalidation_1-rmse:275.50449\n",
      "[327]\tvalidation_0-rmse:257.57791\tvalidation_1-rmse:275.37891\n",
      "[328]\tvalidation_0-rmse:257.43426\tvalidation_1-rmse:275.26886\n",
      "[329]\tvalidation_0-rmse:257.28439\tvalidation_1-rmse:275.16135\n",
      "[330]\tvalidation_0-rmse:257.15393\tvalidation_1-rmse:275.05768\n",
      "[331]\tvalidation_0-rmse:257.01294\tvalidation_1-rmse:274.95163\n",
      "[332]\tvalidation_0-rmse:256.87964\tvalidation_1-rmse:274.86169\n",
      "[333]\tvalidation_0-rmse:256.74106\tvalidation_1-rmse:274.75473\n",
      "[334]\tvalidation_0-rmse:256.60321\tvalidation_1-rmse:274.64206\n",
      "[335]\tvalidation_0-rmse:256.48267\tvalidation_1-rmse:274.52963\n",
      "[336]\tvalidation_0-rmse:256.35538\tvalidation_1-rmse:274.44815\n",
      "[337]\tvalidation_0-rmse:256.22330\tvalidation_1-rmse:274.35519\n",
      "[338]\tvalidation_0-rmse:256.09448\tvalidation_1-rmse:274.26431\n",
      "[339]\tvalidation_0-rmse:255.95772\tvalidation_1-rmse:274.15695\n",
      "[340]\tvalidation_0-rmse:255.82832\tvalidation_1-rmse:274.06900\n",
      "[341]\tvalidation_0-rmse:255.70197\tvalidation_1-rmse:273.97839\n",
      "[342]\tvalidation_0-rmse:255.56857\tvalidation_1-rmse:273.88043\n",
      "[343]\tvalidation_0-rmse:255.44417\tvalidation_1-rmse:273.79675\n",
      "[344]\tvalidation_0-rmse:255.31148\tvalidation_1-rmse:273.69308\n",
      "[345]\tvalidation_0-rmse:255.18903\tvalidation_1-rmse:273.60214\n",
      "[346]\tvalidation_0-rmse:255.05447\tvalidation_1-rmse:273.50549\n",
      "[347]\tvalidation_0-rmse:254.92862\tvalidation_1-rmse:273.40512\n",
      "[348]\tvalidation_0-rmse:254.79695\tvalidation_1-rmse:273.26090\n",
      "[349]\tvalidation_0-rmse:254.63455\tvalidation_1-rmse:273.19351\n",
      "[350]\tvalidation_0-rmse:254.50601\tvalidation_1-rmse:273.10861\n",
      "[351]\tvalidation_0-rmse:254.38306\tvalidation_1-rmse:273.03552\n",
      "[352]\tvalidation_0-rmse:254.26666\tvalidation_1-rmse:272.95108\n",
      "[353]\tvalidation_0-rmse:254.14000\tvalidation_1-rmse:272.83200\n",
      "[354]\tvalidation_0-rmse:254.01393\tvalidation_1-rmse:272.78024\n",
      "[355]\tvalidation_0-rmse:253.88542\tvalidation_1-rmse:272.68951\n",
      "[356]\tvalidation_0-rmse:253.75993\tvalidation_1-rmse:272.57761\n",
      "[357]\tvalidation_0-rmse:253.64574\tvalidation_1-rmse:272.48962\n",
      "[358]\tvalidation_0-rmse:253.52026\tvalidation_1-rmse:272.39832\n",
      "[359]\tvalidation_0-rmse:253.40599\tvalidation_1-rmse:272.32687\n",
      "[360]\tvalidation_0-rmse:253.29393\tvalidation_1-rmse:272.25220\n",
      "[361]\tvalidation_0-rmse:253.17128\tvalidation_1-rmse:272.13531\n",
      "[362]\tvalidation_0-rmse:253.05563\tvalidation_1-rmse:272.09638\n",
      "[363]\tvalidation_0-rmse:252.94865\tvalidation_1-rmse:272.02676\n",
      "[364]\tvalidation_0-rmse:252.84308\tvalidation_1-rmse:271.92596\n",
      "[365]\tvalidation_0-rmse:252.72578\tvalidation_1-rmse:271.84888\n",
      "[366]\tvalidation_0-rmse:252.60590\tvalidation_1-rmse:271.74884\n",
      "[367]\tvalidation_0-rmse:252.49393\tvalidation_1-rmse:271.68079\n",
      "[368]\tvalidation_0-rmse:252.38676\tvalidation_1-rmse:271.60733\n",
      "[369]\tvalidation_0-rmse:252.27936\tvalidation_1-rmse:271.54858\n",
      "[370]\tvalidation_0-rmse:252.17551\tvalidation_1-rmse:271.47458\n",
      "[371]\tvalidation_0-rmse:252.09801\tvalidation_1-rmse:271.37885\n",
      "[372]\tvalidation_0-rmse:251.98184\tvalidation_1-rmse:271.31384\n",
      "[373]\tvalidation_0-rmse:251.87706\tvalidation_1-rmse:271.24860\n",
      "[374]\tvalidation_0-rmse:251.80215\tvalidation_1-rmse:271.14694\n",
      "[375]\tvalidation_0-rmse:251.70036\tvalidation_1-rmse:271.04950\n",
      "[376]\tvalidation_0-rmse:251.56883\tvalidation_1-rmse:270.93579\n",
      "[377]\tvalidation_0-rmse:251.47818\tvalidation_1-rmse:270.88135\n",
      "[378]\tvalidation_0-rmse:251.40541\tvalidation_1-rmse:270.82608\n",
      "[379]\tvalidation_0-rmse:251.29999\tvalidation_1-rmse:270.73169\n",
      "[380]\tvalidation_0-rmse:251.19493\tvalidation_1-rmse:270.67142\n",
      "[381]\tvalidation_0-rmse:251.12093\tvalidation_1-rmse:270.58154\n",
      "[382]\tvalidation_0-rmse:251.02243\tvalidation_1-rmse:270.48846\n",
      "[383]\tvalidation_0-rmse:250.90840\tvalidation_1-rmse:270.41235\n",
      "[384]\tvalidation_0-rmse:250.78265\tvalidation_1-rmse:270.29385\n",
      "[385]\tvalidation_0-rmse:250.69312\tvalidation_1-rmse:270.23636\n",
      "[386]\tvalidation_0-rmse:250.56532\tvalidation_1-rmse:270.13962\n",
      "[387]\tvalidation_0-rmse:250.43489\tvalidation_1-rmse:270.04874\n",
      "[388]\tvalidation_0-rmse:250.29726\tvalidation_1-rmse:269.94138\n",
      "[389]\tvalidation_0-rmse:250.21284\tvalidation_1-rmse:269.89200\n",
      "[390]\tvalidation_0-rmse:250.13960\tvalidation_1-rmse:269.80377\n",
      "[391]\tvalidation_0-rmse:250.02034\tvalidation_1-rmse:269.68899\n",
      "[392]\tvalidation_0-rmse:249.95102\tvalidation_1-rmse:269.63666\n",
      "[393]\tvalidation_0-rmse:249.86267\tvalidation_1-rmse:269.58795\n",
      "[394]\tvalidation_0-rmse:249.80688\tvalidation_1-rmse:269.53113\n",
      "[395]\tvalidation_0-rmse:249.70636\tvalidation_1-rmse:269.46265\n",
      "[396]\tvalidation_0-rmse:249.63504\tvalidation_1-rmse:269.37744\n",
      "[397]\tvalidation_0-rmse:249.55431\tvalidation_1-rmse:269.33459\n",
      "[398]\tvalidation_0-rmse:249.43706\tvalidation_1-rmse:269.23789\n"
     ]
    },
    {
     "name": "stdout",
     "output_type": "stream",
     "text": [
      "[399]\tvalidation_0-rmse:249.36018\tvalidation_1-rmse:269.18796\n",
      "[400]\tvalidation_0-rmse:249.23921\tvalidation_1-rmse:269.06720\n",
      "[401]\tvalidation_0-rmse:249.17217\tvalidation_1-rmse:269.01617\n",
      "[402]\tvalidation_0-rmse:249.10316\tvalidation_1-rmse:268.93250\n",
      "[403]\tvalidation_0-rmse:249.01961\tvalidation_1-rmse:268.88165\n",
      "[404]\tvalidation_0-rmse:248.92424\tvalidation_1-rmse:268.79230\n",
      "[405]\tvalidation_0-rmse:248.81976\tvalidation_1-rmse:268.72458\n",
      "[406]\tvalidation_0-rmse:248.72066\tvalidation_1-rmse:268.63040\n",
      "[407]\tvalidation_0-rmse:248.64255\tvalidation_1-rmse:268.58658\n",
      "[408]\tvalidation_0-rmse:248.57452\tvalidation_1-rmse:268.50348\n",
      "[409]\tvalidation_0-rmse:248.47679\tvalidation_1-rmse:268.45746\n",
      "[410]\tvalidation_0-rmse:248.42398\tvalidation_1-rmse:268.40738\n",
      "[411]\tvalidation_0-rmse:248.29472\tvalidation_1-rmse:268.31741\n",
      "[412]\tvalidation_0-rmse:248.20499\tvalidation_1-rmse:268.23254\n",
      "[413]\tvalidation_0-rmse:248.08998\tvalidation_1-rmse:268.14255\n",
      "[414]\tvalidation_0-rmse:247.97783\tvalidation_1-rmse:268.05069\n",
      "[415]\tvalidation_0-rmse:247.92490\tvalidation_1-rmse:267.99969\n",
      "[416]\tvalidation_0-rmse:247.84822\tvalidation_1-rmse:267.96240\n",
      "[417]\tvalidation_0-rmse:247.75406\tvalidation_1-rmse:267.92090\n",
      "[418]\tvalidation_0-rmse:247.69011\tvalidation_1-rmse:267.87293\n",
      "[419]\tvalidation_0-rmse:247.63539\tvalidation_1-rmse:267.81802\n",
      "[420]\tvalidation_0-rmse:247.56003\tvalidation_1-rmse:267.77768\n",
      "[421]\tvalidation_0-rmse:247.49409\tvalidation_1-rmse:267.69666\n",
      "[422]\tvalidation_0-rmse:247.40344\tvalidation_1-rmse:267.60440\n",
      "[423]\tvalidation_0-rmse:247.32936\tvalidation_1-rmse:267.57007\n",
      "[424]\tvalidation_0-rmse:247.26724\tvalidation_1-rmse:267.52304\n",
      "[425]\tvalidation_0-rmse:247.20363\tvalidation_1-rmse:267.43292\n",
      "[426]\tvalidation_0-rmse:247.15341\tvalidation_1-rmse:267.38300\n",
      "[427]\tvalidation_0-rmse:247.09245\tvalidation_1-rmse:267.34024\n",
      "[428]\tvalidation_0-rmse:247.02918\tvalidation_1-rmse:267.26450\n",
      "[429]\tvalidation_0-rmse:246.95462\tvalidation_1-rmse:267.22537\n",
      "[430]\tvalidation_0-rmse:246.90604\tvalidation_1-rmse:267.17694\n",
      "[431]\tvalidation_0-rmse:246.80843\tvalidation_1-rmse:267.11728\n",
      "[432]\tvalidation_0-rmse:246.74866\tvalidation_1-rmse:267.07565\n",
      "[433]\tvalidation_0-rmse:246.57036\tvalidation_1-rmse:266.91696\n",
      "[434]\tvalidation_0-rmse:246.50842\tvalidation_1-rmse:266.84024\n",
      "[435]\tvalidation_0-rmse:246.44952\tvalidation_1-rmse:266.79568\n",
      "[436]\tvalidation_0-rmse:246.35802\tvalidation_1-rmse:266.70612\n",
      "[437]\tvalidation_0-rmse:246.22995\tvalidation_1-rmse:266.65762\n",
      "[438]\tvalidation_0-rmse:246.17447\tvalidation_1-rmse:266.62439\n",
      "[439]\tvalidation_0-rmse:246.12457\tvalidation_1-rmse:266.57416\n",
      "[440]\tvalidation_0-rmse:245.95016\tvalidation_1-rmse:266.41800\n",
      "[441]\tvalidation_0-rmse:245.82520\tvalidation_1-rmse:266.37000\n",
      "[442]\tvalidation_0-rmse:245.62967\tvalidation_1-rmse:266.21625\n",
      "[443]\tvalidation_0-rmse:245.57300\tvalidation_1-rmse:266.17682\n",
      "[444]\tvalidation_0-rmse:245.44832\tvalidation_1-rmse:266.05441\n",
      "[445]\tvalidation_0-rmse:245.26112\tvalidation_1-rmse:265.90042\n",
      "[446]\tvalidation_0-rmse:245.13901\tvalidation_1-rmse:265.78101\n",
      "[447]\tvalidation_0-rmse:245.08391\tvalidation_1-rmse:265.74289\n",
      "[448]\tvalidation_0-rmse:244.92169\tvalidation_1-rmse:265.59842\n",
      "[449]\tvalidation_0-rmse:244.82533\tvalidation_1-rmse:265.54639\n",
      "[450]\tvalidation_0-rmse:244.73286\tvalidation_1-rmse:265.47604\n",
      "[451]\tvalidation_0-rmse:244.63773\tvalidation_1-rmse:265.42246\n",
      "[452]\tvalidation_0-rmse:244.54643\tvalidation_1-rmse:265.36072\n",
      "[453]\tvalidation_0-rmse:244.44626\tvalidation_1-rmse:265.26199\n",
      "[454]\tvalidation_0-rmse:244.35088\tvalidation_1-rmse:265.20386\n",
      "[455]\tvalidation_0-rmse:244.25284\tvalidation_1-rmse:265.13095\n",
      "[456]\tvalidation_0-rmse:244.15318\tvalidation_1-rmse:265.03519\n",
      "[457]\tvalidation_0-rmse:244.06119\tvalidation_1-rmse:264.97391\n",
      "[458]\tvalidation_0-rmse:243.96391\tvalidation_1-rmse:264.88132\n",
      "[459]\tvalidation_0-rmse:243.87724\tvalidation_1-rmse:264.79459\n",
      "[460]\tvalidation_0-rmse:243.78986\tvalidation_1-rmse:264.72824\n",
      "[461]\tvalidation_0-rmse:243.69282\tvalidation_1-rmse:264.67062\n",
      "[462]\tvalidation_0-rmse:243.61067\tvalidation_1-rmse:264.59524\n",
      "[463]\tvalidation_0-rmse:243.52210\tvalidation_1-rmse:264.53616\n",
      "[464]\tvalidation_0-rmse:243.41754\tvalidation_1-rmse:264.42096\n",
      "[465]\tvalidation_0-rmse:243.32964\tvalidation_1-rmse:264.36337\n",
      "[466]\tvalidation_0-rmse:243.23498\tvalidation_1-rmse:264.27545\n",
      "[467]\tvalidation_0-rmse:243.14433\tvalidation_1-rmse:264.22092\n",
      "[468]\tvalidation_0-rmse:243.05260\tvalidation_1-rmse:264.15854\n",
      "[469]\tvalidation_0-rmse:242.95967\tvalidation_1-rmse:264.08911\n",
      "[470]\tvalidation_0-rmse:242.91609\tvalidation_1-rmse:264.03708\n",
      "[471]\tvalidation_0-rmse:242.83298\tvalidation_1-rmse:263.97946\n",
      "[472]\tvalidation_0-rmse:242.73936\tvalidation_1-rmse:263.92554\n",
      "[473]\tvalidation_0-rmse:242.68806\tvalidation_1-rmse:263.89004\n",
      "[474]\tvalidation_0-rmse:242.61230\tvalidation_1-rmse:263.82083\n",
      "[475]\tvalidation_0-rmse:242.52611\tvalidation_1-rmse:263.78189\n",
      "[476]\tvalidation_0-rmse:242.44035\tvalidation_1-rmse:263.72189\n",
      "[477]\tvalidation_0-rmse:242.38658\tvalidation_1-rmse:263.67129\n",
      "[478]\tvalidation_0-rmse:242.30250\tvalidation_1-rmse:263.64389\n",
      "[479]\tvalidation_0-rmse:242.21678\tvalidation_1-rmse:263.58841\n",
      "[480]\tvalidation_0-rmse:242.17606\tvalidation_1-rmse:263.54990\n",
      "[481]\tvalidation_0-rmse:242.07842\tvalidation_1-rmse:263.47342\n",
      "[482]\tvalidation_0-rmse:242.00964\tvalidation_1-rmse:263.44482\n",
      "[483]\tvalidation_0-rmse:241.95650\tvalidation_1-rmse:263.39740\n",
      "[484]\tvalidation_0-rmse:241.78008\tvalidation_1-rmse:263.26083\n",
      "[485]\tvalidation_0-rmse:241.68863\tvalidation_1-rmse:263.20486\n",
      "[486]\tvalidation_0-rmse:241.60010\tvalidation_1-rmse:263.15018\n",
      "[487]\tvalidation_0-rmse:241.50339\tvalidation_1-rmse:263.02777\n",
      "[488]\tvalidation_0-rmse:241.33189\tvalidation_1-rmse:262.89709\n",
      "[489]\tvalidation_0-rmse:241.28308\tvalidation_1-rmse:262.86240\n",
      "[490]\tvalidation_0-rmse:241.23192\tvalidation_1-rmse:262.78714\n",
      "[491]\tvalidation_0-rmse:241.06174\tvalidation_1-rmse:262.65683\n",
      "[492]\tvalidation_0-rmse:240.97389\tvalidation_1-rmse:262.57077\n",
      "[493]\tvalidation_0-rmse:240.92572\tvalidation_1-rmse:262.53760\n",
      "[494]\tvalidation_0-rmse:240.76190\tvalidation_1-rmse:262.40894\n",
      "[495]\tvalidation_0-rmse:240.67529\tvalidation_1-rmse:262.35040\n",
      "[496]\tvalidation_0-rmse:240.57248\tvalidation_1-rmse:262.31821\n",
      "[497]\tvalidation_0-rmse:240.48459\tvalidation_1-rmse:262.26651\n",
      "[498]\tvalidation_0-rmse:240.40091\tvalidation_1-rmse:262.18808\n",
      "[499]\tvalidation_0-rmse:240.30891\tvalidation_1-rmse:262.13400\n"
     ]
    },
    {
     "data": {
      "text/plain": [
       "XGBRegressor(base_score=0.5, booster='gbtree', colsample_bylevel=1,\n",
       "             colsample_bynode=1, colsample_bytree=1, gamma=0, gpu_id=-1,\n",
       "             importance_type='gain', interaction_constraints='',\n",
       "             learning_rate=0.01, max_delta_step=0, max_depth=6,\n",
       "             min_child_weight=1, missing=nan, monotone_constraints='()',\n",
       "             n_estimators=500, n_jobs=8, num_parallel_tree=1, random_state=0,\n",
       "             reg_alpha=0, reg_lambda=1, scale_pos_weight=1, subsample=1,\n",
       "             tree_method='exact', validate_parameters=1, verbosity=None)"
      ]
     },
     "execution_count": 24,
     "metadata": {},
     "output_type": "execute_result"
    }
   ],
   "source": [
    "reg2 = XGBRegressor(n_estimators=500, learning_rate=0.01)\n",
    "reg2.fit(train_split_x, \n",
    "        train_split_y,        \n",
    "        eval_set=[(train_split_x,train_split_y), (test_split_x, test_split_y)],)\n",
    "#        eval_metric='mae')"
   ]
  },
  {
   "cell_type": "code",
   "execution_count": 22,
   "metadata": {
    "colab": {
     "base_uri": "https://localhost:8080/"
    },
    "executionInfo": {
     "elapsed": 1499,
     "status": "ok",
     "timestamp": 1627765859037,
     "user": {
      "displayName": "Adithya Krishna",
      "photoUrl": "",
      "userId": "14433587602683209861"
     },
     "user_tz": -120
    },
    "id": "-Ye5D7AeoF3a",
    "outputId": "7bb64fe8-f4b6-4ed4-cc0f-5ff74c410421"
   },
   "outputs": [
    {
     "ename": "NameError",
     "evalue": "name 'reg2' is not defined",
     "output_type": "error",
     "traceback": [
      "\u001b[1;31m---------------------------------------------------------------------------\u001b[0m",
      "\u001b[1;31mNameError\u001b[0m                                 Traceback (most recent call last)",
      "\u001b[1;32m<ipython-input-22-be4eb1e38269>\u001b[0m in \u001b[0;36m<module>\u001b[1;34m\u001b[0m\n\u001b[1;32m----> 1\u001b[1;33m \u001b[0my_pred\u001b[0m \u001b[1;33m=\u001b[0m \u001b[0mreg2\u001b[0m\u001b[1;33m.\u001b[0m\u001b[0mpredict\u001b[0m\u001b[1;33m(\u001b[0m\u001b[0mtest_split_x\u001b[0m\u001b[1;33m)\u001b[0m\u001b[1;33m\u001b[0m\u001b[1;33m\u001b[0m\u001b[0m\n\u001b[0m\u001b[0;32m      2\u001b[0m \u001b[0my_pred\u001b[0m\u001b[1;33m[\u001b[0m\u001b[0my_pred\u001b[0m\u001b[1;33m<\u001b[0m\u001b[1;36m0\u001b[0m\u001b[1;33m]\u001b[0m \u001b[1;33m=\u001b[0m \u001b[1;36m0\u001b[0m\u001b[1;33m\u001b[0m\u001b[1;33m\u001b[0m\u001b[0m\n\u001b[0;32m      3\u001b[0m \u001b[1;32mfrom\u001b[0m \u001b[0msklearn\u001b[0m \u001b[1;32mimport\u001b[0m \u001b[0mmetrics\u001b[0m\u001b[1;33m\u001b[0m\u001b[1;33m\u001b[0m\u001b[0m\n\u001b[0;32m      4\u001b[0m \u001b[0mprint\u001b[0m\u001b[1;33m(\u001b[0m\u001b[1;34m'RMSLE:'\u001b[0m\u001b[1;33m,\u001b[0m \u001b[1;36m100\u001b[0m\u001b[1;33m*\u001b[0m\u001b[0mnp\u001b[0m\u001b[1;33m.\u001b[0m\u001b[0msqrt\u001b[0m\u001b[1;33m(\u001b[0m\u001b[0mmetrics\u001b[0m\u001b[1;33m.\u001b[0m\u001b[0mmean_squared_log_error\u001b[0m\u001b[1;33m(\u001b[0m\u001b[0mtest_split_y\u001b[0m\u001b[1;33m,\u001b[0m \u001b[0my_pred\u001b[0m\u001b[1;33m)\u001b[0m\u001b[1;33m)\u001b[0m\u001b[1;33m)\u001b[0m\u001b[1;33m\u001b[0m\u001b[1;33m\u001b[0m\u001b[0m\n",
      "\u001b[1;31mNameError\u001b[0m: name 'reg2' is not defined"
     ]
    }
   ],
   "source": [
    "y_pred = reg2.predict(test_split_x)\n",
    "y_pred[y_pred<0] = 0 \n",
    "from sklearn import metrics \n",
    "print('RMSLE:', 100*np.sqrt(metrics.mean_squared_log_error(test_split_y, y_pred)))"
   ]
  },
  {
   "cell_type": "code",
   "execution_count": 18,
   "metadata": {
    "colab": {
     "base_uri": "https://localhost:8080/"
    },
    "executionInfo": {
     "elapsed": 2493680,
     "status": "ok",
     "timestamp": 1627787296973,
     "user": {
      "displayName": "Adithya Krishna",
      "photoUrl": "",
      "userId": "14433587602683209861"
     },
     "user_tz": -120
    },
    "id": "m2XvYluLhNU7",
    "outputId": "99634b59-db6b-4bce-efed-c5ea14e7a438"
   },
   "outputs": [
    {
     "name": "stdout",
     "output_type": "stream",
     "text": [
      "Fitting 5 folds for each of 5 candidates, totalling 25 fits\n",
      "[CV] min_child_weight=3, max_depth=5, learning_rate=0.1, gamma=0.2, colsample_bytree=0.3 \n"
     ]
    },
    {
     "name": "stderr",
     "output_type": "stream",
     "text": [
      "[Parallel(n_jobs=1)]: Using backend SequentialBackend with 1 concurrent workers.\n"
     ]
    },
    {
     "name": "stdout",
     "output_type": "stream",
     "text": [
      "[02:26:05] WARNING: /workspace/src/objective/regression_obj.cu:152: reg:linear is now deprecated in favor of reg:squarederror.\n",
      "[CV]  min_child_weight=3, max_depth=5, learning_rate=0.1, gamma=0.2, colsample_bytree=0.3, score=0.552, total=  37.2s\n",
      "[CV] min_child_weight=3, max_depth=5, learning_rate=0.1, gamma=0.2, colsample_bytree=0.3 \n"
     ]
    },
    {
     "name": "stderr",
     "output_type": "stream",
     "text": [
      "[Parallel(n_jobs=1)]: Done   1 out of   1 | elapsed:   37.2s remaining:    0.0s\n"
     ]
    },
    {
     "name": "stdout",
     "output_type": "stream",
     "text": [
      "[02:26:42] WARNING: /workspace/src/objective/regression_obj.cu:152: reg:linear is now deprecated in favor of reg:squarederror.\n",
      "[CV]  min_child_weight=3, max_depth=5, learning_rate=0.1, gamma=0.2, colsample_bytree=0.3, score=0.611, total=  36.9s\n",
      "[CV] min_child_weight=3, max_depth=5, learning_rate=0.1, gamma=0.2, colsample_bytree=0.3 \n"
     ]
    },
    {
     "name": "stderr",
     "output_type": "stream",
     "text": [
      "[Parallel(n_jobs=1)]: Done   2 out of   2 | elapsed:  1.2min remaining:    0.0s\n"
     ]
    },
    {
     "name": "stdout",
     "output_type": "stream",
     "text": [
      "[02:27:19] WARNING: /workspace/src/objective/regression_obj.cu:152: reg:linear is now deprecated in favor of reg:squarederror.\n",
      "[CV]  min_child_weight=3, max_depth=5, learning_rate=0.1, gamma=0.2, colsample_bytree=0.3, score=0.632, total=  36.7s\n",
      "[CV] min_child_weight=3, max_depth=5, learning_rate=0.1, gamma=0.2, colsample_bytree=0.3 \n",
      "[02:27:55] WARNING: /workspace/src/objective/regression_obj.cu:152: reg:linear is now deprecated in favor of reg:squarederror.\n",
      "[CV]  min_child_weight=3, max_depth=5, learning_rate=0.1, gamma=0.2, colsample_bytree=0.3, score=0.651, total=  36.6s\n",
      "[CV] min_child_weight=3, max_depth=5, learning_rate=0.1, gamma=0.2, colsample_bytree=0.3 \n",
      "[02:28:32] WARNING: /workspace/src/objective/regression_obj.cu:152: reg:linear is now deprecated in favor of reg:squarederror.\n",
      "[CV]  min_child_weight=3, max_depth=5, learning_rate=0.1, gamma=0.2, colsample_bytree=0.3, score=0.634, total=  36.5s\n",
      "[CV] min_child_weight=1, max_depth=4, learning_rate=0.15, gamma=0.3, colsample_bytree=0.4 \n",
      "[02:29:09] WARNING: /workspace/src/objective/regression_obj.cu:152: reg:linear is now deprecated in favor of reg:squarederror.\n",
      "[CV]  min_child_weight=1, max_depth=4, learning_rate=0.15, gamma=0.3, colsample_bytree=0.4, score=0.560, total=  35.3s\n",
      "[CV] min_child_weight=1, max_depth=4, learning_rate=0.15, gamma=0.3, colsample_bytree=0.4 \n",
      "[02:29:44] WARNING: /workspace/src/objective/regression_obj.cu:152: reg:linear is now deprecated in favor of reg:squarederror.\n",
      "[CV]  min_child_weight=1, max_depth=4, learning_rate=0.15, gamma=0.3, colsample_bytree=0.4, score=0.613, total=  35.3s\n",
      "[CV] min_child_weight=1, max_depth=4, learning_rate=0.15, gamma=0.3, colsample_bytree=0.4 \n",
      "[02:30:19] WARNING: /workspace/src/objective/regression_obj.cu:152: reg:linear is now deprecated in favor of reg:squarederror.\n",
      "[CV]  min_child_weight=1, max_depth=4, learning_rate=0.15, gamma=0.3, colsample_bytree=0.4, score=0.619, total=  35.3s\n",
      "[CV] min_child_weight=1, max_depth=4, learning_rate=0.15, gamma=0.3, colsample_bytree=0.4 \n",
      "[02:30:54] WARNING: /workspace/src/objective/regression_obj.cu:152: reg:linear is now deprecated in favor of reg:squarederror.\n",
      "[CV]  min_child_weight=1, max_depth=4, learning_rate=0.15, gamma=0.3, colsample_bytree=0.4, score=0.643, total=  35.5s\n",
      "[CV] min_child_weight=1, max_depth=4, learning_rate=0.15, gamma=0.3, colsample_bytree=0.4 \n",
      "[02:31:30] WARNING: /workspace/src/objective/regression_obj.cu:152: reg:linear is now deprecated in favor of reg:squarederror.\n",
      "[CV]  min_child_weight=1, max_depth=4, learning_rate=0.15, gamma=0.3, colsample_bytree=0.4, score=0.640, total=  35.3s\n",
      "[CV] min_child_weight=1, max_depth=8, learning_rate=0.25, gamma=0.0, colsample_bytree=0.7 \n",
      "[02:32:05] WARNING: /workspace/src/objective/regression_obj.cu:152: reg:linear is now deprecated in favor of reg:squarederror.\n",
      "[CV]  min_child_weight=1, max_depth=8, learning_rate=0.25, gamma=0.0, colsample_bytree=0.7, score=0.622, total= 1.6min\n",
      "[CV] min_child_weight=1, max_depth=8, learning_rate=0.25, gamma=0.0, colsample_bytree=0.7 \n",
      "[02:33:44] WARNING: /workspace/src/objective/regression_obj.cu:152: reg:linear is now deprecated in favor of reg:squarederror.\n",
      "[CV]  min_child_weight=1, max_depth=8, learning_rate=0.25, gamma=0.0, colsample_bytree=0.7, score=0.672, total= 1.6min\n",
      "[CV] min_child_weight=1, max_depth=8, learning_rate=0.25, gamma=0.0, colsample_bytree=0.7 \n",
      "[02:35:23] WARNING: /workspace/src/objective/regression_obj.cu:152: reg:linear is now deprecated in favor of reg:squarederror.\n",
      "[CV]  min_child_weight=1, max_depth=8, learning_rate=0.25, gamma=0.0, colsample_bytree=0.7, score=0.721, total= 1.6min\n",
      "[CV] min_child_weight=1, max_depth=8, learning_rate=0.25, gamma=0.0, colsample_bytree=0.7 \n",
      "[02:37:01] WARNING: /workspace/src/objective/regression_obj.cu:152: reg:linear is now deprecated in favor of reg:squarederror.\n",
      "[CV]  min_child_weight=1, max_depth=8, learning_rate=0.25, gamma=0.0, colsample_bytree=0.7, score=0.736, total= 1.6min\n",
      "[CV] min_child_weight=1, max_depth=8, learning_rate=0.25, gamma=0.0, colsample_bytree=0.7 \n",
      "[02:38:40] WARNING: /workspace/src/objective/regression_obj.cu:152: reg:linear is now deprecated in favor of reg:squarederror.\n",
      "[CV]  min_child_weight=1, max_depth=8, learning_rate=0.25, gamma=0.0, colsample_bytree=0.7, score=0.673, total= 1.6min\n",
      "[CV] min_child_weight=5, max_depth=15, learning_rate=0.15, gamma=0.4, colsample_bytree=0.5 \n",
      "[02:40:19] WARNING: /workspace/src/objective/regression_obj.cu:152: reg:linear is now deprecated in favor of reg:squarederror.\n",
      "[CV]  min_child_weight=5, max_depth=15, learning_rate=0.15, gamma=0.4, colsample_bytree=0.5, score=0.562, total= 3.0min\n",
      "[CV] min_child_weight=5, max_depth=15, learning_rate=0.15, gamma=0.4, colsample_bytree=0.5 \n",
      "[02:43:21] WARNING: /workspace/src/objective/regression_obj.cu:152: reg:linear is now deprecated in favor of reg:squarederror.\n",
      "[CV]  min_child_weight=5, max_depth=15, learning_rate=0.15, gamma=0.4, colsample_bytree=0.5, score=0.654, total= 3.1min\n",
      "[CV] min_child_weight=5, max_depth=15, learning_rate=0.15, gamma=0.4, colsample_bytree=0.5 \n",
      "[02:46:24] WARNING: /workspace/src/objective/regression_obj.cu:152: reg:linear is now deprecated in favor of reg:squarederror.\n",
      "[CV]  min_child_weight=5, max_depth=15, learning_rate=0.15, gamma=0.4, colsample_bytree=0.5, score=0.719, total= 3.0min\n",
      "[CV] min_child_weight=5, max_depth=15, learning_rate=0.15, gamma=0.4, colsample_bytree=0.5 \n",
      "[02:49:27] WARNING: /workspace/src/objective/regression_obj.cu:152: reg:linear is now deprecated in favor of reg:squarederror.\n",
      "[CV]  min_child_weight=5, max_depth=15, learning_rate=0.15, gamma=0.4, colsample_bytree=0.5, score=0.716, total= 3.0min\n",
      "[CV] min_child_weight=5, max_depth=15, learning_rate=0.15, gamma=0.4, colsample_bytree=0.5 \n",
      "[02:52:29] WARNING: /workspace/src/objective/regression_obj.cu:152: reg:linear is now deprecated in favor of reg:squarederror.\n",
      "[CV]  min_child_weight=5, max_depth=15, learning_rate=0.15, gamma=0.4, colsample_bytree=0.5, score=0.683, total= 3.0min\n",
      "[CV] min_child_weight=5, max_depth=15, learning_rate=0.2, gamma=0.0, colsample_bytree=0.3 \n",
      "[02:55:31] WARNING: /workspace/src/objective/regression_obj.cu:152: reg:linear is now deprecated in favor of reg:squarederror.\n",
      "[CV]  min_child_weight=5, max_depth=15, learning_rate=0.2, gamma=0.0, colsample_bytree=0.3, score=0.524, total= 2.0min\n",
      "[CV] min_child_weight=5, max_depth=15, learning_rate=0.2, gamma=0.0, colsample_bytree=0.3 \n",
      "[02:57:31] WARNING: /workspace/src/objective/regression_obj.cu:152: reg:linear is now deprecated in favor of reg:squarederror.\n",
      "[CV]  min_child_weight=5, max_depth=15, learning_rate=0.2, gamma=0.0, colsample_bytree=0.3, score=0.617, total= 2.0min\n",
      "[CV] min_child_weight=5, max_depth=15, learning_rate=0.2, gamma=0.0, colsample_bytree=0.3 \n",
      "[02:59:32] WARNING: /workspace/src/objective/regression_obj.cu:152: reg:linear is now deprecated in favor of reg:squarederror.\n",
      "[CV]  min_child_weight=5, max_depth=15, learning_rate=0.2, gamma=0.0, colsample_bytree=0.3, score=0.685, total= 2.0min\n",
      "[CV] min_child_weight=5, max_depth=15, learning_rate=0.2, gamma=0.0, colsample_bytree=0.3 \n",
      "[03:01:33] WARNING: /workspace/src/objective/regression_obj.cu:152: reg:linear is now deprecated in favor of reg:squarederror.\n",
      "[CV]  min_child_weight=5, max_depth=15, learning_rate=0.2, gamma=0.0, colsample_bytree=0.3, score=0.697, total= 2.0min\n",
      "[CV] min_child_weight=5, max_depth=15, learning_rate=0.2, gamma=0.0, colsample_bytree=0.3 \n",
      "[03:03:35] WARNING: /workspace/src/objective/regression_obj.cu:152: reg:linear is now deprecated in favor of reg:squarederror.\n",
      "[CV]  min_child_weight=5, max_depth=15, learning_rate=0.2, gamma=0.0, colsample_bytree=0.3, score=0.669, total= 2.0min\n"
     ]
    },
    {
     "name": "stderr",
     "output_type": "stream",
     "text": [
      "[Parallel(n_jobs=1)]: Done  25 out of  25 | elapsed: 39.5min finished\n"
     ]
    },
    {
     "name": "stdout",
     "output_type": "stream",
     "text": [
      "[03:05:36] WARNING: /workspace/src/objective/regression_obj.cu:152: reg:linear is now deprecated in favor of reg:squarederror.\n"
     ]
    },
    {
     "data": {
      "text/plain": [
       "RandomizedSearchCV(cv=None, error_score=nan,\n",
       "                   estimator=XGBRegressor(base_score=0.5, booster='gbtree',\n",
       "                                          colsample_bylevel=1,\n",
       "                                          colsample_bynode=1,\n",
       "                                          colsample_bytree=1, gamma=0,\n",
       "                                          importance_type='gain',\n",
       "                                          learning_rate=0.1, max_delta_step=0,\n",
       "                                          max_depth=3, min_child_weight=1,\n",
       "                                          missing=None, n_estimators=100,\n",
       "                                          n_jobs=1, nthread=None,\n",
       "                                          objective='reg:linear',\n",
       "                                          random_state=0, reg_alp...\n",
       "                                          seed=None, silent=None, subsample=1,\n",
       "                                          verbosity=1),\n",
       "                   iid='deprecated', n_iter=5, n_jobs=None,\n",
       "                   param_distributions={'colsample_bytree': [0.3, 0.4, 0.5,\n",
       "                                                             0.7],\n",
       "                                        'gamma': [0.0, 0.1, 0.2, 0.3, 0.4],\n",
       "                                        'learning_rate': [0.05, 0.1, 0.15, 0.2,\n",
       "                                                          0.25, 0.3],\n",
       "                                        'max_depth': [3, 4, 5, 6, 8, 10, 12,\n",
       "                                                      15],\n",
       "                                        'min_child_weight': [1, 3, 5, 7]},\n",
       "                   pre_dispatch='2*n_jobs', random_state=None, refit=True,\n",
       "                   return_train_score=False, scoring=None, verbose=3)"
      ]
     },
     "execution_count": 18,
     "metadata": {
      "tags": []
     },
     "output_type": "execute_result"
    }
   ],
   "source": [
    "# Hyper Parameter Optimization\n",
    "\n",
    "params={\n",
    " \"learning_rate\"    : [0.05, 0.10, 0.15, 0.20, 0.25, 0.30 ] ,\n",
    " \"max_depth\"        : [ 3, 4, 5, 6, 8, 10, 12, 15],\n",
    " \"min_child_weight\" : [ 1, 3, 5, 7 ],\n",
    " \"gamma\"            : [ 0.0, 0.1, 0.2 , 0.3, 0.4 ],\n",
    " \"colsample_bytree\" : [ 0.3, 0.4, 0.5 , 0.7 ]   \n",
    "}\n",
    "\n",
    "# Hyperparameter optimization using RandomizedSearchCV\n",
    "classifier=XGBRegressor()\n",
    "#cv = StratifiedKFold(n_splits=10,shuffle=True,random_state=1)\n",
    "random_search=RandomizedSearchCV(classifier,param_distributions=params,n_iter=5,verbose=3)\n",
    "random_search.fit(train_split_x,train_split_y)"
   ]
  },
  {
   "cell_type": "code",
   "execution_count": 19,
   "metadata": {
    "colab": {
     "base_uri": "https://localhost:8080/"
    },
    "executionInfo": {
     "elapsed": 39,
     "status": "ok",
     "timestamp": 1627787296975,
     "user": {
      "displayName": "Adithya Krishna",
      "photoUrl": "",
      "userId": "14433587602683209861"
     },
     "user_tz": -120
    },
    "id": "Qpt0Eui4hzRo",
    "outputId": "be617e09-c1c2-4f8f-c842-bd44b40948f0"
   },
   "outputs": [
    {
     "name": "stdout",
     "output_type": "stream",
     "text": [
      "XGBRegressor(base_score=0.5, booster='gbtree', colsample_bylevel=1,\n",
      "             colsample_bynode=1, colsample_bytree=0.7, gamma=0.0,\n",
      "             importance_type='gain', learning_rate=0.25, max_delta_step=0,\n",
      "             max_depth=8, min_child_weight=1, missing=None, n_estimators=100,\n",
      "             n_jobs=1, nthread=None, objective='reg:linear', random_state=0,\n",
      "             reg_alpha=0, reg_lambda=1, scale_pos_weight=1, seed=None,\n",
      "             silent=None, subsample=1, verbosity=1)\n",
      "{'min_child_weight': 1, 'max_depth': 8, 'learning_rate': 0.25, 'gamma': 0.0, 'colsample_bytree': 0.7}\n"
     ]
    }
   ],
   "source": [
    "print(random_search.best_estimator_)\n",
    "print(random_search.best_params_)"
   ]
  },
  {
   "cell_type": "code",
   "execution_count": 9,
   "metadata": {
    "colab": {
     "base_uri": "https://localhost:8080/"
    },
    "executionInfo": {
     "elapsed": 163189,
     "status": "ok",
     "timestamp": 1627798541292,
     "user": {
      "displayName": "Adithya Krishna",
      "photoUrl": "",
      "userId": "14433587602683209861"
     },
     "user_tz": -120
    },
    "id": "WgdmqcVziePc",
    "outputId": "f8f579be-1bef-4365-ccdc-0597ff517a6b"
   },
   "outputs": [
    {
     "name": "stdout",
     "output_type": "stream",
     "text": [
      "[06:12:20] WARNING: /workspace/src/objective/regression_obj.cu:152: reg:linear is now deprecated in favor of reg:squarederror.\n",
      "[0]\tvalidation_0-rmse:398.483\tvalidation_1-rmse:371.776\n",
      "[1]\tvalidation_0-rmse:340.02\tvalidation_1-rmse:326.359\n",
      "[2]\tvalidation_0-rmse:297.269\tvalidation_1-rmse:295.011\n",
      "[3]\tvalidation_0-rmse:268.957\tvalidation_1-rmse:269.83\n",
      "[4]\tvalidation_0-rmse:249.065\tvalidation_1-rmse:256.513\n",
      "[5]\tvalidation_0-rmse:234.887\tvalidation_1-rmse:245.909\n",
      "[6]\tvalidation_0-rmse:218.837\tvalidation_1-rmse:234.201\n",
      "[7]\tvalidation_0-rmse:211.776\tvalidation_1-rmse:231.226\n",
      "[8]\tvalidation_0-rmse:203.965\tvalidation_1-rmse:225.969\n",
      "[9]\tvalidation_0-rmse:201.422\tvalidation_1-rmse:223.284\n",
      "[10]\tvalidation_0-rmse:197.906\tvalidation_1-rmse:219.825\n",
      "[11]\tvalidation_0-rmse:193.465\tvalidation_1-rmse:218.79\n",
      "[12]\tvalidation_0-rmse:190.528\tvalidation_1-rmse:215.889\n",
      "[13]\tvalidation_0-rmse:186.581\tvalidation_1-rmse:215.126\n",
      "[14]\tvalidation_0-rmse:183.872\tvalidation_1-rmse:215.616\n",
      "[15]\tvalidation_0-rmse:180.997\tvalidation_1-rmse:214.6\n",
      "[16]\tvalidation_0-rmse:178.4\tvalidation_1-rmse:212.834\n",
      "[17]\tvalidation_0-rmse:177.497\tvalidation_1-rmse:212.207\n",
      "[18]\tvalidation_0-rmse:175.798\tvalidation_1-rmse:212.771\n",
      "[19]\tvalidation_0-rmse:173.114\tvalidation_1-rmse:211.214\n",
      "[20]\tvalidation_0-rmse:170.614\tvalidation_1-rmse:209.867\n",
      "[21]\tvalidation_0-rmse:169.531\tvalidation_1-rmse:209.8\n",
      "[22]\tvalidation_0-rmse:169.328\tvalidation_1-rmse:209.682\n",
      "[23]\tvalidation_0-rmse:167.797\tvalidation_1-rmse:209.342\n",
      "[24]\tvalidation_0-rmse:167.113\tvalidation_1-rmse:209.115\n",
      "[25]\tvalidation_0-rmse:166.105\tvalidation_1-rmse:208.927\n",
      "[26]\tvalidation_0-rmse:165.679\tvalidation_1-rmse:208.651\n",
      "[27]\tvalidation_0-rmse:165.318\tvalidation_1-rmse:208.444\n",
      "[28]\tvalidation_0-rmse:164.234\tvalidation_1-rmse:208.181\n",
      "[29]\tvalidation_0-rmse:163.719\tvalidation_1-rmse:207.985\n",
      "[30]\tvalidation_0-rmse:163.072\tvalidation_1-rmse:207.805\n",
      "[31]\tvalidation_0-rmse:162.508\tvalidation_1-rmse:207.853\n",
      "[32]\tvalidation_0-rmse:161.836\tvalidation_1-rmse:207.392\n",
      "[33]\tvalidation_0-rmse:160.83\tvalidation_1-rmse:207.488\n",
      "[34]\tvalidation_0-rmse:160.453\tvalidation_1-rmse:207.424\n",
      "[35]\tvalidation_0-rmse:160.165\tvalidation_1-rmse:207.382\n",
      "[36]\tvalidation_0-rmse:159.737\tvalidation_1-rmse:207.226\n",
      "[37]\tvalidation_0-rmse:159.463\tvalidation_1-rmse:207.194\n",
      "[38]\tvalidation_0-rmse:159.268\tvalidation_1-rmse:207.334\n",
      "[39]\tvalidation_0-rmse:158.481\tvalidation_1-rmse:207.464\n",
      "[40]\tvalidation_0-rmse:158.048\tvalidation_1-rmse:207.545\n",
      "[41]\tvalidation_0-rmse:157.251\tvalidation_1-rmse:207.005\n",
      "[42]\tvalidation_0-rmse:156.669\tvalidation_1-rmse:206.76\n",
      "[43]\tvalidation_0-rmse:156.032\tvalidation_1-rmse:206.399\n",
      "[44]\tvalidation_0-rmse:155.786\tvalidation_1-rmse:206.281\n",
      "[45]\tvalidation_0-rmse:155.448\tvalidation_1-rmse:206.117\n",
      "[46]\tvalidation_0-rmse:155.003\tvalidation_1-rmse:205.749\n",
      "[47]\tvalidation_0-rmse:154.416\tvalidation_1-rmse:205.939\n",
      "[48]\tvalidation_0-rmse:154.175\tvalidation_1-rmse:205.932\n",
      "[49]\tvalidation_0-rmse:153.388\tvalidation_1-rmse:205.834\n",
      "[50]\tvalidation_0-rmse:152.471\tvalidation_1-rmse:206.034\n",
      "[51]\tvalidation_0-rmse:152.32\tvalidation_1-rmse:206.069\n",
      "[52]\tvalidation_0-rmse:152.018\tvalidation_1-rmse:206.05\n",
      "[53]\tvalidation_0-rmse:151.952\tvalidation_1-rmse:206.038\n",
      "[54]\tvalidation_0-rmse:151.582\tvalidation_1-rmse:206.036\n",
      "[55]\tvalidation_0-rmse:151.342\tvalidation_1-rmse:207.176\n",
      "[56]\tvalidation_0-rmse:151.111\tvalidation_1-rmse:207.051\n",
      "[57]\tvalidation_0-rmse:150.75\tvalidation_1-rmse:207.033\n",
      "[58]\tvalidation_0-rmse:150.438\tvalidation_1-rmse:207.131\n",
      "[59]\tvalidation_0-rmse:150.069\tvalidation_1-rmse:207.15\n",
      "[60]\tvalidation_0-rmse:149.83\tvalidation_1-rmse:207.125\n",
      "[61]\tvalidation_0-rmse:149.007\tvalidation_1-rmse:206.974\n",
      "[62]\tvalidation_0-rmse:148.727\tvalidation_1-rmse:206.895\n",
      "[63]\tvalidation_0-rmse:148.605\tvalidation_1-rmse:206.877\n",
      "[64]\tvalidation_0-rmse:148.408\tvalidation_1-rmse:206.87\n",
      "[65]\tvalidation_0-rmse:147.993\tvalidation_1-rmse:206.855\n",
      "[66]\tvalidation_0-rmse:147.475\tvalidation_1-rmse:206.553\n",
      "[67]\tvalidation_0-rmse:147.355\tvalidation_1-rmse:206.591\n",
      "[68]\tvalidation_0-rmse:147.261\tvalidation_1-rmse:206.582\n",
      "[69]\tvalidation_0-rmse:147.109\tvalidation_1-rmse:206.559\n",
      "[70]\tvalidation_0-rmse:146.579\tvalidation_1-rmse:206.049\n",
      "[71]\tvalidation_0-rmse:146.308\tvalidation_1-rmse:206.184\n",
      "[72]\tvalidation_0-rmse:146.046\tvalidation_1-rmse:206.272\n",
      "[73]\tvalidation_0-rmse:145.739\tvalidation_1-rmse:206.174\n",
      "[74]\tvalidation_0-rmse:144.936\tvalidation_1-rmse:206.062\n",
      "[75]\tvalidation_0-rmse:144.751\tvalidation_1-rmse:205.936\n",
      "[76]\tvalidation_0-rmse:144.384\tvalidation_1-rmse:205.833\n",
      "[77]\tvalidation_0-rmse:144.223\tvalidation_1-rmse:205.83\n",
      "[78]\tvalidation_0-rmse:144.17\tvalidation_1-rmse:205.82\n",
      "[79]\tvalidation_0-rmse:143.368\tvalidation_1-rmse:206.089\n",
      "[80]\tvalidation_0-rmse:143.058\tvalidation_1-rmse:206.022\n",
      "[81]\tvalidation_0-rmse:142.18\tvalidation_1-rmse:206.307\n",
      "[82]\tvalidation_0-rmse:142.03\tvalidation_1-rmse:206.264\n",
      "[83]\tvalidation_0-rmse:141.745\tvalidation_1-rmse:206.626\n",
      "[84]\tvalidation_0-rmse:141.309\tvalidation_1-rmse:206.623\n",
      "[85]\tvalidation_0-rmse:141.112\tvalidation_1-rmse:206.638\n",
      "[86]\tvalidation_0-rmse:140.843\tvalidation_1-rmse:206.727\n",
      "[87]\tvalidation_0-rmse:140.618\tvalidation_1-rmse:206.905\n",
      "[88]\tvalidation_0-rmse:140.285\tvalidation_1-rmse:206.997\n",
      "[89]\tvalidation_0-rmse:140.12\tvalidation_1-rmse:206.978\n",
      "[90]\tvalidation_0-rmse:139.956\tvalidation_1-rmse:206.973\n",
      "[91]\tvalidation_0-rmse:139.623\tvalidation_1-rmse:206.809\n",
      "[92]\tvalidation_0-rmse:139.568\tvalidation_1-rmse:206.819\n",
      "[93]\tvalidation_0-rmse:139.445\tvalidation_1-rmse:206.737\n",
      "[94]\tvalidation_0-rmse:139.152\tvalidation_1-rmse:206.651\n",
      "[95]\tvalidation_0-rmse:139.031\tvalidation_1-rmse:206.647\n",
      "[96]\tvalidation_0-rmse:138.541\tvalidation_1-rmse:207.205\n",
      "[97]\tvalidation_0-rmse:137.789\tvalidation_1-rmse:207.036\n",
      "[98]\tvalidation_0-rmse:137.044\tvalidation_1-rmse:207.09\n",
      "[99]\tvalidation_0-rmse:136.986\tvalidation_1-rmse:207.08\n",
      "RMSLE: 85.58814819664636\n"
     ]
    }
   ],
   "source": [
    "reg2 = XGBRegressor(base_score=0.5, booster='gbtree', colsample_bylevel=1,\n",
    "             colsample_bynode=1, colsample_bytree=0.7, gamma=0.0,\n",
    "             importance_type='gain', learning_rate=0.25, max_delta_step=0,\n",
    "             max_depth=8, min_child_weight=1, missing=None, n_estimators=100,\n",
    "             n_jobs=1, nthread=None, objective='reg:linear', random_state=0,\n",
    "             reg_alpha=0, reg_lambda=1, scale_pos_weight=1, seed=None,\n",
    "             silent=None, subsample=1, verbosity=1)\n",
    "reg2.fit(train_split_x, \n",
    "        train_split_y,        \n",
    "        eval_set=[(train_split_x,train_split_y), (test_split_x, test_split_y)],)\n",
    "\n",
    "y_pred = reg2.predict(test_split_x)\n",
    "y_pred[y_pred<0] = 0 \n",
    "from sklearn import metrics \n",
    "print('RMSLE:', 100*np.sqrt(metrics.mean_squared_log_error(test_split_y, y_pred)))"
   ]
  },
  {
   "cell_type": "code",
   "execution_count": 25,
   "metadata": {
    "colab": {
     "base_uri": "https://localhost:8080/"
    },
    "executionInfo": {
     "elapsed": 63623,
     "status": "ok",
     "timestamp": 1627765922656,
     "user": {
      "displayName": "Adithya Krishna",
      "photoUrl": "",
      "userId": "14433587602683209861"
     },
     "user_tz": -120
    },
    "id": "FaEswEGYs92q",
    "outputId": "1da64bd0-e4ac-44aa-add8-0670e4d6d676"
   },
   "outputs": [
    {
     "name": "stdout",
     "output_type": "stream",
     "text": [
      "RMSLE: 127.76480210171061\n"
     ]
    }
   ],
   "source": [
    "from xgboost import XGBRegressor\n",
    "XG = XGBRegressor()\n",
    "XG.fit(train_split_x,train_split_y)\n",
    "y_pred = XG.predict(test_split_x) \n",
    "y_pred[y_pred<0] = 0 \n",
    "from sklearn import metrics \n",
    "print('RMSLE:', 100*np.sqrt(metrics.mean_squared_log_error(test_split_y, y_pred)))"
   ]
  },
  {
   "cell_type": "markdown",
   "metadata": {
    "id": "DBrqf83AWeil"
   },
   "source": [
    "GradientBoosting"
   ]
  },
  {
   "cell_type": "code",
   "execution_count": 11,
   "metadata": {
    "colab": {
     "base_uri": "https://localhost:8080/"
    },
    "executionInfo": {
     "elapsed": 92227,
     "status": "ok",
     "timestamp": 1627798812201,
     "user": {
      "displayName": "Adithya Krishna",
      "photoUrl": "",
      "userId": "14433587602683209861"
     },
     "user_tz": -120
    },
    "id": "lvciawIxWeim",
    "outputId": "efc3f7af-f5d0-4dc5-945c-081ef1def657"
   },
   "outputs": [
    {
     "name": "stdout",
     "output_type": "stream",
     "text": [
      "Score:  0.5910881440274972\n",
      "RMSLE: 111.13135009252015\n"
     ]
    }
   ],
   "source": [
    "from sklearn.datasets import make_regression\n",
    "from sklearn.ensemble import GradientBoostingRegressor\n",
    "\n",
    "reg = GradientBoostingRegressor(random_state=0)\n",
    "reg.fit(train_split_x,train_split_y)\n",
    "y_pred = reg.predict(test_split_x)\n",
    "print('Score: ', reg.score(test_split_x, test_split_y))\n",
    "\n",
    "y_pred[y_pred<0] = 0 \n",
    "from sklearn import metrics \n",
    "print('RMSLE:', 100*np.sqrt(metrics.mean_squared_log_error(test_split_y, y_pred)))"
   ]
  },
  {
   "cell_type": "markdown",
   "metadata": {
    "id": "r9Diovl2Wein"
   },
   "source": [
    "DecisionTree"
   ]
  },
  {
   "cell_type": "code",
   "execution_count": 11,
   "metadata": {
    "colab": {
     "base_uri": "https://localhost:8080/"
    },
    "executionInfo": {
     "elapsed": 6520,
     "status": "ok",
     "timestamp": 1627801099903,
     "user": {
      "displayName": "Adithya Krishna",
      "photoUrl": "",
      "userId": "14433587602683209861"
     },
     "user_tz": -120
    },
    "id": "x-1bGF5TWein",
    "outputId": "bc812ddd-50ea-44dc-ebbf-4026f3a3b545"
   },
   "outputs": [
    {
     "name": "stdout",
     "output_type": "stream",
     "text": [
      "Score:  0.4312301071516812\n",
      "RMSLE: 83.67461428232413\n"
     ]
    }
   ],
   "source": [
    "from sklearn.tree import DecisionTreeRegressor\n",
    "\n",
    "reg = DecisionTreeRegressor(random_state=0)\n",
    "reg.fit(train_split_x,train_split_y)\n",
    "y_pred = reg.predict(test_split_x)\n",
    "print('Score: ', reg.score(test_split_x, test_split_y))\n",
    "\n",
    "y_pred[y_pred<0] = 0 \n",
    "from sklearn import metrics \n",
    "print('RMSLE:', 100*np.sqrt(metrics.mean_squared_log_error(test_split_y, y_pred)))"
   ]
  },
  {
   "cell_type": "code",
   "execution_count": 23,
   "metadata": {},
   "outputs": [],
   "source": [
    "import pickle\n",
    "pickle.dump(reg, open(\"XGB_Boost_complex_model.h5\", \"wb\"))"
   ]
  },
  {
   "cell_type": "code",
   "execution_count": 12,
   "metadata": {
    "executionInfo": {
     "elapsed": 242,
     "status": "ok",
     "timestamp": 1627801110585,
     "user": {
      "displayName": "Adithya Krishna",
      "photoUrl": "",
      "userId": "14433587602683209861"
     },
     "user_tz": -120
    },
    "id": "-865MU1zfdPJ"
   },
   "outputs": [],
   "source": [
    "import pickle\n",
    "# Dump the trained decision tree classifier with Pickle\n",
    "decision_tree_pkl_filename = '/content/drive/MyDrive/Colab Notebooks/Techlabs_hackathon/dt_reg.h5'\n",
    "# Open the file to save as pkl file\n",
    "decision_tree_model_pkl = open(decision_tree_pkl_filename, 'wb')\n",
    "pickle.dump(reg, decision_tree_model_pkl)\n",
    "# Close the pickle instances\n",
    "decision_tree_model_pkl.close()"
   ]
  },
  {
   "cell_type": "code",
   "execution_count": 14,
   "metadata": {
    "colab": {
     "base_uri": "https://localhost:8080/"
    },
    "executionInfo": {
     "elapsed": 233,
     "status": "ok",
     "timestamp": 1627801255454,
     "user": {
      "displayName": "Adithya Krishna",
      "photoUrl": "",
      "userId": "14433587602683209861"
     },
     "user_tz": -120
    },
    "id": "6lhgr5-Mgqjc",
    "outputId": "39b8ca50-39ae-4331-f4f1-d0b755715880"
   },
   "outputs": [
    {
     "name": "stdout",
     "output_type": "stream",
     "text": [
      "Loaded Decision tree model ::  DecisionTreeRegressor(ccp_alpha=0.0, criterion='mse', max_depth=None,\n",
      "                      max_features=None, max_leaf_nodes=None,\n",
      "                      min_impurity_decrease=0.0, min_impurity_split=None,\n",
      "                      min_samples_leaf=1, min_samples_split=2,\n",
      "                      min_weight_fraction_leaf=0.0, presort='deprecated',\n",
      "                      random_state=0, splitter='best')\n"
     ]
    }
   ],
   "source": [
    "# Loading the saved decision tree model pickle\n",
    "fl = open(decision_tree_pkl_filename, 'rb')\n",
    "decision_tree_model = pickle.load(fl)\n",
    "print(\"Loaded Decision tree model :: \", decision_tree_model)"
   ]
  },
  {
   "cell_type": "code",
   "execution_count": 15,
   "metadata": {
    "colab": {
     "base_uri": "https://localhost:8080/"
    },
    "executionInfo": {
     "elapsed": 230,
     "status": "ok",
     "timestamp": 1627801320359,
     "user": {
      "displayName": "Adithya Krishna",
      "photoUrl": "",
      "userId": "14433587602683209861"
     },
     "user_tz": -120
    },
    "id": "OwCJ1pKzg68s",
    "outputId": "0a5b7979-e575-4922-f5a6-2973d9ca9806"
   },
   "outputs": [
    {
     "name": "stdout",
     "output_type": "stream",
     "text": [
      "RMSLE: 83.67461428232413\n"
     ]
    }
   ],
   "source": [
    "print('RMSLE:', 100*np.sqrt(metrics.mean_squared_log_error(test_split_y, decision_tree_model.predict(test_split_x))))"
   ]
  },
  {
   "cell_type": "code",
   "execution_count": null,
   "metadata": {
    "colab": {
     "base_uri": "https://localhost:8080/"
    },
    "id": "swXUVp4IXzRP",
    "outputId": "0265dd53-3981-452f-8bf6-e59fc4725499"
   },
   "outputs": [
    {
     "name": "stdout",
     "output_type": "stream",
     "text": [
      "Fitting 5 folds for each of 5 candidates, totalling 25 fits\n",
      "[CV] min_samples_split=10, min_samples_leaf=20, max_leaf_nodes=5, max_depth=2, criterion=mae \n"
     ]
    },
    {
     "name": "stderr",
     "output_type": "stream",
     "text": [
      "[Parallel(n_jobs=1)]: Using backend SequentialBackend with 1 concurrent workers.\n"
     ]
    }
   ],
   "source": [
    "from scipy.stats import randint\n",
    "params = {\"criterion\": [\"mse\", \"mae\"],\n",
    "              \"min_samples_split\": [10, 20, 40],\n",
    "              \"max_depth\": [2, 6, 8],\n",
    "              \"min_samples_leaf\": [20, 40, 100],\n",
    "              \"max_leaf_nodes\": [5, 20, 100],}\n",
    "\n",
    "reg = DecisionTreeRegressor(random_state=0)\n",
    "#cv = StratifiedKFold(n_splits=10,shuffle=True,random_state=1)\n",
    "random_search=RandomizedSearchCV(reg,param_distributions=params,n_iter=5,verbose=3)\n",
    "random_search.fit(train_split_x,train_split_y)\n",
    "\n",
    "print('best_estimator: ', random_search.best_estimator_)\n",
    "print('best_params', random_search.best_params_)"
   ]
  },
  {
   "cell_type": "markdown",
   "metadata": {
    "id": "vSoskSfEWeio"
   },
   "source": [
    "RandomForest"
   ]
  },
  {
   "cell_type": "code",
   "execution_count": 17,
   "metadata": {
    "colab": {
     "base_uri": "https://localhost:8080/"
    },
    "executionInfo": {
     "elapsed": 36406,
     "status": "ok",
     "timestamp": 1627766346018,
     "user": {
      "displayName": "Adithya Krishna",
      "photoUrl": "",
      "userId": "14433587602683209861"
     },
     "user_tz": -120
    },
    "id": "Q-3UbpVbWeio",
    "outputId": "68184c49-55ba-4438-ccb5-b74c71d977f6"
   },
   "outputs": [
    {
     "name": "stdout",
     "output_type": "stream",
     "text": [
      "Score:  0.13875446287209392\n",
      "RMSLE: 118.98347319413634\n"
     ]
    }
   ],
   "source": [
    "from sklearn.ensemble import RandomForestRegressor\n",
    "\n",
    "reg = RandomForestRegressor(max_depth=2, random_state=0)\n",
    "reg.fit(train_split_x,train_split_y)\n",
    "y_pred = reg.predict(test_split_x)\n",
    "print('Score: ', reg.score(test_split_x, test_split_y))\n",
    "\n",
    "y_pred[y_pred<0] = 0 \n",
    "from sklearn import metrics \n",
    "print('RMSLE:', 100*np.sqrt(metrics.mean_squared_log_error(test_split_y, y_pred)))"
   ]
  },
  {
   "cell_type": "markdown",
   "metadata": {
    "id": "e2SPjpYrWeip"
   },
   "source": [
    "LightGBM"
   ]
  },
  {
   "cell_type": "code",
   "execution_count": 20,
   "metadata": {
    "colab": {
     "base_uri": "https://localhost:8080/"
    },
    "executionInfo": {
     "elapsed": 117531,
     "status": "ok",
     "timestamp": 1627766730336,
     "user": {
      "displayName": "Adithya Krishna",
      "photoUrl": "",
      "userId": "14433587602683209861"
     },
     "user_tz": -120
    },
    "id": "SdEUGzxHWeiq",
    "outputId": "b5c96fc1-7991-4f97-ab74-c951702dfc24"
   },
   "outputs": [
    {
     "name": "stderr",
     "output_type": "stream",
     "text": [
      "/usr/local/lib/python3.7/dist-packages/lightgbm/engine.py:118: UserWarning: Found `num_iterations` in params. Will use it instead of argument\n",
      "  warnings.warn(\"Found `{}` in params. Will use it instead of argument\".format(alias))\n"
     ]
    },
    {
     "name": "stdout",
     "output_type": "stream",
     "text": [
      "[1]\ttraining's auc: 1\ttraining's l2: 161916\tvalid_1's auc: 1\tvalid_1's l2: 132998\n",
      "Training until validation scores don't improve for 1000 rounds.\n",
      "[2]\ttraining's auc: 1\ttraining's l2: 160889\tvalid_1's auc: 1\tvalid_1's l2: 132306\n",
      "[3]\ttraining's auc: 1\ttraining's l2: 159862\tvalid_1's auc: 1\tvalid_1's l2: 131552\n",
      "[4]\ttraining's auc: 1\ttraining's l2: 158894\tvalid_1's auc: 1\tvalid_1's l2: 130843\n",
      "[5]\ttraining's auc: 1\ttraining's l2: 157936\tvalid_1's auc: 1\tvalid_1's l2: 130141\n",
      "[6]\ttraining's auc: 1\ttraining's l2: 157006\tvalid_1's auc: 1\tvalid_1's l2: 129483\n",
      "[7]\ttraining's auc: 1\ttraining's l2: 156015\tvalid_1's auc: 1\tvalid_1's l2: 128754\n",
      "[8]\ttraining's auc: 1\ttraining's l2: 155031\tvalid_1's auc: 1\tvalid_1's l2: 128047\n",
      "[9]\ttraining's auc: 1\ttraining's l2: 154165\tvalid_1's auc: 1\tvalid_1's l2: 127497\n",
      "[10]\ttraining's auc: 1\ttraining's l2: 153239\tvalid_1's auc: 1\tvalid_1's l2: 126910\n",
      "[11]\ttraining's auc: 1\ttraining's l2: 152301\tvalid_1's auc: 1\tvalid_1's l2: 126190\n",
      "[12]\ttraining's auc: 1\ttraining's l2: 151628\tvalid_1's auc: 1\tvalid_1's l2: 125680\n",
      "[13]\ttraining's auc: 1\ttraining's l2: 150689\tvalid_1's auc: 1\tvalid_1's l2: 124992\n",
      "[14]\ttraining's auc: 1\ttraining's l2: 149827\tvalid_1's auc: 1\tvalid_1's l2: 124457\n",
      "[15]\ttraining's auc: 1\ttraining's l2: 148913\tvalid_1's auc: 1\tvalid_1's l2: 123778\n",
      "[16]\ttraining's auc: 1\ttraining's l2: 147996\tvalid_1's auc: 1\tvalid_1's l2: 123145\n",
      "[17]\ttraining's auc: 1\ttraining's l2: 147225\tvalid_1's auc: 1\tvalid_1's l2: 122572\n",
      "[18]\ttraining's auc: 1\ttraining's l2: 146394\tvalid_1's auc: 1\tvalid_1's l2: 121955\n",
      "[19]\ttraining's auc: 1\ttraining's l2: 145505\tvalid_1's auc: 1\tvalid_1's l2: 121308\n",
      "[20]\ttraining's auc: 1\ttraining's l2: 144779\tvalid_1's auc: 1\tvalid_1's l2: 120794\n",
      "[21]\ttraining's auc: 1\ttraining's l2: 143907\tvalid_1's auc: 1\tvalid_1's l2: 120199\n",
      "[22]\ttraining's auc: 1\ttraining's l2: 143033\tvalid_1's auc: 1\tvalid_1's l2: 119571\n",
      "[23]\ttraining's auc: 1\ttraining's l2: 142255\tvalid_1's auc: 1\tvalid_1's l2: 119026\n",
      "[24]\ttraining's auc: 1\ttraining's l2: 141396\tvalid_1's auc: 1\tvalid_1's l2: 118394\n",
      "[25]\ttraining's auc: 1\ttraining's l2: 140671\tvalid_1's auc: 1\tvalid_1's l2: 117887\n",
      "[26]\ttraining's auc: 1\ttraining's l2: 139831\tvalid_1's auc: 1\tvalid_1's l2: 117317\n",
      "[27]\ttraining's auc: 1\ttraining's l2: 139002\tvalid_1's auc: 1\tvalid_1's l2: 116713\n",
      "[28]\ttraining's auc: 1\ttraining's l2: 138169\tvalid_1's auc: 1\tvalid_1's l2: 116129\n",
      "[29]\ttraining's auc: 1\ttraining's l2: 137425\tvalid_1's auc: 1\tvalid_1's l2: 115641\n",
      "[30]\ttraining's auc: 1\ttraining's l2: 136678\tvalid_1's auc: 1\tvalid_1's l2: 115079\n",
      "[31]\ttraining's auc: 1\ttraining's l2: 135876\tvalid_1's auc: 1\tvalid_1's l2: 114492\n",
      "[32]\ttraining's auc: 1\ttraining's l2: 135101\tvalid_1's auc: 1\tvalid_1's l2: 113875\n",
      "[33]\ttraining's auc: 1\ttraining's l2: 134315\tvalid_1's auc: 1\tvalid_1's l2: 113305\n",
      "[34]\ttraining's auc: 1\ttraining's l2: 133545\tvalid_1's auc: 1\tvalid_1's l2: 112743\n",
      "[35]\ttraining's auc: 1\ttraining's l2: 132779\tvalid_1's auc: 1\tvalid_1's l2: 112236\n",
      "[36]\ttraining's auc: 1\ttraining's l2: 132046\tvalid_1's auc: 1\tvalid_1's l2: 111714\n",
      "[37]\ttraining's auc: 1\ttraining's l2: 131285\tvalid_1's auc: 1\tvalid_1's l2: 111163\n",
      "[38]\ttraining's auc: 1\ttraining's l2: 130533\tvalid_1's auc: 1\tvalid_1's l2: 110642\n",
      "[39]\ttraining's auc: 1\ttraining's l2: 129789\tvalid_1's auc: 1\tvalid_1's l2: 110104\n",
      "[40]\ttraining's auc: 1\ttraining's l2: 129051\tvalid_1's auc: 1\tvalid_1's l2: 109582\n",
      "[41]\ttraining's auc: 1\ttraining's l2: 128374\tvalid_1's auc: 1\tvalid_1's l2: 109180\n",
      "[42]\ttraining's auc: 1\ttraining's l2: 127652\tvalid_1's auc: 1\tvalid_1's l2: 108668\n",
      "[43]\ttraining's auc: 1\ttraining's l2: 126944\tvalid_1's auc: 1\tvalid_1's l2: 108204\n",
      "[44]\ttraining's auc: 1\ttraining's l2: 126246\tvalid_1's auc: 1\tvalid_1's l2: 107689\n",
      "[45]\ttraining's auc: 1\ttraining's l2: 125555\tvalid_1's auc: 1\tvalid_1's l2: 107228\n",
      "[46]\ttraining's auc: 1\ttraining's l2: 124951\tvalid_1's auc: 1\tvalid_1's l2: 106822\n",
      "[47]\ttraining's auc: 1\ttraining's l2: 124277\tvalid_1's auc: 1\tvalid_1's l2: 106343\n",
      "[48]\ttraining's auc: 1\ttraining's l2: 123599\tvalid_1's auc: 1\tvalid_1's l2: 105857\n",
      "[49]\ttraining's auc: 1\ttraining's l2: 122921\tvalid_1's auc: 1\tvalid_1's l2: 105400\n",
      "[50]\ttraining's auc: 1\ttraining's l2: 122273\tvalid_1's auc: 1\tvalid_1's l2: 104930\n",
      "[51]\ttraining's auc: 1\ttraining's l2: 121635\tvalid_1's auc: 1\tvalid_1's l2: 104453\n",
      "[52]\ttraining's auc: 1\ttraining's l2: 120970\tvalid_1's auc: 1\tvalid_1's l2: 103967\n",
      "[53]\ttraining's auc: 1\ttraining's l2: 120403\tvalid_1's auc: 1\tvalid_1's l2: 103588\n",
      "[54]\ttraining's auc: 1\ttraining's l2: 119754\tvalid_1's auc: 1\tvalid_1's l2: 103170\n",
      "[55]\ttraining's auc: 1\ttraining's l2: 119108\tvalid_1's auc: 1\tvalid_1's l2: 102685\n",
      "[56]\ttraining's auc: 1\ttraining's l2: 118468\tvalid_1's auc: 1\tvalid_1's l2: 102192\n",
      "[57]\ttraining's auc: 1\ttraining's l2: 117835\tvalid_1's auc: 1\tvalid_1's l2: 101778\n",
      "[58]\ttraining's auc: 1\ttraining's l2: 117303\tvalid_1's auc: 1\tvalid_1's l2: 101419\n",
      "[59]\ttraining's auc: 1\ttraining's l2: 116679\tvalid_1's auc: 1\tvalid_1's l2: 100921\n",
      "[60]\ttraining's auc: 1\ttraining's l2: 116060\tvalid_1's auc: 1\tvalid_1's l2: 100437\n",
      "[61]\ttraining's auc: 1\ttraining's l2: 115478\tvalid_1's auc: 1\tvalid_1's l2: 99975.5\n",
      "[62]\ttraining's auc: 1\ttraining's l2: 114927\tvalid_1's auc: 1\tvalid_1's l2: 99563.1\n",
      "[63]\ttraining's auc: 1\ttraining's l2: 114330\tvalid_1's auc: 1\tvalid_1's l2: 99095.3\n",
      "[64]\ttraining's auc: 1\ttraining's l2: 113732\tvalid_1's auc: 1\tvalid_1's l2: 98636.1\n",
      "[65]\ttraining's auc: 1\ttraining's l2: 113162\tvalid_1's auc: 1\tvalid_1's l2: 98227.4\n",
      "[66]\ttraining's auc: 1\ttraining's l2: 112585\tvalid_1's auc: 1\tvalid_1's l2: 97816.8\n",
      "[67]\ttraining's auc: 1\ttraining's l2: 112004\tvalid_1's auc: 1\tvalid_1's l2: 97371.2\n",
      "[68]\ttraining's auc: 1\ttraining's l2: 111429\tvalid_1's auc: 1\tvalid_1's l2: 96981\n",
      "[69]\ttraining's auc: 1\ttraining's l2: 110865\tvalid_1's auc: 1\tvalid_1's l2: 96559.9\n",
      "[70]\ttraining's auc: 1\ttraining's l2: 110317\tvalid_1's auc: 1\tvalid_1's l2: 96168.7\n",
      "[71]\ttraining's auc: 1\ttraining's l2: 109761\tvalid_1's auc: 1\tvalid_1's l2: 95769.6\n",
      "[72]\ttraining's auc: 1\ttraining's l2: 109273\tvalid_1's auc: 1\tvalid_1's l2: 95393.1\n",
      "[73]\ttraining's auc: 1\ttraining's l2: 108773\tvalid_1's auc: 1\tvalid_1's l2: 95037.5\n",
      "[74]\ttraining's auc: 1\ttraining's l2: 108262\tvalid_1's auc: 1\tvalid_1's l2: 94633.2\n",
      "[75]\ttraining's auc: 1\ttraining's l2: 107724\tvalid_1's auc: 1\tvalid_1's l2: 94275.1\n",
      "[76]\ttraining's auc: 1\ttraining's l2: 107216\tvalid_1's auc: 1\tvalid_1's l2: 93974.9\n",
      "[77]\ttraining's auc: 1\ttraining's l2: 106677\tvalid_1's auc: 1\tvalid_1's l2: 93593.2\n",
      "[78]\ttraining's auc: 1\ttraining's l2: 106152\tvalid_1's auc: 1\tvalid_1's l2: 93219.3\n",
      "[79]\ttraining's auc: 1\ttraining's l2: 105711\tvalid_1's auc: 1\tvalid_1's l2: 92880.3\n",
      "[80]\ttraining's auc: 1\ttraining's l2: 105197\tvalid_1's auc: 1\tvalid_1's l2: 92505.6\n",
      "[81]\ttraining's auc: 1\ttraining's l2: 104681\tvalid_1's auc: 1\tvalid_1's l2: 92142.7\n",
      "[82]\ttraining's auc: 1\ttraining's l2: 104197\tvalid_1's auc: 1\tvalid_1's l2: 91808.7\n",
      "[83]\ttraining's auc: 1\ttraining's l2: 103690\tvalid_1's auc: 1\tvalid_1's l2: 91454.8\n",
      "[84]\ttraining's auc: 1\ttraining's l2: 103191\tvalid_1's auc: 1\tvalid_1's l2: 91102.8\n",
      "[85]\ttraining's auc: 1\ttraining's l2: 102692\tvalid_1's auc: 1\tvalid_1's l2: 90758.4\n",
      "[86]\ttraining's auc: 1\ttraining's l2: 102201\tvalid_1's auc: 1\tvalid_1's l2: 90410.4\n",
      "[87]\ttraining's auc: 1\ttraining's l2: 101716\tvalid_1's auc: 1\tvalid_1's l2: 90070.2\n",
      "[88]\ttraining's auc: 1\ttraining's l2: 101231\tvalid_1's auc: 1\tvalid_1's l2: 89734.6\n",
      "[89]\ttraining's auc: 1\ttraining's l2: 100752\tvalid_1's auc: 1\tvalid_1's l2: 89386.1\n",
      "[90]\ttraining's auc: 1\ttraining's l2: 100428\tvalid_1's auc: 1\tvalid_1's l2: 89145\n",
      "[91]\ttraining's auc: 1\ttraining's l2: 100030\tvalid_1's auc: 1\tvalid_1's l2: 88832.1\n",
      "[92]\ttraining's auc: 1\ttraining's l2: 99559.4\tvalid_1's auc: 1\tvalid_1's l2: 88496.9\n",
      "[93]\ttraining's auc: 1\ttraining's l2: 99109.3\tvalid_1's auc: 1\tvalid_1's l2: 88157.4\n",
      "[94]\ttraining's auc: 1\ttraining's l2: 98655.9\tvalid_1's auc: 1\tvalid_1's l2: 87865.8\n",
      "[95]\ttraining's auc: 1\ttraining's l2: 98211.2\tvalid_1's auc: 1\tvalid_1's l2: 87551.3\n",
      "[96]\ttraining's auc: 1\ttraining's l2: 97754.6\tvalid_1's auc: 1\tvalid_1's l2: 87230.1\n",
      "[97]\ttraining's auc: 1\ttraining's l2: 97310\tvalid_1's auc: 1\tvalid_1's l2: 86912.4\n",
      "[98]\ttraining's auc: 1\ttraining's l2: 96860.8\tvalid_1's auc: 1\tvalid_1's l2: 86591.3\n",
      "[99]\ttraining's auc: 1\ttraining's l2: 96418.6\tvalid_1's auc: 1\tvalid_1's l2: 86270.7\n",
      "[100]\ttraining's auc: 1\ttraining's l2: 96010.4\tvalid_1's auc: 1\tvalid_1's l2: 86008.8\n",
      "[101]\ttraining's auc: 1\ttraining's l2: 95580.8\tvalid_1's auc: 1\tvalid_1's l2: 85713.2\n",
      "[102]\ttraining's auc: 1\ttraining's l2: 95148.7\tvalid_1's auc: 1\tvalid_1's l2: 85419.9\n",
      "[103]\ttraining's auc: 1\ttraining's l2: 94726.9\tvalid_1's auc: 1\tvalid_1's l2: 85130.8\n",
      "[104]\ttraining's auc: 1\ttraining's l2: 94307.6\tvalid_1's auc: 1\tvalid_1's l2: 84837.3\n",
      "[105]\ttraining's auc: 1\ttraining's l2: 93893.6\tvalid_1's auc: 1\tvalid_1's l2: 84553.3\n",
      "[106]\ttraining's auc: 1\ttraining's l2: 93487.4\tvalid_1's auc: 1\tvalid_1's l2: 84272.7\n",
      "[107]\ttraining's auc: 1\ttraining's l2: 93080.6\tvalid_1's auc: 1\tvalid_1's l2: 84008.8\n",
      "[108]\ttraining's auc: 1\ttraining's l2: 92667\tvalid_1's auc: 1\tvalid_1's l2: 83721\n",
      "[109]\ttraining's auc: 1\ttraining's l2: 92258.5\tvalid_1's auc: 1\tvalid_1's l2: 83424.4\n",
      "[110]\ttraining's auc: 1\ttraining's l2: 91855.2\tvalid_1's auc: 1\tvalid_1's l2: 83148.6\n",
      "[111]\ttraining's auc: 1\ttraining's l2: 91465.1\tvalid_1's auc: 1\tvalid_1's l2: 82890.3\n",
      "[112]\ttraining's auc: 1\ttraining's l2: 91072.7\tvalid_1's auc: 1\tvalid_1's l2: 82611.4\n",
      "[113]\ttraining's auc: 1\ttraining's l2: 90785.2\tvalid_1's auc: 1\tvalid_1's l2: 82390.7\n",
      "[114]\ttraining's auc: 1\ttraining's l2: 90403.3\tvalid_1's auc: 1\tvalid_1's l2: 82111.4\n",
      "[115]\ttraining's auc: 1\ttraining's l2: 90019.7\tvalid_1's auc: 1\tvalid_1's l2: 81831.4\n",
      "[116]\ttraining's auc: 1\ttraining's l2: 89644\tvalid_1's auc: 1\tvalid_1's l2: 81603.4\n",
      "[117]\ttraining's auc: 1\ttraining's l2: 89269.4\tvalid_1's auc: 1\tvalid_1's l2: 81347.9\n",
      "[118]\ttraining's auc: 1\ttraining's l2: 88902.5\tvalid_1's auc: 1\tvalid_1's l2: 81084.5\n",
      "[119]\ttraining's auc: 1\ttraining's l2: 88538.1\tvalid_1's auc: 1\tvalid_1's l2: 80834.2\n",
      "[120]\ttraining's auc: 1\ttraining's l2: 88181\tvalid_1's auc: 1\tvalid_1's l2: 80562.9\n",
      "[121]\ttraining's auc: 1\ttraining's l2: 87817\tvalid_1's auc: 1\tvalid_1's l2: 80290.6\n",
      "[122]\ttraining's auc: 1\ttraining's l2: 87457.3\tvalid_1's auc: 1\tvalid_1's l2: 80021.2\n",
      "[123]\ttraining's auc: 1\ttraining's l2: 87094.2\tvalid_1's auc: 1\tvalid_1's l2: 79755\n",
      "[124]\ttraining's auc: 1\ttraining's l2: 86747.8\tvalid_1's auc: 1\tvalid_1's l2: 79500.2\n",
      "[125]\ttraining's auc: 1\ttraining's l2: 86402.2\tvalid_1's auc: 1\tvalid_1's l2: 79278.8\n",
      "[126]\ttraining's auc: 1\ttraining's l2: 86049.5\tvalid_1's auc: 1\tvalid_1's l2: 79030.8\n",
      "[127]\ttraining's auc: 1\ttraining's l2: 85705.6\tvalid_1's auc: 1\tvalid_1's l2: 78782.2\n",
      "[128]\ttraining's auc: 1\ttraining's l2: 85371\tvalid_1's auc: 1\tvalid_1's l2: 78530\n",
      "[129]\ttraining's auc: 1\ttraining's l2: 85053.6\tvalid_1's auc: 1\tvalid_1's l2: 78293.6\n",
      "[130]\ttraining's auc: 1\ttraining's l2: 84706.1\tvalid_1's auc: 1\tvalid_1's l2: 78053.1\n",
      "[131]\ttraining's auc: 1\ttraining's l2: 84367\tvalid_1's auc: 1\tvalid_1's l2: 77824.6\n",
      "[132]\ttraining's auc: 1\ttraining's l2: 84037.5\tvalid_1's auc: 1\tvalid_1's l2: 77644.5\n",
      "[133]\ttraining's auc: 1\ttraining's l2: 83705.5\tvalid_1's auc: 1\tvalid_1's l2: 77426.6\n",
      "[134]\ttraining's auc: 1\ttraining's l2: 83380.8\tvalid_1's auc: 1\tvalid_1's l2: 77195.9\n",
      "[135]\ttraining's auc: 1\ttraining's l2: 83061\tvalid_1's auc: 1\tvalid_1's l2: 76976.9\n",
      "[136]\ttraining's auc: 1\ttraining's l2: 82749.6\tvalid_1's auc: 1\tvalid_1's l2: 76745.6\n",
      "[137]\ttraining's auc: 1\ttraining's l2: 82429.7\tvalid_1's auc: 1\tvalid_1's l2: 76530.8\n",
      "[138]\ttraining's auc: 1\ttraining's l2: 82121.3\tvalid_1's auc: 1\tvalid_1's l2: 76317.3\n",
      "[139]\ttraining's auc: 1\ttraining's l2: 81840.4\tvalid_1's auc: 1\tvalid_1's l2: 76105.8\n",
      "[140]\ttraining's auc: 1\ttraining's l2: 81530.2\tvalid_1's auc: 1\tvalid_1's l2: 75884.3\n",
      "[141]\ttraining's auc: 1\ttraining's l2: 81266.3\tvalid_1's auc: 1\tvalid_1's l2: 75689.3\n",
      "[142]\ttraining's auc: 1\ttraining's l2: 80956.6\tvalid_1's auc: 1\tvalid_1's l2: 75505.3\n",
      "[143]\ttraining's auc: 1\ttraining's l2: 80650.9\tvalid_1's auc: 1\tvalid_1's l2: 75322.9\n",
      "[144]\ttraining's auc: 1\ttraining's l2: 80347.2\tvalid_1's auc: 1\tvalid_1's l2: 75117.4\n",
      "[145]\ttraining's auc: 1\ttraining's l2: 80082.1\tvalid_1's auc: 1\tvalid_1's l2: 74932.6\n",
      "[146]\ttraining's auc: 1\ttraining's l2: 79788.7\tvalid_1's auc: 1\tvalid_1's l2: 74730.9\n",
      "[147]\ttraining's auc: 1\ttraining's l2: 79492.3\tvalid_1's auc: 1\tvalid_1's l2: 74549.8\n",
      "[148]\ttraining's auc: 1\ttraining's l2: 79199.6\tvalid_1's auc: 1\tvalid_1's l2: 74367.6\n",
      "[149]\ttraining's auc: 1\ttraining's l2: 78945\tvalid_1's auc: 1\tvalid_1's l2: 74188.2\n",
      "[150]\ttraining's auc: 1\ttraining's l2: 78656.4\tvalid_1's auc: 1\tvalid_1's l2: 74015.9\n",
      "[151]\ttraining's auc: 1\ttraining's l2: 78360.6\tvalid_1's auc: 1\tvalid_1's l2: 73813.7\n",
      "[152]\ttraining's auc: 1\ttraining's l2: 78085.4\tvalid_1's auc: 1\tvalid_1's l2: 73648.2\n",
      "[153]\ttraining's auc: 1\ttraining's l2: 77787.9\tvalid_1's auc: 1\tvalid_1's l2: 73442.4\n",
      "[154]\ttraining's auc: 1\ttraining's l2: 77497.4\tvalid_1's auc: 1\tvalid_1's l2: 73245.8\n",
      "[155]\ttraining's auc: 1\ttraining's l2: 77204.4\tvalid_1's auc: 1\tvalid_1's l2: 73047.9\n",
      "[156]\ttraining's auc: 1\ttraining's l2: 76917\tvalid_1's auc: 1\tvalid_1's l2: 72854.9\n",
      "[157]\ttraining's auc: 1\ttraining's l2: 76644.3\tvalid_1's auc: 1\tvalid_1's l2: 72697.3\n",
      "[158]\ttraining's auc: 1\ttraining's l2: 76383.6\tvalid_1's auc: 1\tvalid_1's l2: 72543.3\n",
      "[159]\ttraining's auc: 1\ttraining's l2: 76132.9\tvalid_1's auc: 1\tvalid_1's l2: 72368\n",
      "[160]\ttraining's auc: 1\ttraining's l2: 75864.4\tvalid_1's auc: 1\tvalid_1's l2: 72193.1\n",
      "[161]\ttraining's auc: 1\ttraining's l2: 75583.4\tvalid_1's auc: 1\tvalid_1's l2: 72014.6\n",
      "[162]\ttraining's auc: 1\ttraining's l2: 75318\tvalid_1's auc: 1\tvalid_1's l2: 71865.8\n",
      "[163]\ttraining's auc: 1\ttraining's l2: 75080.4\tvalid_1's auc: 1\tvalid_1's l2: 71711.6\n",
      "[164]\ttraining's auc: 1\ttraining's l2: 74809.6\tvalid_1's auc: 1\tvalid_1's l2: 71548\n",
      "[165]\ttraining's auc: 1\ttraining's l2: 74557.5\tvalid_1's auc: 1\tvalid_1's l2: 71387\n",
      "[166]\ttraining's auc: 1\ttraining's l2: 74312.2\tvalid_1's auc: 1\tvalid_1's l2: 71225.4\n",
      "[167]\ttraining's auc: 1\ttraining's l2: 74046.7\tvalid_1's auc: 1\tvalid_1's l2: 71041.7\n",
      "[168]\ttraining's auc: 1\ttraining's l2: 73821.5\tvalid_1's auc: 1\tvalid_1's l2: 70837.6\n",
      "[169]\ttraining's auc: 1\ttraining's l2: 73562.6\tvalid_1's auc: 1\tvalid_1's l2: 70669.1\n",
      "[170]\ttraining's auc: 1\ttraining's l2: 73307\tvalid_1's auc: 1\tvalid_1's l2: 70502.3\n",
      "[171]\ttraining's auc: 1\ttraining's l2: 73046.6\tvalid_1's auc: 1\tvalid_1's l2: 70320.9\n",
      "[172]\ttraining's auc: 1\ttraining's l2: 72804.6\tvalid_1's auc: 1\tvalid_1's l2: 70147.2\n",
      "[173]\ttraining's auc: 1\ttraining's l2: 72547.1\tvalid_1's auc: 1\tvalid_1's l2: 69980\n",
      "[174]\ttraining's auc: 1\ttraining's l2: 72307.9\tvalid_1's auc: 1\tvalid_1's l2: 69808.1\n",
      "[175]\ttraining's auc: 1\ttraining's l2: 72070.4\tvalid_1's auc: 1\tvalid_1's l2: 69652.6\n",
      "[176]\ttraining's auc: 1\ttraining's l2: 71891.5\tvalid_1's auc: 1\tvalid_1's l2: 69502.8\n",
      "[177]\ttraining's auc: 1\ttraining's l2: 71647.4\tvalid_1's auc: 1\tvalid_1's l2: 69319.3\n",
      "[178]\ttraining's auc: 1\ttraining's l2: 71415.7\tvalid_1's auc: 1\tvalid_1's l2: 69144.8\n",
      "[179]\ttraining's auc: 1\ttraining's l2: 71186.1\tvalid_1's auc: 1\tvalid_1's l2: 68981.3\n",
      "[180]\ttraining's auc: 1\ttraining's l2: 70947.2\tvalid_1's auc: 1\tvalid_1's l2: 68809.2\n",
      "[181]\ttraining's auc: 1\ttraining's l2: 70724.9\tvalid_1's auc: 1\tvalid_1's l2: 68660.8\n",
      "[182]\ttraining's auc: 1\ttraining's l2: 70499.9\tvalid_1's auc: 1\tvalid_1's l2: 68497.8\n",
      "[183]\ttraining's auc: 1\ttraining's l2: 70283\tvalid_1's auc: 1\tvalid_1's l2: 68342.3\n",
      "[184]\ttraining's auc: 1\ttraining's l2: 70050.2\tvalid_1's auc: 1\tvalid_1's l2: 68180.8\n",
      "[185]\ttraining's auc: 1\ttraining's l2: 69837.5\tvalid_1's auc: 1\tvalid_1's l2: 68017.4\n",
      "[186]\ttraining's auc: 1\ttraining's l2: 69607\tvalid_1's auc: 1\tvalid_1's l2: 67873.3\n",
      "[187]\ttraining's auc: 1\ttraining's l2: 69391.7\tvalid_1's auc: 1\tvalid_1's l2: 67707.6\n",
      "[188]\ttraining's auc: 1\ttraining's l2: 69186\tvalid_1's auc: 1\tvalid_1's l2: 67558.1\n",
      "[189]\ttraining's auc: 1\ttraining's l2: 68978.1\tvalid_1's auc: 1\tvalid_1's l2: 67391.1\n",
      "[190]\ttraining's auc: 1\ttraining's l2: 68770.6\tvalid_1's auc: 1\tvalid_1's l2: 67225.5\n",
      "[191]\ttraining's auc: 1\ttraining's l2: 68567.7\tvalid_1's auc: 1\tvalid_1's l2: 67076.8\n",
      "[192]\ttraining's auc: 1\ttraining's l2: 68385.5\tvalid_1's auc: 1\tvalid_1's l2: 66949.1\n",
      "[193]\ttraining's auc: 1\ttraining's l2: 68203.7\tvalid_1's auc: 1\tvalid_1's l2: 66838.2\n",
      "[194]\ttraining's auc: 1\ttraining's l2: 68010.3\tvalid_1's auc: 1\tvalid_1's l2: 66690\n",
      "[195]\ttraining's auc: 1\ttraining's l2: 67816.4\tvalid_1's auc: 1\tvalid_1's l2: 66537.3\n",
      "[196]\ttraining's auc: 1\ttraining's l2: 67624.6\tvalid_1's auc: 1\tvalid_1's l2: 66405.8\n",
      "[197]\ttraining's auc: 1\ttraining's l2: 67429.1\tvalid_1's auc: 1\tvalid_1's l2: 66250.5\n",
      "[198]\ttraining's auc: 1\ttraining's l2: 67237.7\tvalid_1's auc: 1\tvalid_1's l2: 66103.2\n",
      "[199]\ttraining's auc: 1\ttraining's l2: 67029.8\tvalid_1's auc: 1\tvalid_1's l2: 65955.6\n",
      "[200]\ttraining's auc: 1\ttraining's l2: 66842\tvalid_1's auc: 1\tvalid_1's l2: 65810.9\n",
      "[201]\ttraining's auc: 1\ttraining's l2: 66638.8\tvalid_1's auc: 1\tvalid_1's l2: 65671.5\n",
      "[202]\ttraining's auc: 1\ttraining's l2: 66440.8\tvalid_1's auc: 1\tvalid_1's l2: 65555.1\n",
      "[203]\ttraining's auc: 1\ttraining's l2: 66251.9\tvalid_1's auc: 1\tvalid_1's l2: 65423.5\n",
      "[204]\ttraining's auc: 1\ttraining's l2: 66057\tvalid_1's auc: 1\tvalid_1's l2: 65273.7\n",
      "[205]\ttraining's auc: 1\ttraining's l2: 65903.7\tvalid_1's auc: 1\tvalid_1's l2: 65123.5\n",
      "[206]\ttraining's auc: 1\ttraining's l2: 65728.7\tvalid_1's auc: 1\tvalid_1's l2: 65013.6\n",
      "[207]\ttraining's auc: 1\ttraining's l2: 65555.3\tvalid_1's auc: 1\tvalid_1's l2: 64903.6\n",
      "[208]\ttraining's auc: 1\ttraining's l2: 65381.2\tvalid_1's auc: 1\tvalid_1's l2: 64794.7\n",
      "[209]\ttraining's auc: 1\ttraining's l2: 65185.2\tvalid_1's auc: 1\tvalid_1's l2: 64673.3\n",
      "[210]\ttraining's auc: 1\ttraining's l2: 65016.7\tvalid_1's auc: 1\tvalid_1's l2: 64566.7\n",
      "[211]\ttraining's auc: 1\ttraining's l2: 64841.2\tvalid_1's auc: 1\tvalid_1's l2: 64463.4\n",
      "[212]\ttraining's auc: 1\ttraining's l2: 64663.2\tvalid_1's auc: 1\tvalid_1's l2: 64353.8\n",
      "[213]\ttraining's auc: 1\ttraining's l2: 64486.9\tvalid_1's auc: 1\tvalid_1's l2: 64238.9\n",
      "[214]\ttraining's auc: 1\ttraining's l2: 64305.8\tvalid_1's auc: 1\tvalid_1's l2: 64125.2\n",
      "[215]\ttraining's auc: 1\ttraining's l2: 64133.8\tvalid_1's auc: 1\tvalid_1's l2: 64035.5\n",
      "[216]\ttraining's auc: 1\ttraining's l2: 63965.5\tvalid_1's auc: 1\tvalid_1's l2: 63921.3\n",
      "[217]\ttraining's auc: 1\ttraining's l2: 63784.4\tvalid_1's auc: 1\tvalid_1's l2: 63811.6\n",
      "[218]\ttraining's auc: 1\ttraining's l2: 63609.3\tvalid_1's auc: 1\tvalid_1's l2: 63692.8\n",
      "[219]\ttraining's auc: 1\ttraining's l2: 63456.7\tvalid_1's auc: 1\tvalid_1's l2: 63557\n",
      "[220]\ttraining's auc: 1\ttraining's l2: 63293.7\tvalid_1's auc: 1\tvalid_1's l2: 63434.7\n",
      "[221]\ttraining's auc: 1\ttraining's l2: 63123.8\tvalid_1's auc: 1\tvalid_1's l2: 63339.8\n",
      "[222]\ttraining's auc: 1\ttraining's l2: 62945.2\tvalid_1's auc: 1\tvalid_1's l2: 63212.9\n",
      "[223]\ttraining's auc: 1\ttraining's l2: 62788.4\tvalid_1's auc: 1\tvalid_1's l2: 63112.7\n",
      "[224]\ttraining's auc: 1\ttraining's l2: 62627.7\tvalid_1's auc: 1\tvalid_1's l2: 63009\n",
      "[225]\ttraining's auc: 1\ttraining's l2: 62470.7\tvalid_1's auc: 1\tvalid_1's l2: 62897.2\n",
      "[226]\ttraining's auc: 1\ttraining's l2: 62296.7\tvalid_1's auc: 1\tvalid_1's l2: 62782.3\n",
      "[227]\ttraining's auc: 1\ttraining's l2: 62123.1\tvalid_1's auc: 1\tvalid_1's l2: 62671.4\n",
      "[228]\ttraining's auc: 1\ttraining's l2: 61953.8\tvalid_1's auc: 1\tvalid_1's l2: 62559.9\n",
      "[229]\ttraining's auc: 1\ttraining's l2: 61782.1\tvalid_1's auc: 1\tvalid_1's l2: 62439\n",
      "[230]\ttraining's auc: 1\ttraining's l2: 61612.9\tvalid_1's auc: 1\tvalid_1's l2: 62321.5\n",
      "[231]\ttraining's auc: 1\ttraining's l2: 61444.8\tvalid_1's auc: 1\tvalid_1's l2: 62228.9\n",
      "[232]\ttraining's auc: 1\ttraining's l2: 61278\tvalid_1's auc: 1\tvalid_1's l2: 62139.4\n",
      "[233]\ttraining's auc: 1\ttraining's l2: 61120.6\tvalid_1's auc: 1\tvalid_1's l2: 62029.7\n",
      "[234]\ttraining's auc: 1\ttraining's l2: 60956.9\tvalid_1's auc: 1\tvalid_1's l2: 61931.8\n",
      "[235]\ttraining's auc: 1\ttraining's l2: 60796.4\tvalid_1's auc: 1\tvalid_1's l2: 61821.4\n",
      "[236]\ttraining's auc: 1\ttraining's l2: 60638.4\tvalid_1's auc: 1\tvalid_1's l2: 61728.2\n",
      "[237]\ttraining's auc: 1\ttraining's l2: 60487\tvalid_1's auc: 1\tvalid_1's l2: 61622.8\n",
      "[238]\ttraining's auc: 1\ttraining's l2: 60331.1\tvalid_1's auc: 1\tvalid_1's l2: 61533.8\n",
      "[239]\ttraining's auc: 1\ttraining's l2: 60184.7\tvalid_1's auc: 1\tvalid_1's l2: 61428.9\n",
      "[240]\ttraining's auc: 1\ttraining's l2: 60030\tvalid_1's auc: 1\tvalid_1's l2: 61334.1\n",
      "[241]\ttraining's auc: 1\ttraining's l2: 59887.3\tvalid_1's auc: 1\tvalid_1's l2: 61225.7\n",
      "[242]\ttraining's auc: 1\ttraining's l2: 59742.2\tvalid_1's auc: 1\tvalid_1's l2: 61139.4\n",
      "[243]\ttraining's auc: 1\ttraining's l2: 59601.8\tvalid_1's auc: 1\tvalid_1's l2: 61017.4\n",
      "[244]\ttraining's auc: 1\ttraining's l2: 59462.1\tvalid_1's auc: 1\tvalid_1's l2: 60923.2\n",
      "[245]\ttraining's auc: 1\ttraining's l2: 59319.7\tvalid_1's auc: 1\tvalid_1's l2: 60842\n",
      "[246]\ttraining's auc: 1\ttraining's l2: 59188.7\tvalid_1's auc: 1\tvalid_1's l2: 60756.4\n",
      "[247]\ttraining's auc: 1\ttraining's l2: 59048.2\tvalid_1's auc: 1\tvalid_1's l2: 60646.8\n",
      "[248]\ttraining's auc: 1\ttraining's l2: 58945.5\tvalid_1's auc: 1\tvalid_1's l2: 60549.9\n",
      "[249]\ttraining's auc: 1\ttraining's l2: 58815.2\tvalid_1's auc: 1\tvalid_1's l2: 60466.2\n",
      "[250]\ttraining's auc: 1\ttraining's l2: 58673.9\tvalid_1's auc: 1\tvalid_1's l2: 60350.4\n",
      "[251]\ttraining's auc: 1\ttraining's l2: 58541.6\tvalid_1's auc: 1\tvalid_1's l2: 60257.1\n",
      "[252]\ttraining's auc: 1\ttraining's l2: 58403\tvalid_1's auc: 1\tvalid_1's l2: 60163.1\n",
      "[253]\ttraining's auc: 1\ttraining's l2: 58263.9\tvalid_1's auc: 1\tvalid_1's l2: 60084.2\n",
      "[254]\ttraining's auc: 1\ttraining's l2: 58130.6\tvalid_1's auc: 1\tvalid_1's l2: 59992.2\n",
      "[255]\ttraining's auc: 1\ttraining's l2: 57998\tvalid_1's auc: 1\tvalid_1's l2: 59901.1\n",
      "[256]\ttraining's auc: 1\ttraining's l2: 57873.1\tvalid_1's auc: 1\tvalid_1's l2: 59816.6\n",
      "[257]\ttraining's auc: 1\ttraining's l2: 57744.8\tvalid_1's auc: 1\tvalid_1's l2: 59736.8\n",
      "[258]\ttraining's auc: 1\ttraining's l2: 57624.9\tvalid_1's auc: 1\tvalid_1's l2: 59635.5\n",
      "[259]\ttraining's auc: 1\ttraining's l2: 57498.1\tvalid_1's auc: 1\tvalid_1's l2: 59562.8\n",
      "[260]\ttraining's auc: 1\ttraining's l2: 57367.6\tvalid_1's auc: 1\tvalid_1's l2: 59470.4\n",
      "[261]\ttraining's auc: 1\ttraining's l2: 57243.9\tvalid_1's auc: 1\tvalid_1's l2: 59383.7\n",
      "[262]\ttraining's auc: 1\ttraining's l2: 57121\tvalid_1's auc: 1\tvalid_1's l2: 59304.8\n",
      "[263]\ttraining's auc: 1\ttraining's l2: 57003\tvalid_1's auc: 1\tvalid_1's l2: 59234\n",
      "[264]\ttraining's auc: 1\ttraining's l2: 56877.9\tvalid_1's auc: 1\tvalid_1's l2: 59144.4\n",
      "[265]\ttraining's auc: 1\ttraining's l2: 56755.5\tvalid_1's auc: 1\tvalid_1's l2: 59068.9\n",
      "[266]\ttraining's auc: 1\ttraining's l2: 56648.8\tvalid_1's auc: 1\tvalid_1's l2: 58992\n",
      "[267]\ttraining's auc: 1\ttraining's l2: 56526\tvalid_1's auc: 1\tvalid_1's l2: 58915.3\n",
      "[268]\ttraining's auc: 1\ttraining's l2: 56407.8\tvalid_1's auc: 1\tvalid_1's l2: 58827.2\n",
      "[269]\ttraining's auc: 1\ttraining's l2: 56291.5\tvalid_1's auc: 1\tvalid_1's l2: 58751.7\n",
      "[270]\ttraining's auc: 1\ttraining's l2: 56176.2\tvalid_1's auc: 1\tvalid_1's l2: 58681.4\n",
      "[271]\ttraining's auc: 1\ttraining's l2: 56076.1\tvalid_1's auc: 1\tvalid_1's l2: 58588.7\n",
      "[272]\ttraining's auc: 1\ttraining's l2: 55956.7\tvalid_1's auc: 1\tvalid_1's l2: 58504.6\n",
      "[273]\ttraining's auc: 1\ttraining's l2: 55835.4\tvalid_1's auc: 1\tvalid_1's l2: 58417.4\n",
      "[274]\ttraining's auc: 1\ttraining's l2: 55716.4\tvalid_1's auc: 1\tvalid_1's l2: 58331.1\n",
      "[275]\ttraining's auc: 1\ttraining's l2: 55597.9\tvalid_1's auc: 1\tvalid_1's l2: 58247.7\n",
      "[276]\ttraining's auc: 1\ttraining's l2: 55481.8\tvalid_1's auc: 1\tvalid_1's l2: 58182\n",
      "[277]\ttraining's auc: 1\ttraining's l2: 55370.3\tvalid_1's auc: 1\tvalid_1's l2: 58094.7\n",
      "[278]\ttraining's auc: 1\ttraining's l2: 55255.2\tvalid_1's auc: 1\tvalid_1's l2: 58009.1\n",
      "[279]\ttraining's auc: 1\ttraining's l2: 55138.1\tvalid_1's auc: 1\tvalid_1's l2: 57928.3\n",
      "[280]\ttraining's auc: 1\ttraining's l2: 55023.7\tvalid_1's auc: 1\tvalid_1's l2: 57847\n",
      "[281]\ttraining's auc: 1\ttraining's l2: 54908\tvalid_1's auc: 1\tvalid_1's l2: 57765.3\n",
      "[282]\ttraining's auc: 1\ttraining's l2: 54796.6\tvalid_1's auc: 1\tvalid_1's l2: 57683\n",
      "[283]\ttraining's auc: 1\ttraining's l2: 54694.2\tvalid_1's auc: 1\tvalid_1's l2: 57607.5\n",
      "[284]\ttraining's auc: 1\ttraining's l2: 54577\tvalid_1's auc: 1\tvalid_1's l2: 57538.1\n",
      "[285]\ttraining's auc: 1\ttraining's l2: 54462.1\tvalid_1's auc: 1\tvalid_1's l2: 57458.1\n",
      "[286]\ttraining's auc: 1\ttraining's l2: 54357.9\tvalid_1's auc: 1\tvalid_1's l2: 57378.9\n",
      "[287]\ttraining's auc: 1\ttraining's l2: 54242.1\tvalid_1's auc: 1\tvalid_1's l2: 57304.5\n",
      "[288]\ttraining's auc: 1\ttraining's l2: 54131.9\tvalid_1's auc: 1\tvalid_1's l2: 57244.3\n",
      "[289]\ttraining's auc: 1\ttraining's l2: 54021.6\tvalid_1's auc: 1\tvalid_1's l2: 57163.3\n",
      "[290]\ttraining's auc: 1\ttraining's l2: 53915.8\tvalid_1's auc: 1\tvalid_1's l2: 57086.1\n",
      "[291]\ttraining's auc: 1\ttraining's l2: 53808.4\tvalid_1's auc: 1\tvalid_1's l2: 57002.2\n",
      "[292]\ttraining's auc: 1\ttraining's l2: 53706.4\tvalid_1's auc: 1\tvalid_1's l2: 56922.8\n",
      "[293]\ttraining's auc: 1\ttraining's l2: 53604.7\tvalid_1's auc: 1\tvalid_1's l2: 56843.1\n",
      "[294]\ttraining's auc: 1\ttraining's l2: 53501.5\tvalid_1's auc: 1\tvalid_1's l2: 56761\n",
      "[295]\ttraining's auc: 1\ttraining's l2: 53407.9\tvalid_1's auc: 1\tvalid_1's l2: 56681.2\n",
      "[296]\ttraining's auc: 1\ttraining's l2: 53305.1\tvalid_1's auc: 1\tvalid_1's l2: 56598.7\n",
      "[297]\ttraining's auc: 1\ttraining's l2: 53208\tvalid_1's auc: 1\tvalid_1's l2: 56526.6\n",
      "[298]\ttraining's auc: 1\ttraining's l2: 53106.6\tvalid_1's auc: 1\tvalid_1's l2: 56465.4\n",
      "[299]\ttraining's auc: 1\ttraining's l2: 53017.4\tvalid_1's auc: 1\tvalid_1's l2: 56386\n",
      "[300]\ttraining's auc: 1\ttraining's l2: 52926.3\tvalid_1's auc: 1\tvalid_1's l2: 56313.1\n",
      "[301]\ttraining's auc: 1\ttraining's l2: 52827.8\tvalid_1's auc: 1\tvalid_1's l2: 56245.1\n",
      "[302]\ttraining's auc: 1\ttraining's l2: 52755.8\tvalid_1's auc: 1\tvalid_1's l2: 56175.8\n",
      "[303]\ttraining's auc: 1\ttraining's l2: 52660.8\tvalid_1's auc: 1\tvalid_1's l2: 56092.6\n",
      "[304]\ttraining's auc: 1\ttraining's l2: 52560.3\tvalid_1's auc: 1\tvalid_1's l2: 56022\n",
      "[305]\ttraining's auc: 1\ttraining's l2: 52465.3\tvalid_1's auc: 1\tvalid_1's l2: 55948.8\n",
      "[306]\ttraining's auc: 1\ttraining's l2: 52382.6\tvalid_1's auc: 1\tvalid_1's l2: 55872.8\n",
      "[307]\ttraining's auc: 1\ttraining's l2: 52285.7\tvalid_1's auc: 1\tvalid_1's l2: 55803.8\n",
      "[308]\ttraining's auc: 1\ttraining's l2: 52187.9\tvalid_1's auc: 1\tvalid_1's l2: 55729\n",
      "[309]\ttraining's auc: 1\ttraining's l2: 52101.8\tvalid_1's auc: 1\tvalid_1's l2: 55663.5\n",
      "[310]\ttraining's auc: 1\ttraining's l2: 52007.5\tvalid_1's auc: 1\tvalid_1's l2: 55591.2\n",
      "[311]\ttraining's auc: 1\ttraining's l2: 51916.6\tvalid_1's auc: 1\tvalid_1's l2: 55538.1\n",
      "[312]\ttraining's auc: 1\ttraining's l2: 51830.3\tvalid_1's auc: 1\tvalid_1's l2: 55500\n",
      "[313]\ttraining's auc: 1\ttraining's l2: 51739.6\tvalid_1's auc: 1\tvalid_1's l2: 55453\n",
      "[314]\ttraining's auc: 1\ttraining's l2: 51653.9\tvalid_1's auc: 1\tvalid_1's l2: 55364.1\n",
      "[315]\ttraining's auc: 1\ttraining's l2: 51570.4\tvalid_1's auc: 1\tvalid_1's l2: 55310.2\n",
      "[316]\ttraining's auc: 1\ttraining's l2: 51473\tvalid_1's auc: 1\tvalid_1's l2: 55236.4\n",
      "[317]\ttraining's auc: 1\ttraining's l2: 51365.3\tvalid_1's auc: 1\tvalid_1's l2: 55170.3\n",
      "[318]\ttraining's auc: 1\ttraining's l2: 51279\tvalid_1's auc: 1\tvalid_1's l2: 55119.5\n",
      "[319]\ttraining's auc: 1\ttraining's l2: 51194.3\tvalid_1's auc: 1\tvalid_1's l2: 55075\n",
      "[320]\ttraining's auc: 1\ttraining's l2: 51095.5\tvalid_1's auc: 1\tvalid_1's l2: 55023.4\n",
      "[321]\ttraining's auc: 1\ttraining's l2: 50990.1\tvalid_1's auc: 1\tvalid_1's l2: 54943.8\n",
      "[322]\ttraining's auc: 1\ttraining's l2: 50923.1\tvalid_1's auc: 1\tvalid_1's l2: 54904.3\n",
      "[323]\ttraining's auc: 1\ttraining's l2: 50818.8\tvalid_1's auc: 1\tvalid_1's l2: 54829.4\n",
      "[324]\ttraining's auc: 1\ttraining's l2: 50722.1\tvalid_1's auc: 1\tvalid_1's l2: 54779.9\n",
      "[325]\ttraining's auc: 1\ttraining's l2: 50633.2\tvalid_1's auc: 1\tvalid_1's l2: 54700.9\n",
      "[326]\ttraining's auc: 1\ttraining's l2: 50537.7\tvalid_1's auc: 1\tvalid_1's l2: 54632.4\n",
      "[327]\ttraining's auc: 1\ttraining's l2: 50457.6\tvalid_1's auc: 1\tvalid_1's l2: 54588.7\n",
      "[328]\ttraining's auc: 1\ttraining's l2: 50365.3\tvalid_1's auc: 1\tvalid_1's l2: 54524.2\n",
      "[329]\ttraining's auc: 1\ttraining's l2: 50262.5\tvalid_1's auc: 1\tvalid_1's l2: 54458.4\n",
      "[330]\ttraining's auc: 1\ttraining's l2: 50166.5\tvalid_1's auc: 1\tvalid_1's l2: 54405.9\n",
      "[331]\ttraining's auc: 1\ttraining's l2: 50087.8\tvalid_1's auc: 1\tvalid_1's l2: 54368\n",
      "[332]\ttraining's auc: 1\ttraining's l2: 50021.4\tvalid_1's auc: 1\tvalid_1's l2: 54311.3\n",
      "[333]\ttraining's auc: 1\ttraining's l2: 49946.1\tvalid_1's auc: 1\tvalid_1's l2: 54267.2\n",
      "[334]\ttraining's auc: 1\ttraining's l2: 49871.6\tvalid_1's auc: 1\tvalid_1's l2: 54228.8\n",
      "[335]\ttraining's auc: 1\ttraining's l2: 49794.1\tvalid_1's auc: 1\tvalid_1's l2: 54189.4\n",
      "[336]\ttraining's auc: 1\ttraining's l2: 49698.1\tvalid_1's auc: 1\tvalid_1's l2: 54115.9\n",
      "[337]\ttraining's auc: 1\ttraining's l2: 49626.7\tvalid_1's auc: 1\tvalid_1's l2: 54056.4\n",
      "[338]\ttraining's auc: 1\ttraining's l2: 49531.9\tvalid_1's auc: 1\tvalid_1's l2: 53988\n",
      "[339]\ttraining's auc: 1\ttraining's l2: 49437.5\tvalid_1's auc: 1\tvalid_1's l2: 53927.4\n",
      "[340]\ttraining's auc: 1\ttraining's l2: 49359.1\tvalid_1's auc: 1\tvalid_1's l2: 53886.5\n",
      "[341]\ttraining's auc: 1\ttraining's l2: 49278.1\tvalid_1's auc: 1\tvalid_1's l2: 53824.2\n",
      "[342]\ttraining's auc: 1\ttraining's l2: 49193.7\tvalid_1's auc: 1\tvalid_1's l2: 53759.6\n",
      "[343]\ttraining's auc: 1\ttraining's l2: 49105.1\tvalid_1's auc: 1\tvalid_1's l2: 53686.8\n",
      "[344]\ttraining's auc: 1\ttraining's l2: 49017.8\tvalid_1's auc: 1\tvalid_1's l2: 53608.4\n",
      "[345]\ttraining's auc: 1\ttraining's l2: 48929.4\tvalid_1's auc: 1\tvalid_1's l2: 53538.8\n",
      "[346]\ttraining's auc: 1\ttraining's l2: 48851.7\tvalid_1's auc: 1\tvalid_1's l2: 53478.4\n",
      "[347]\ttraining's auc: 1\ttraining's l2: 48768.7\tvalid_1's auc: 1\tvalid_1's l2: 53407.1\n",
      "[348]\ttraining's auc: 1\ttraining's l2: 48690.5\tvalid_1's auc: 1\tvalid_1's l2: 53365.7\n",
      "[349]\ttraining's auc: 1\ttraining's l2: 48611.9\tvalid_1's auc: 1\tvalid_1's l2: 53304.4\n",
      "[350]\ttraining's auc: 1\ttraining's l2: 48522.5\tvalid_1's auc: 1\tvalid_1's l2: 53235\n",
      "[351]\ttraining's auc: 1\ttraining's l2: 48455.1\tvalid_1's auc: 1\tvalid_1's l2: 53199.2\n",
      "[352]\ttraining's auc: 1\ttraining's l2: 48392\tvalid_1's auc: 1\tvalid_1's l2: 53147.3\n",
      "[353]\ttraining's auc: 1\ttraining's l2: 48327.7\tvalid_1's auc: 1\tvalid_1's l2: 53095.8\n",
      "[354]\ttraining's auc: 1\ttraining's l2: 48259.9\tvalid_1's auc: 1\tvalid_1's l2: 53058\n",
      "[355]\ttraining's auc: 1\ttraining's l2: 48200.2\tvalid_1's auc: 1\tvalid_1's l2: 53010.1\n",
      "[356]\ttraining's auc: 1\ttraining's l2: 48136.2\tvalid_1's auc: 1\tvalid_1's l2: 52971.9\n",
      "[357]\ttraining's auc: 1\ttraining's l2: 48067.8\tvalid_1's auc: 1\tvalid_1's l2: 52936.1\n",
      "[358]\ttraining's auc: 1\ttraining's l2: 47999.1\tvalid_1's auc: 1\tvalid_1's l2: 52887.2\n",
      "[359]\ttraining's auc: 1\ttraining's l2: 47944.4\tvalid_1's auc: 1\tvalid_1's l2: 52832.4\n",
      "[360]\ttraining's auc: 1\ttraining's l2: 47881.8\tvalid_1's auc: 1\tvalid_1's l2: 52799.8\n",
      "[361]\ttraining's auc: 1\ttraining's l2: 47804\tvalid_1's auc: 1\tvalid_1's l2: 52733.6\n",
      "[362]\ttraining's auc: 1\ttraining's l2: 47726.9\tvalid_1's auc: 1\tvalid_1's l2: 52672.8\n",
      "[363]\ttraining's auc: 1\ttraining's l2: 47648.6\tvalid_1's auc: 1\tvalid_1's l2: 52618.8\n",
      "[364]\ttraining's auc: 1\ttraining's l2: 47572.6\tvalid_1's auc: 1\tvalid_1's l2: 52552.2\n",
      "[365]\ttraining's auc: 1\ttraining's l2: 47498.5\tvalid_1's auc: 1\tvalid_1's l2: 52500.8\n",
      "[366]\ttraining's auc: 1\ttraining's l2: 47423.8\tvalid_1's auc: 1\tvalid_1's l2: 52436.7\n",
      "[367]\ttraining's auc: 1\ttraining's l2: 47350.2\tvalid_1's auc: 1\tvalid_1's l2: 52378.3\n",
      "[368]\ttraining's auc: 1\ttraining's l2: 47272.7\tvalid_1's auc: 1\tvalid_1's l2: 52318.5\n",
      "[369]\ttraining's auc: 1\ttraining's l2: 47201.8\tvalid_1's auc: 1\tvalid_1's l2: 52257.9\n",
      "[370]\ttraining's auc: 1\ttraining's l2: 47130.8\tvalid_1's auc: 1\tvalid_1's l2: 52203.8\n",
      "[371]\ttraining's auc: 1\ttraining's l2: 47076\tvalid_1's auc: 1\tvalid_1's l2: 52152.8\n",
      "[372]\ttraining's auc: 1\ttraining's l2: 47002.8\tvalid_1's auc: 1\tvalid_1's l2: 52104.7\n",
      "[373]\ttraining's auc: 1\ttraining's l2: 46928.4\tvalid_1's auc: 1\tvalid_1's l2: 52068\n",
      "[374]\ttraining's auc: 1\ttraining's l2: 46851.5\tvalid_1's auc: 1\tvalid_1's l2: 52029.8\n",
      "[375]\ttraining's auc: 1\ttraining's l2: 46782\tvalid_1's auc: 1\tvalid_1's l2: 51983.4\n",
      "[376]\ttraining's auc: 1\ttraining's l2: 46713.6\tvalid_1's auc: 1\tvalid_1's l2: 51925.7\n",
      "[377]\ttraining's auc: 1\ttraining's l2: 46661.6\tvalid_1's auc: 1\tvalid_1's l2: 51894\n",
      "[378]\ttraining's auc: 1\ttraining's l2: 46596.1\tvalid_1's auc: 1\tvalid_1's l2: 51849.8\n",
      "[379]\ttraining's auc: 1\ttraining's l2: 46543.2\tvalid_1's auc: 1\tvalid_1's l2: 51826\n",
      "[380]\ttraining's auc: 1\ttraining's l2: 46473.8\tvalid_1's auc: 1\tvalid_1's l2: 51776.4\n",
      "[381]\ttraining's auc: 1\ttraining's l2: 46420.7\tvalid_1's auc: 1\tvalid_1's l2: 51732.7\n",
      "[382]\ttraining's auc: 1\ttraining's l2: 46368.2\tvalid_1's auc: 1\tvalid_1's l2: 51689.4\n",
      "[383]\ttraining's auc: 1\ttraining's l2: 46311.5\tvalid_1's auc: 1\tvalid_1's l2: 51640.8\n",
      "[384]\ttraining's auc: 1\ttraining's l2: 46254.3\tvalid_1's auc: 1\tvalid_1's l2: 51593.1\n",
      "[385]\ttraining's auc: 1\ttraining's l2: 46186.5\tvalid_1's auc: 1\tvalid_1's l2: 51536.5\n",
      "[386]\ttraining's auc: 1\ttraining's l2: 46131.2\tvalid_1's auc: 1\tvalid_1's l2: 51502.1\n",
      "[387]\ttraining's auc: 1\ttraining's l2: 46079.7\tvalid_1's auc: 1\tvalid_1's l2: 51459.3\n",
      "[388]\ttraining's auc: 1\ttraining's l2: 46029.4\tvalid_1's auc: 1\tvalid_1's l2: 51421\n",
      "[389]\ttraining's auc: 1\ttraining's l2: 45978.1\tvalid_1's auc: 1\tvalid_1's l2: 51380.3\n",
      "[390]\ttraining's auc: 1\ttraining's l2: 45925.8\tvalid_1's auc: 1\tvalid_1's l2: 51336.5\n",
      "[391]\ttraining's auc: 1\ttraining's l2: 45858\tvalid_1's auc: 1\tvalid_1's l2: 51285.1\n",
      "[392]\ttraining's auc: 1\ttraining's l2: 45790.7\tvalid_1's auc: 1\tvalid_1's l2: 51236.6\n",
      "[393]\ttraining's auc: 1\ttraining's l2: 45725.3\tvalid_1's auc: 1\tvalid_1's l2: 51182.6\n",
      "[394]\ttraining's auc: 1\ttraining's l2: 45659.8\tvalid_1's auc: 1\tvalid_1's l2: 51131.3\n",
      "[395]\ttraining's auc: 1\ttraining's l2: 45596.8\tvalid_1's auc: 1\tvalid_1's l2: 51077.3\n",
      "[396]\ttraining's auc: 1\ttraining's l2: 45542.8\tvalid_1's auc: 1\tvalid_1's l2: 51022.6\n",
      "[397]\ttraining's auc: 1\ttraining's l2: 45480.6\tvalid_1's auc: 1\tvalid_1's l2: 50977.6\n",
      "[398]\ttraining's auc: 1\ttraining's l2: 45437.5\tvalid_1's auc: 1\tvalid_1's l2: 50928.7\n",
      "[399]\ttraining's auc: 1\ttraining's l2: 45378.9\tvalid_1's auc: 1\tvalid_1's l2: 50893.2\n",
      "[400]\ttraining's auc: 1\ttraining's l2: 45327.3\tvalid_1's auc: 1\tvalid_1's l2: 50842.3\n",
      "[401]\ttraining's auc: 1\ttraining's l2: 45276.9\tvalid_1's auc: 1\tvalid_1's l2: 50811.1\n",
      "[402]\ttraining's auc: 1\ttraining's l2: 45226.1\tvalid_1's auc: 1\tvalid_1's l2: 50779.7\n",
      "[403]\ttraining's auc: 1\ttraining's l2: 45179.7\tvalid_1's auc: 1\tvalid_1's l2: 50748\n",
      "[404]\ttraining's auc: 1\ttraining's l2: 45136.5\tvalid_1's auc: 1\tvalid_1's l2: 50705.9\n",
      "[405]\ttraining's auc: 1\ttraining's l2: 45087.8\tvalid_1's auc: 1\tvalid_1's l2: 50676.3\n",
      "[406]\ttraining's auc: 1\ttraining's l2: 45039.5\tvalid_1's auc: 1\tvalid_1's l2: 50646.6\n",
      "[407]\ttraining's auc: 1\ttraining's l2: 44992.3\tvalid_1's auc: 1\tvalid_1's l2: 50608.6\n",
      "[408]\ttraining's auc: 1\ttraining's l2: 44945.4\tvalid_1's auc: 1\tvalid_1's l2: 50575.9\n",
      "[409]\ttraining's auc: 1\ttraining's l2: 44897.5\tvalid_1's auc: 1\tvalid_1's l2: 50538.1\n",
      "[410]\ttraining's auc: 1\ttraining's l2: 44848.2\tvalid_1's auc: 1\tvalid_1's l2: 50516.2\n",
      "[411]\ttraining's auc: 1\ttraining's l2: 44793.9\tvalid_1's auc: 1\tvalid_1's l2: 50482.2\n",
      "[412]\ttraining's auc: 1\ttraining's l2: 44741.2\tvalid_1's auc: 1\tvalid_1's l2: 50442.9\n",
      "[413]\ttraining's auc: 1\ttraining's l2: 44687.9\tvalid_1's auc: 1\tvalid_1's l2: 50419\n",
      "[414]\ttraining's auc: 1\ttraining's l2: 44633\tvalid_1's auc: 1\tvalid_1's l2: 50388.3\n",
      "[415]\ttraining's auc: 1\ttraining's l2: 44587\tvalid_1's auc: 1\tvalid_1's l2: 50355\n",
      "[416]\ttraining's auc: 1\ttraining's l2: 44544\tvalid_1's auc: 1\tvalid_1's l2: 50326.9\n",
      "[417]\ttraining's auc: 1\ttraining's l2: 44492\tvalid_1's auc: 1\tvalid_1's l2: 50289.9\n",
      "[418]\ttraining's auc: 1\ttraining's l2: 44440.7\tvalid_1's auc: 1\tvalid_1's l2: 50249.1\n",
      "[419]\ttraining's auc: 1\ttraining's l2: 44387.6\tvalid_1's auc: 1\tvalid_1's l2: 50216.4\n",
      "[420]\ttraining's auc: 1\ttraining's l2: 44334.9\tvalid_1's auc: 1\tvalid_1's l2: 50181.2\n",
      "[421]\ttraining's auc: 1\ttraining's l2: 44281.4\tvalid_1's auc: 1\tvalid_1's l2: 50159.4\n",
      "[422]\ttraining's auc: 1\ttraining's l2: 44230.6\tvalid_1's auc: 1\tvalid_1's l2: 50115.4\n",
      "[423]\ttraining's auc: 1\ttraining's l2: 44185.6\tvalid_1's auc: 1\tvalid_1's l2: 50081.5\n",
      "[424]\ttraining's auc: 1\ttraining's l2: 44134.4\tvalid_1's auc: 1\tvalid_1's l2: 50060.7\n",
      "[425]\ttraining's auc: 1\ttraining's l2: 44086.7\tvalid_1's auc: 1\tvalid_1's l2: 50027\n",
      "[426]\ttraining's auc: 1\ttraining's l2: 44034.2\tvalid_1's auc: 1\tvalid_1's l2: 49990.5\n",
      "[427]\ttraining's auc: 1\ttraining's l2: 43992.6\tvalid_1's auc: 1\tvalid_1's l2: 49952.7\n",
      "[428]\ttraining's auc: 1\ttraining's l2: 43949.4\tvalid_1's auc: 1\tvalid_1's l2: 49905.4\n",
      "[429]\ttraining's auc: 1\ttraining's l2: 43904.2\tvalid_1's auc: 1\tvalid_1's l2: 49870.5\n",
      "[430]\ttraining's auc: 1\ttraining's l2: 43854.5\tvalid_1's auc: 1\tvalid_1's l2: 49831.4\n",
      "[431]\ttraining's auc: 1\ttraining's l2: 43793.3\tvalid_1's auc: 1\tvalid_1's l2: 49777.4\n",
      "[432]\ttraining's auc: 1\ttraining's l2: 43733.1\tvalid_1's auc: 1\tvalid_1's l2: 49724.6\n",
      "[433]\ttraining's auc: 1\ttraining's l2: 43671.3\tvalid_1's auc: 1\tvalid_1's l2: 49671.7\n",
      "[434]\ttraining's auc: 1\ttraining's l2: 43627.3\tvalid_1's auc: 1\tvalid_1's l2: 49630.2\n",
      "[435]\ttraining's auc: 1\ttraining's l2: 43577.3\tvalid_1's auc: 1\tvalid_1's l2: 49607.2\n",
      "[436]\ttraining's auc: 1\ttraining's l2: 43518.3\tvalid_1's auc: 1\tvalid_1's l2: 49557.4\n",
      "[437]\ttraining's auc: 1\ttraining's l2: 43462.7\tvalid_1's auc: 1\tvalid_1's l2: 49522.7\n",
      "[438]\ttraining's auc: 1\ttraining's l2: 43402.9\tvalid_1's auc: 1\tvalid_1's l2: 49479.7\n",
      "[439]\ttraining's auc: 1\ttraining's l2: 43348.4\tvalid_1's auc: 1\tvalid_1's l2: 49448.5\n",
      "[440]\ttraining's auc: 1\ttraining's l2: 43291.2\tvalid_1's auc: 1\tvalid_1's l2: 49396.9\n",
      "[441]\ttraining's auc: 1\ttraining's l2: 43235.4\tvalid_1's auc: 1\tvalid_1's l2: 49354.1\n",
      "[442]\ttraining's auc: 1\ttraining's l2: 43181.3\tvalid_1's auc: 1\tvalid_1's l2: 49326.3\n",
      "[443]\ttraining's auc: 1\ttraining's l2: 43129.7\tvalid_1's auc: 1\tvalid_1's l2: 49285.5\n",
      "[444]\ttraining's auc: 1\ttraining's l2: 43079.7\tvalid_1's auc: 1\tvalid_1's l2: 49255.2\n",
      "[445]\ttraining's auc: 1\ttraining's l2: 43026.2\tvalid_1's auc: 1\tvalid_1's l2: 49215\n",
      "[446]\ttraining's auc: 1\ttraining's l2: 42972.4\tvalid_1's auc: 1\tvalid_1's l2: 49176.8\n",
      "[447]\ttraining's auc: 1\ttraining's l2: 42920.1\tvalid_1's auc: 1\tvalid_1's l2: 49138.2\n",
      "[448]\ttraining's auc: 1\ttraining's l2: 42876.7\tvalid_1's auc: 1\tvalid_1's l2: 49097\n",
      "[449]\ttraining's auc: 1\ttraining's l2: 42824.7\tvalid_1's auc: 1\tvalid_1's l2: 49052.2\n",
      "[450]\ttraining's auc: 1\ttraining's l2: 42777.1\tvalid_1's auc: 1\tvalid_1's l2: 49015.3\n",
      "[451]\ttraining's auc: 1\ttraining's l2: 42727.7\tvalid_1's auc: 1\tvalid_1's l2: 48988\n",
      "[452]\ttraining's auc: 1\ttraining's l2: 42689.5\tvalid_1's auc: 1\tvalid_1's l2: 48948.8\n",
      "[453]\ttraining's auc: 1\ttraining's l2: 42647.4\tvalid_1's auc: 1\tvalid_1's l2: 48924.1\n",
      "[454]\ttraining's auc: 1\ttraining's l2: 42606.1\tvalid_1's auc: 1\tvalid_1's l2: 48890.8\n",
      "[455]\ttraining's auc: 1\ttraining's l2: 42555.4\tvalid_1's auc: 1\tvalid_1's l2: 48848.3\n",
      "[456]\ttraining's auc: 1\ttraining's l2: 42508.8\tvalid_1's auc: 1\tvalid_1's l2: 48814.4\n",
      "[457]\ttraining's auc: 1\ttraining's l2: 42456.5\tvalid_1's auc: 1\tvalid_1's l2: 48768.5\n",
      "[458]\ttraining's auc: 1\ttraining's l2: 42401.5\tvalid_1's auc: 1\tvalid_1's l2: 48723.9\n",
      "[459]\ttraining's auc: 1\ttraining's l2: 42351.1\tvalid_1's auc: 1\tvalid_1's l2: 48685.8\n",
      "[460]\ttraining's auc: 1\ttraining's l2: 42310.4\tvalid_1's auc: 1\tvalid_1's l2: 48650.9\n",
      "[461]\ttraining's auc: 1\ttraining's l2: 42262\tvalid_1's auc: 1\tvalid_1's l2: 48617.5\n",
      "[462]\ttraining's auc: 1\ttraining's l2: 42213.9\tvalid_1's auc: 1\tvalid_1's l2: 48595.3\n",
      "[463]\ttraining's auc: 1\ttraining's l2: 42166\tvalid_1's auc: 1\tvalid_1's l2: 48564\n",
      "[464]\ttraining's auc: 1\ttraining's l2: 42117.6\tvalid_1's auc: 1\tvalid_1's l2: 48528.8\n",
      "[465]\ttraining's auc: 1\ttraining's l2: 42069.9\tvalid_1's auc: 1\tvalid_1's l2: 48494.7\n",
      "[466]\ttraining's auc: 1\ttraining's l2: 42018.2\tvalid_1's auc: 1\tvalid_1's l2: 48461.9\n",
      "[467]\ttraining's auc: 1\ttraining's l2: 41977.5\tvalid_1's auc: 1\tvalid_1's l2: 48433.9\n",
      "[468]\ttraining's auc: 1\ttraining's l2: 41942\tvalid_1's auc: 1\tvalid_1's l2: 48403\n",
      "[469]\ttraining's auc: 1\ttraining's l2: 41895\tvalid_1's auc: 1\tvalid_1's l2: 48375.1\n",
      "[470]\ttraining's auc: 1\ttraining's l2: 41855.6\tvalid_1's auc: 1\tvalid_1's l2: 48343.6\n",
      "[471]\ttraining's auc: 1\ttraining's l2: 41813.9\tvalid_1's auc: 1\tvalid_1's l2: 48314.5\n",
      "[472]\ttraining's auc: 1\ttraining's l2: 41771.2\tvalid_1's auc: 1\tvalid_1's l2: 48280.5\n",
      "[473]\ttraining's auc: 1\ttraining's l2: 41728.5\tvalid_1's auc: 1\tvalid_1's l2: 48244\n",
      "[474]\ttraining's auc: 1\ttraining's l2: 41677.9\tvalid_1's auc: 1\tvalid_1's l2: 48213.3\n",
      "[475]\ttraining's auc: 1\ttraining's l2: 41631.5\tvalid_1's auc: 1\tvalid_1's l2: 48168.2\n",
      "[476]\ttraining's auc: 1\ttraining's l2: 41589.1\tvalid_1's auc: 1\tvalid_1's l2: 48133.5\n",
      "[477]\ttraining's auc: 1\ttraining's l2: 41539.6\tvalid_1's auc: 1\tvalid_1's l2: 48102.8\n",
      "[478]\ttraining's auc: 1\ttraining's l2: 41489.7\tvalid_1's auc: 1\tvalid_1's l2: 48079\n",
      "[479]\ttraining's auc: 1\ttraining's l2: 41457.8\tvalid_1's auc: 1\tvalid_1's l2: 48053\n",
      "[480]\ttraining's auc: 1\ttraining's l2: 41412.3\tvalid_1's auc: 1\tvalid_1's l2: 48029.2\n",
      "[481]\ttraining's auc: 1\ttraining's l2: 41374.1\tvalid_1's auc: 1\tvalid_1's l2: 48004.1\n",
      "[482]\ttraining's auc: 1\ttraining's l2: 41336.9\tvalid_1's auc: 1\tvalid_1's l2: 47982.7\n",
      "[483]\ttraining's auc: 1\ttraining's l2: 41301.1\tvalid_1's auc: 1\tvalid_1's l2: 47953.8\n",
      "[484]\ttraining's auc: 1\ttraining's l2: 41262.3\tvalid_1's auc: 1\tvalid_1's l2: 47923.8\n",
      "[485]\ttraining's auc: 1\ttraining's l2: 41217.5\tvalid_1's auc: 1\tvalid_1's l2: 47895.4\n",
      "[486]\ttraining's auc: 1\ttraining's l2: 41183.1\tvalid_1's auc: 1\tvalid_1's l2: 47856.9\n",
      "[487]\ttraining's auc: 1\ttraining's l2: 41152.4\tvalid_1's auc: 1\tvalid_1's l2: 47826.5\n",
      "[488]\ttraining's auc: 1\ttraining's l2: 41121.5\tvalid_1's auc: 1\tvalid_1's l2: 47797\n",
      "[489]\ttraining's auc: 1\ttraining's l2: 41084\tvalid_1's auc: 1\tvalid_1's l2: 47768.2\n",
      "[490]\ttraining's auc: 1\ttraining's l2: 41042.4\tvalid_1's auc: 1\tvalid_1's l2: 47746.8\n",
      "[491]\ttraining's auc: 1\ttraining's l2: 41012\tvalid_1's auc: 1\tvalid_1's l2: 47719.2\n",
      "[492]\ttraining's auc: 1\ttraining's l2: 40980.1\tvalid_1's auc: 1\tvalid_1's l2: 47690\n",
      "[493]\ttraining's auc: 1\ttraining's l2: 40948.4\tvalid_1's auc: 1\tvalid_1's l2: 47658.4\n",
      "[494]\ttraining's auc: 1\ttraining's l2: 40911.1\tvalid_1's auc: 1\tvalid_1's l2: 47624.6\n",
      "[495]\ttraining's auc: 1\ttraining's l2: 40878.3\tvalid_1's auc: 1\tvalid_1's l2: 47592.5\n",
      "[496]\ttraining's auc: 1\ttraining's l2: 40848.6\tvalid_1's auc: 1\tvalid_1's l2: 47562\n",
      "[497]\ttraining's auc: 1\ttraining's l2: 40817.9\tvalid_1's auc: 1\tvalid_1's l2: 47531.4\n",
      "[498]\ttraining's auc: 1\ttraining's l2: 40785.8\tvalid_1's auc: 1\tvalid_1's l2: 47501\n",
      "[499]\ttraining's auc: 1\ttraining's l2: 40751.4\tvalid_1's auc: 1\tvalid_1's l2: 47484.8\n",
      "[500]\ttraining's auc: 1\ttraining's l2: 40720.8\tvalid_1's auc: 1\tvalid_1's l2: 47456.5\n",
      "[501]\ttraining's auc: 1\ttraining's l2: 40685.2\tvalid_1's auc: 1\tvalid_1's l2: 47442.7\n",
      "[502]\ttraining's auc: 1\ttraining's l2: 40647.8\tvalid_1's auc: 1\tvalid_1's l2: 47426.2\n",
      "[503]\ttraining's auc: 1\ttraining's l2: 40616\tvalid_1's auc: 1\tvalid_1's l2: 47413.6\n",
      "[504]\ttraining's auc: 1\ttraining's l2: 40579.5\tvalid_1's auc: 1\tvalid_1's l2: 47385.6\n",
      "[505]\ttraining's auc: 1\ttraining's l2: 40544.8\tvalid_1's auc: 1\tvalid_1's l2: 47369.8\n",
      "[506]\ttraining's auc: 1\ttraining's l2: 40508.8\tvalid_1's auc: 1\tvalid_1's l2: 47355.4\n",
      "[507]\ttraining's auc: 1\ttraining's l2: 40471.8\tvalid_1's auc: 1\tvalid_1's l2: 47333.2\n",
      "[508]\ttraining's auc: 1\ttraining's l2: 40437.9\tvalid_1's auc: 1\tvalid_1's l2: 47307\n",
      "[509]\ttraining's auc: 1\ttraining's l2: 40404.3\tvalid_1's auc: 1\tvalid_1's l2: 47277\n",
      "[510]\ttraining's auc: 1\ttraining's l2: 40373.1\tvalid_1's auc: 1\tvalid_1's l2: 47261.3\n",
      "[511]\ttraining's auc: 1\ttraining's l2: 40337.8\tvalid_1's auc: 1\tvalid_1's l2: 47253.9\n",
      "[512]\ttraining's auc: 1\ttraining's l2: 40301.6\tvalid_1's auc: 1\tvalid_1's l2: 47240.5\n",
      "[513]\ttraining's auc: 1\ttraining's l2: 40267\tvalid_1's auc: 1\tvalid_1's l2: 47214.4\n",
      "[514]\ttraining's auc: 1\ttraining's l2: 40234.4\tvalid_1's auc: 1\tvalid_1's l2: 47204.4\n",
      "[515]\ttraining's auc: 1\ttraining's l2: 40204\tvalid_1's auc: 1\tvalid_1's l2: 47173.3\n",
      "[516]\ttraining's auc: 1\ttraining's l2: 40169.3\tvalid_1's auc: 1\tvalid_1's l2: 47141.6\n",
      "[517]\ttraining's auc: 1\ttraining's l2: 40134.9\tvalid_1's auc: 1\tvalid_1's l2: 47131.3\n",
      "[518]\ttraining's auc: 1\ttraining's l2: 40101\tvalid_1's auc: 1\tvalid_1's l2: 47120.7\n",
      "[519]\ttraining's auc: 1\ttraining's l2: 40069.8\tvalid_1's auc: 1\tvalid_1's l2: 47092.7\n",
      "[520]\ttraining's auc: 1\ttraining's l2: 40037.4\tvalid_1's auc: 1\tvalid_1's l2: 47083\n",
      "[521]\ttraining's auc: 1\ttraining's l2: 40011.1\tvalid_1's auc: 1\tvalid_1's l2: 47056.8\n",
      "[522]\ttraining's auc: 1\ttraining's l2: 39979.5\tvalid_1's auc: 1\tvalid_1's l2: 47027\n",
      "[523]\ttraining's auc: 1\ttraining's l2: 39951.9\tvalid_1's auc: 1\tvalid_1's l2: 47003.7\n",
      "[524]\ttraining's auc: 1\ttraining's l2: 39920.4\tvalid_1's auc: 1\tvalid_1's l2: 46973.5\n",
      "[525]\ttraining's auc: 1\ttraining's l2: 39889.4\tvalid_1's auc: 1\tvalid_1's l2: 46942.8\n",
      "[526]\ttraining's auc: 1\ttraining's l2: 39859.6\tvalid_1's auc: 1\tvalid_1's l2: 46923.7\n",
      "[527]\ttraining's auc: 1\ttraining's l2: 39827\tvalid_1's auc: 1\tvalid_1's l2: 46891.9\n",
      "[528]\ttraining's auc: 1\ttraining's l2: 39803.5\tvalid_1's auc: 1\tvalid_1's l2: 46878.5\n",
      "[529]\ttraining's auc: 1\ttraining's l2: 39780.3\tvalid_1's auc: 1\tvalid_1's l2: 46859.6\n",
      "[530]\ttraining's auc: 1\ttraining's l2: 39752.8\tvalid_1's auc: 1\tvalid_1's l2: 46837.6\n",
      "[531]\ttraining's auc: 1\ttraining's l2: 39717.2\tvalid_1's auc: 1\tvalid_1's l2: 46806.7\n",
      "[532]\ttraining's auc: 1\ttraining's l2: 39681.8\tvalid_1's auc: 1\tvalid_1's l2: 46776.9\n",
      "[533]\ttraining's auc: 1\ttraining's l2: 39650.8\tvalid_1's auc: 1\tvalid_1's l2: 46760.1\n",
      "[534]\ttraining's auc: 1\ttraining's l2: 39616.4\tvalid_1's auc: 1\tvalid_1's l2: 46727.5\n",
      "[535]\ttraining's auc: 1\ttraining's l2: 39581.5\tvalid_1's auc: 1\tvalid_1's l2: 46697.7\n",
      "[536]\ttraining's auc: 1\ttraining's l2: 39545.2\tvalid_1's auc: 1\tvalid_1's l2: 46672.8\n",
      "[537]\ttraining's auc: 1\ttraining's l2: 39511.2\tvalid_1's auc: 1\tvalid_1's l2: 46637.7\n",
      "[538]\ttraining's auc: 1\ttraining's l2: 39475.6\tvalid_1's auc: 1\tvalid_1's l2: 46621.8\n",
      "[539]\ttraining's auc: 1\ttraining's l2: 39442.9\tvalid_1's auc: 1\tvalid_1's l2: 46607.9\n",
      "[540]\ttraining's auc: 1\ttraining's l2: 39408.7\tvalid_1's auc: 1\tvalid_1's l2: 46572\n",
      "[541]\ttraining's auc: 1\ttraining's l2: 39381.8\tvalid_1's auc: 1\tvalid_1's l2: 46547.8\n",
      "[542]\ttraining's auc: 1\ttraining's l2: 39351.7\tvalid_1's auc: 1\tvalid_1's l2: 46524.5\n",
      "[543]\ttraining's auc: 1\ttraining's l2: 39325.5\tvalid_1's auc: 1\tvalid_1's l2: 46497.2\n",
      "[544]\ttraining's auc: 1\ttraining's l2: 39300.2\tvalid_1's auc: 1\tvalid_1's l2: 46472.2\n",
      "[545]\ttraining's auc: 1\ttraining's l2: 39275.2\tvalid_1's auc: 1\tvalid_1's l2: 46449\n",
      "[546]\ttraining's auc: 1\ttraining's l2: 39252.4\tvalid_1's auc: 1\tvalid_1's l2: 46427.6\n",
      "[547]\ttraining's auc: 1\ttraining's l2: 39220.9\tvalid_1's auc: 1\tvalid_1's l2: 46404.9\n",
      "[548]\ttraining's auc: 1\ttraining's l2: 39193.9\tvalid_1's auc: 1\tvalid_1's l2: 46378.8\n",
      "[549]\ttraining's auc: 1\ttraining's l2: 39170.7\tvalid_1's auc: 1\tvalid_1's l2: 46353.9\n",
      "[550]\ttraining's auc: 1\ttraining's l2: 39133.5\tvalid_1's auc: 1\tvalid_1's l2: 46334.5\n",
      "[551]\ttraining's auc: 1\ttraining's l2: 39099\tvalid_1's auc: 1\tvalid_1's l2: 46315.6\n",
      "[552]\ttraining's auc: 1\ttraining's l2: 39065.5\tvalid_1's auc: 1\tvalid_1's l2: 46294.6\n",
      "[553]\ttraining's auc: 1\ttraining's l2: 39032.3\tvalid_1's auc: 1\tvalid_1's l2: 46273.2\n",
      "[554]\ttraining's auc: 1\ttraining's l2: 39000.3\tvalid_1's auc: 1\tvalid_1's l2: 46255\n",
      "[555]\ttraining's auc: 1\ttraining's l2: 38976.1\tvalid_1's auc: 1\tvalid_1's l2: 46235.5\n",
      "[556]\ttraining's auc: 1\ttraining's l2: 38949.3\tvalid_1's auc: 1\tvalid_1's l2: 46206.9\n",
      "[557]\ttraining's auc: 1\ttraining's l2: 38916.6\tvalid_1's auc: 1\tvalid_1's l2: 46190.5\n",
      "[558]\ttraining's auc: 1\ttraining's l2: 38884.8\tvalid_1's auc: 1\tvalid_1's l2: 46168.9\n",
      "[559]\ttraining's auc: 1\ttraining's l2: 38854\tvalid_1's auc: 1\tvalid_1's l2: 46137.4\n",
      "[560]\ttraining's auc: 1\ttraining's l2: 38818.8\tvalid_1's auc: 1\tvalid_1's l2: 46121.9\n",
      "[561]\ttraining's auc: 1\ttraining's l2: 38789.7\tvalid_1's auc: 1\tvalid_1's l2: 46108.6\n",
      "[562]\ttraining's auc: 1\ttraining's l2: 38761.4\tvalid_1's auc: 1\tvalid_1's l2: 46084.3\n",
      "[563]\ttraining's auc: 1\ttraining's l2: 38726.6\tvalid_1's auc: 1\tvalid_1's l2: 46070.2\n",
      "[564]\ttraining's auc: 1\ttraining's l2: 38698.7\tvalid_1's auc: 1\tvalid_1's l2: 46052.7\n",
      "[565]\ttraining's auc: 1\ttraining's l2: 38661.3\tvalid_1's auc: 1\tvalid_1's l2: 46044.5\n",
      "[566]\ttraining's auc: 1\ttraining's l2: 38633.9\tvalid_1's auc: 1\tvalid_1's l2: 46022.3\n",
      "[567]\ttraining's auc: 1\ttraining's l2: 38600.1\tvalid_1's auc: 1\tvalid_1's l2: 46010.5\n",
      "[568]\ttraining's auc: 1\ttraining's l2: 38572.5\tvalid_1's auc: 1\tvalid_1's l2: 45995.6\n",
      "[569]\ttraining's auc: 1\ttraining's l2: 38540.6\tvalid_1's auc: 1\tvalid_1's l2: 45968.9\n",
      "[570]\ttraining's auc: 1\ttraining's l2: 38506.3\tvalid_1's auc: 1\tvalid_1's l2: 45941.4\n",
      "[571]\ttraining's auc: 1\ttraining's l2: 38475.4\tvalid_1's auc: 1\tvalid_1's l2: 45914.8\n",
      "[572]\ttraining's auc: 1\ttraining's l2: 38447.5\tvalid_1's auc: 1\tvalid_1's l2: 45895\n",
      "[573]\ttraining's auc: 1\ttraining's l2: 38415.5\tvalid_1's auc: 1\tvalid_1's l2: 45869.4\n",
      "[574]\ttraining's auc: 1\ttraining's l2: 38394.2\tvalid_1's auc: 1\tvalid_1's l2: 45844\n",
      "[575]\ttraining's auc: 1\ttraining's l2: 38363.2\tvalid_1's auc: 1\tvalid_1's l2: 45818\n",
      "[576]\ttraining's auc: 1\ttraining's l2: 38341.8\tvalid_1's auc: 1\tvalid_1's l2: 45804.8\n",
      "[577]\ttraining's auc: 1\ttraining's l2: 38321.5\tvalid_1's auc: 1\tvalid_1's l2: 45790.4\n",
      "[578]\ttraining's auc: 1\ttraining's l2: 38291.7\tvalid_1's auc: 1\tvalid_1's l2: 45760.2\n",
      "[579]\ttraining's auc: 1\ttraining's l2: 38262.2\tvalid_1's auc: 1\tvalid_1's l2: 45741.6\n",
      "[580]\ttraining's auc: 1\ttraining's l2: 38231.5\tvalid_1's auc: 1\tvalid_1's l2: 45715.3\n",
      "[581]\ttraining's auc: 1\ttraining's l2: 38204.4\tvalid_1's auc: 1\tvalid_1's l2: 45694.2\n",
      "[582]\ttraining's auc: 1\ttraining's l2: 38188.3\tvalid_1's auc: 1\tvalid_1's l2: 45688.3\n",
      "[583]\ttraining's auc: 1\ttraining's l2: 38161\tvalid_1's auc: 1\tvalid_1's l2: 45663.7\n",
      "[584]\ttraining's auc: 1\ttraining's l2: 38134.8\tvalid_1's auc: 1\tvalid_1's l2: 45651.6\n",
      "[585]\ttraining's auc: 1\ttraining's l2: 38107.8\tvalid_1's auc: 1\tvalid_1's l2: 45630\n",
      "[586]\ttraining's auc: 1\ttraining's l2: 38079.1\tvalid_1's auc: 1\tvalid_1's l2: 45615.5\n",
      "[587]\ttraining's auc: 1\ttraining's l2: 38054.8\tvalid_1's auc: 1\tvalid_1's l2: 45593.8\n",
      "[588]\ttraining's auc: 1\ttraining's l2: 38027.9\tvalid_1's auc: 1\tvalid_1's l2: 45571.5\n",
      "[589]\ttraining's auc: 1\ttraining's l2: 38002.5\tvalid_1's auc: 1\tvalid_1's l2: 45554.1\n",
      "[590]\ttraining's auc: 1\ttraining's l2: 37980.5\tvalid_1's auc: 1\tvalid_1's l2: 45539.9\n",
      "[591]\ttraining's auc: 1\ttraining's l2: 37958.1\tvalid_1's auc: 1\tvalid_1's l2: 45527.1\n",
      "[592]\ttraining's auc: 1\ttraining's l2: 37936\tvalid_1's auc: 1\tvalid_1's l2: 45517.6\n",
      "[593]\ttraining's auc: 1\ttraining's l2: 37913.3\tvalid_1's auc: 1\tvalid_1's l2: 45505\n",
      "[594]\ttraining's auc: 1\ttraining's l2: 37892.1\tvalid_1's auc: 1\tvalid_1's l2: 45489.1\n",
      "[595]\ttraining's auc: 1\ttraining's l2: 37866.4\tvalid_1's auc: 1\tvalid_1's l2: 45464\n",
      "[596]\ttraining's auc: 1\ttraining's l2: 37842.3\tvalid_1's auc: 1\tvalid_1's l2: 45455\n",
      "[597]\ttraining's auc: 1\ttraining's l2: 37818.3\tvalid_1's auc: 1\tvalid_1's l2: 45445.9\n",
      "[598]\ttraining's auc: 1\ttraining's l2: 37796.1\tvalid_1's auc: 1\tvalid_1's l2: 45440.6\n",
      "[599]\ttraining's auc: 1\ttraining's l2: 37769.5\tvalid_1's auc: 1\tvalid_1's l2: 45425.9\n",
      "[600]\ttraining's auc: 1\ttraining's l2: 37739.6\tvalid_1's auc: 1\tvalid_1's l2: 45401\n",
      "[601]\ttraining's auc: 1\ttraining's l2: 37711.2\tvalid_1's auc: 1\tvalid_1's l2: 45382.7\n",
      "[602]\ttraining's auc: 1\ttraining's l2: 37691.8\tvalid_1's auc: 1\tvalid_1's l2: 45360.6\n",
      "[603]\ttraining's auc: 1\ttraining's l2: 37670.5\tvalid_1's auc: 1\tvalid_1's l2: 45342\n",
      "[604]\ttraining's auc: 1\ttraining's l2: 37649.8\tvalid_1's auc: 1\tvalid_1's l2: 45321.4\n",
      "[605]\ttraining's auc: 1\ttraining's l2: 37629\tvalid_1's auc: 1\tvalid_1's l2: 45303.5\n",
      "[606]\ttraining's auc: 1\ttraining's l2: 37608.3\tvalid_1's auc: 1\tvalid_1's l2: 45289.2\n",
      "[607]\ttraining's auc: 1\ttraining's l2: 37579.7\tvalid_1's auc: 1\tvalid_1's l2: 45259.6\n",
      "[608]\ttraining's auc: 1\ttraining's l2: 37561.7\tvalid_1's auc: 1\tvalid_1's l2: 45243.6\n",
      "[609]\ttraining's auc: 1\ttraining's l2: 37534.3\tvalid_1's auc: 1\tvalid_1's l2: 45221.2\n",
      "[610]\ttraining's auc: 1\ttraining's l2: 37514.5\tvalid_1's auc: 1\tvalid_1's l2: 45202.7\n",
      "[611]\ttraining's auc: 1\ttraining's l2: 37481.7\tvalid_1's auc: 1\tvalid_1's l2: 45193.4\n",
      "[612]\ttraining's auc: 1\ttraining's l2: 37465.1\tvalid_1's auc: 1\tvalid_1's l2: 45188.8\n",
      "[613]\ttraining's auc: 1\ttraining's l2: 37451.8\tvalid_1's auc: 1\tvalid_1's l2: 45175.9\n",
      "[614]\ttraining's auc: 1\ttraining's l2: 37421.8\tvalid_1's auc: 1\tvalid_1's l2: 45163.7\n",
      "[615]\ttraining's auc: 1\ttraining's l2: 37397.7\tvalid_1's auc: 1\tvalid_1's l2: 45152.4\n",
      "[616]\ttraining's auc: 1\ttraining's l2: 37366.4\tvalid_1's auc: 1\tvalid_1's l2: 45133.5\n",
      "[617]\ttraining's auc: 1\ttraining's l2: 37338\tvalid_1's auc: 1\tvalid_1's l2: 45125.1\n",
      "[618]\ttraining's auc: 1\ttraining's l2: 37308.8\tvalid_1's auc: 1\tvalid_1's l2: 45113.5\n",
      "[619]\ttraining's auc: 1\ttraining's l2: 37288.7\tvalid_1's auc: 1\tvalid_1's l2: 45096.1\n",
      "[620]\ttraining's auc: 1\ttraining's l2: 37257.4\tvalid_1's auc: 1\tvalid_1's l2: 45084.4\n",
      "[621]\ttraining's auc: 1\ttraining's l2: 37232.1\tvalid_1's auc: 1\tvalid_1's l2: 45061.5\n",
      "[622]\ttraining's auc: 1\ttraining's l2: 37212.7\tvalid_1's auc: 1\tvalid_1's l2: 45039.5\n",
      "[623]\ttraining's auc: 1\ttraining's l2: 37196.4\tvalid_1's auc: 1\tvalid_1's l2: 45022.4\n",
      "[624]\ttraining's auc: 1\ttraining's l2: 37175.8\tvalid_1's auc: 1\tvalid_1's l2: 44995.4\n",
      "[625]\ttraining's auc: 1\ttraining's l2: 37154.5\tvalid_1's auc: 1\tvalid_1's l2: 44976.7\n",
      "[626]\ttraining's auc: 1\ttraining's l2: 37134.1\tvalid_1's auc: 1\tvalid_1's l2: 44955.8\n",
      "[627]\ttraining's auc: 1\ttraining's l2: 37108.2\tvalid_1's auc: 1\tvalid_1's l2: 44942.5\n",
      "[628]\ttraining's auc: 1\ttraining's l2: 37088.2\tvalid_1's auc: 1\tvalid_1's l2: 44917\n",
      "[629]\ttraining's auc: 1\ttraining's l2: 37064.6\tvalid_1's auc: 1\tvalid_1's l2: 44890.4\n",
      "[630]\ttraining's auc: 1\ttraining's l2: 37044.6\tvalid_1's auc: 1\tvalid_1's l2: 44872\n",
      "[631]\ttraining's auc: 1\ttraining's l2: 37023.9\tvalid_1's auc: 1\tvalid_1's l2: 44855.5\n",
      "[632]\ttraining's auc: 1\ttraining's l2: 37004.6\tvalid_1's auc: 1\tvalid_1's l2: 44837.4\n",
      "[633]\ttraining's auc: 1\ttraining's l2: 36982.9\tvalid_1's auc: 1\tvalid_1's l2: 44819.1\n",
      "[634]\ttraining's auc: 1\ttraining's l2: 36963.2\tvalid_1's auc: 1\tvalid_1's l2: 44802.1\n",
      "[635]\ttraining's auc: 1\ttraining's l2: 36943.7\tvalid_1's auc: 1\tvalid_1's l2: 44791.9\n",
      "[636]\ttraining's auc: 1\ttraining's l2: 36924.6\tvalid_1's auc: 1\tvalid_1's l2: 44774.3\n",
      "[637]\ttraining's auc: 1\ttraining's l2: 36902.8\tvalid_1's auc: 1\tvalid_1's l2: 44754.1\n",
      "[638]\ttraining's auc: 1\ttraining's l2: 36881.4\tvalid_1's auc: 1\tvalid_1's l2: 44733.7\n",
      "[639]\ttraining's auc: 1\ttraining's l2: 36861.2\tvalid_1's auc: 1\tvalid_1's l2: 44713.5\n",
      "[640]\ttraining's auc: 1\ttraining's l2: 36843\tvalid_1's auc: 1\tvalid_1's l2: 44706.9\n",
      "[641]\ttraining's auc: 1\ttraining's l2: 36824.4\tvalid_1's auc: 1\tvalid_1's l2: 44693.7\n",
      "[642]\ttraining's auc: 1\ttraining's l2: 36799.6\tvalid_1's auc: 1\tvalid_1's l2: 44676.6\n",
      "[643]\ttraining's auc: 1\ttraining's l2: 36772.3\tvalid_1's auc: 1\tvalid_1's l2: 44660.6\n",
      "[644]\ttraining's auc: 1\ttraining's l2: 36745.2\tvalid_1's auc: 1\tvalid_1's l2: 44646.5\n",
      "[645]\ttraining's auc: 1\ttraining's l2: 36718.1\tvalid_1's auc: 1\tvalid_1's l2: 44630.9\n",
      "[646]\ttraining's auc: 1\ttraining's l2: 36694.9\tvalid_1's auc: 1\tvalid_1's l2: 44609.3\n",
      "[647]\ttraining's auc: 1\ttraining's l2: 36672\tvalid_1's auc: 1\tvalid_1's l2: 44589.1\n",
      "[648]\ttraining's auc: 1\ttraining's l2: 36654.6\tvalid_1's auc: 1\tvalid_1's l2: 44577.5\n",
      "[649]\ttraining's auc: 1\ttraining's l2: 36635.6\tvalid_1's auc: 1\tvalid_1's l2: 44557.8\n",
      "[650]\ttraining's auc: 1\ttraining's l2: 36613.3\tvalid_1's auc: 1\tvalid_1's l2: 44542.4\n",
      "[651]\ttraining's auc: 1\ttraining's l2: 36592.3\tvalid_1's auc: 1\tvalid_1's l2: 44535.6\n",
      "[652]\ttraining's auc: 1\ttraining's l2: 36567.4\tvalid_1's auc: 1\tvalid_1's l2: 44519.1\n",
      "[653]\ttraining's auc: 1\ttraining's l2: 36548.8\tvalid_1's auc: 1\tvalid_1's l2: 44498.8\n",
      "[654]\ttraining's auc: 1\ttraining's l2: 36528.6\tvalid_1's auc: 1\tvalid_1's l2: 44495.3\n",
      "[655]\ttraining's auc: 1\ttraining's l2: 36512.3\tvalid_1's auc: 1\tvalid_1's l2: 44477.4\n",
      "[656]\ttraining's auc: 1\ttraining's l2: 36489.1\tvalid_1's auc: 1\tvalid_1's l2: 44466.1\n",
      "[657]\ttraining's auc: 1\ttraining's l2: 36469\tvalid_1's auc: 1\tvalid_1's l2: 44454.1\n",
      "[658]\ttraining's auc: 1\ttraining's l2: 36444.8\tvalid_1's auc: 1\tvalid_1's l2: 44450.9\n",
      "[659]\ttraining's auc: 1\ttraining's l2: 36423.4\tvalid_1's auc: 1\tvalid_1's l2: 44446.6\n",
      "[660]\ttraining's auc: 1\ttraining's l2: 36394\tvalid_1's auc: 1\tvalid_1's l2: 44426\n",
      "[661]\ttraining's auc: 1\ttraining's l2: 36377\tvalid_1's auc: 1\tvalid_1's l2: 44407.4\n",
      "[662]\ttraining's auc: 1\ttraining's l2: 36354.9\tvalid_1's auc: 1\tvalid_1's l2: 44392.2\n",
      "[663]\ttraining's auc: 1\ttraining's l2: 36340.2\tvalid_1's auc: 1\tvalid_1's l2: 44384.7\n",
      "[664]\ttraining's auc: 1\ttraining's l2: 36318.2\tvalid_1's auc: 1\tvalid_1's l2: 44369.4\n",
      "[665]\ttraining's auc: 1\ttraining's l2: 36299.4\tvalid_1's auc: 1\tvalid_1's l2: 44355.6\n",
      "[666]\ttraining's auc: 1\ttraining's l2: 36277.2\tvalid_1's auc: 1\tvalid_1's l2: 44339.9\n",
      "[667]\ttraining's auc: 1\ttraining's l2: 36260.3\tvalid_1's auc: 1\tvalid_1's l2: 44326.9\n",
      "[668]\ttraining's auc: 1\ttraining's l2: 36237\tvalid_1's auc: 1\tvalid_1's l2: 44308.2\n",
      "[669]\ttraining's auc: 1\ttraining's l2: 36219.8\tvalid_1's auc: 1\tvalid_1's l2: 44295.8\n",
      "[670]\ttraining's auc: 1\ttraining's l2: 36199.5\tvalid_1's auc: 1\tvalid_1's l2: 44282.2\n",
      "[671]\ttraining's auc: 1\ttraining's l2: 36173.3\tvalid_1's auc: 1\tvalid_1's l2: 44266.4\n",
      "[672]\ttraining's auc: 1\ttraining's l2: 36146.9\tvalid_1's auc: 1\tvalid_1's l2: 44247\n",
      "[673]\ttraining's auc: 1\ttraining's l2: 36121.4\tvalid_1's auc: 1\tvalid_1's l2: 44230.8\n",
      "[674]\ttraining's auc: 1\ttraining's l2: 36095.3\tvalid_1's auc: 1\tvalid_1's l2: 44212.7\n",
      "[675]\ttraining's auc: 1\ttraining's l2: 36070.1\tvalid_1's auc: 1\tvalid_1's l2: 44199.1\n",
      "[676]\ttraining's auc: 1\ttraining's l2: 36048.3\tvalid_1's auc: 1\tvalid_1's l2: 44193\n",
      "[677]\ttraining's auc: 1\ttraining's l2: 36032.7\tvalid_1's auc: 1\tvalid_1's l2: 44184.5\n",
      "[678]\ttraining's auc: 1\ttraining's l2: 36007.9\tvalid_1's auc: 1\tvalid_1's l2: 44165.6\n",
      "[679]\ttraining's auc: 1\ttraining's l2: 35986.6\tvalid_1's auc: 1\tvalid_1's l2: 44145.4\n",
      "[680]\ttraining's auc: 1\ttraining's l2: 35968.5\tvalid_1's auc: 1\tvalid_1's l2: 44130.4\n",
      "[681]\ttraining's auc: 1\ttraining's l2: 35948\tvalid_1's auc: 1\tvalid_1's l2: 44121.7\n",
      "[682]\ttraining's auc: 1\ttraining's l2: 35935.3\tvalid_1's auc: 1\tvalid_1's l2: 44108\n",
      "[683]\ttraining's auc: 1\ttraining's l2: 35916.6\tvalid_1's auc: 1\tvalid_1's l2: 44098.6\n",
      "[684]\ttraining's auc: 1\ttraining's l2: 35897.1\tvalid_1's auc: 1\tvalid_1's l2: 44090.9\n",
      "[685]\ttraining's auc: 1\ttraining's l2: 35880.2\tvalid_1's auc: 1\tvalid_1's l2: 44086.2\n",
      "[686]\ttraining's auc: 1\ttraining's l2: 35861.2\tvalid_1's auc: 1\tvalid_1's l2: 44080\n",
      "[687]\ttraining's auc: 1\ttraining's l2: 35845.4\tvalid_1's auc: 1\tvalid_1's l2: 44070.6\n",
      "[688]\ttraining's auc: 1\ttraining's l2: 35830.2\tvalid_1's auc: 1\tvalid_1's l2: 44064.1\n",
      "[689]\ttraining's auc: 1\ttraining's l2: 35815.7\tvalid_1's auc: 1\tvalid_1's l2: 44053.3\n",
      "[690]\ttraining's auc: 1\ttraining's l2: 35797.2\tvalid_1's auc: 1\tvalid_1's l2: 44045.3\n",
      "[691]\ttraining's auc: 1\ttraining's l2: 35776.9\tvalid_1's auc: 1\tvalid_1's l2: 44024\n",
      "[692]\ttraining's auc: 1\ttraining's l2: 35754.6\tvalid_1's auc: 1\tvalid_1's l2: 44007.8\n",
      "[693]\ttraining's auc: 1\ttraining's l2: 35734.2\tvalid_1's auc: 1\tvalid_1's l2: 43987.2\n",
      "[694]\ttraining's auc: 1\ttraining's l2: 35718.8\tvalid_1's auc: 1\tvalid_1's l2: 43976.1\n",
      "[695]\ttraining's auc: 1\ttraining's l2: 35702.2\tvalid_1's auc: 1\tvalid_1's l2: 43959.3\n",
      "[696]\ttraining's auc: 1\ttraining's l2: 35681.8\tvalid_1's auc: 1\tvalid_1's l2: 43949.4\n",
      "[697]\ttraining's auc: 1\ttraining's l2: 35660.8\tvalid_1's auc: 1\tvalid_1's l2: 43939.5\n",
      "[698]\ttraining's auc: 1\ttraining's l2: 35636.9\tvalid_1's auc: 1\tvalid_1's l2: 43922.4\n",
      "[699]\ttraining's auc: 1\ttraining's l2: 35621.7\tvalid_1's auc: 1\tvalid_1's l2: 43908.4\n",
      "[700]\ttraining's auc: 1\ttraining's l2: 35599.8\tvalid_1's auc: 1\tvalid_1's l2: 43891\n",
      "[701]\ttraining's auc: 1\ttraining's l2: 35582.8\tvalid_1's auc: 1\tvalid_1's l2: 43886.7\n",
      "[702]\ttraining's auc: 1\ttraining's l2: 35561.2\tvalid_1's auc: 1\tvalid_1's l2: 43875.2\n",
      "[703]\ttraining's auc: 1\ttraining's l2: 35544.5\tvalid_1's auc: 1\tvalid_1's l2: 43871\n",
      "[704]\ttraining's auc: 1\ttraining's l2: 35523.5\tvalid_1's auc: 1\tvalid_1's l2: 43858.5\n",
      "[705]\ttraining's auc: 1\ttraining's l2: 35507\tvalid_1's auc: 1\tvalid_1's l2: 43852.3\n",
      "[706]\ttraining's auc: 1\ttraining's l2: 35486.7\tvalid_1's auc: 1\tvalid_1's l2: 43840.6\n",
      "[707]\ttraining's auc: 1\ttraining's l2: 35468.7\tvalid_1's auc: 1\tvalid_1's l2: 43829.9\n",
      "[708]\ttraining's auc: 1\ttraining's l2: 35446.5\tvalid_1's auc: 1\tvalid_1's l2: 43805.2\n",
      "[709]\ttraining's auc: 1\ttraining's l2: 35426.4\tvalid_1's auc: 1\tvalid_1's l2: 43800.2\n",
      "[710]\ttraining's auc: 1\ttraining's l2: 35405.8\tvalid_1's auc: 1\tvalid_1's l2: 43788.4\n",
      "[711]\ttraining's auc: 1\ttraining's l2: 35385.9\tvalid_1's auc: 1\tvalid_1's l2: 43778\n",
      "[712]\ttraining's auc: 1\ttraining's l2: 35371.9\tvalid_1's auc: 1\tvalid_1's l2: 43771\n",
      "[713]\ttraining's auc: 1\ttraining's l2: 35358.7\tvalid_1's auc: 1\tvalid_1's l2: 43757.4\n",
      "[714]\ttraining's auc: 1\ttraining's l2: 35339.2\tvalid_1's auc: 1\tvalid_1's l2: 43740.9\n",
      "[715]\ttraining's auc: 1\ttraining's l2: 35318.5\tvalid_1's auc: 1\tvalid_1's l2: 43727.1\n",
      "[716]\ttraining's auc: 1\ttraining's l2: 35299.1\tvalid_1's auc: 1\tvalid_1's l2: 43709.7\n",
      "[717]\ttraining's auc: 1\ttraining's l2: 35285.3\tvalid_1's auc: 1\tvalid_1's l2: 43701.5\n",
      "[718]\ttraining's auc: 1\ttraining's l2: 35271.6\tvalid_1's auc: 1\tvalid_1's l2: 43690.3\n",
      "[719]\ttraining's auc: 1\ttraining's l2: 35252.5\tvalid_1's auc: 1\tvalid_1's l2: 43678\n",
      "[720]\ttraining's auc: 1\ttraining's l2: 35233.2\tvalid_1's auc: 1\tvalid_1's l2: 43664.4\n",
      "[721]\ttraining's auc: 1\ttraining's l2: 35216.9\tvalid_1's auc: 1\tvalid_1's l2: 43648.6\n",
      "[722]\ttraining's auc: 1\ttraining's l2: 35199.3\tvalid_1's auc: 1\tvalid_1's l2: 43632.1\n",
      "[723]\ttraining's auc: 1\ttraining's l2: 35182.1\tvalid_1's auc: 1\tvalid_1's l2: 43622.5\n",
      "[724]\ttraining's auc: 1\ttraining's l2: 35167.5\tvalid_1's auc: 1\tvalid_1's l2: 43609\n",
      "[725]\ttraining's auc: 1\ttraining's l2: 35157.8\tvalid_1's auc: 1\tvalid_1's l2: 43602.3\n",
      "[726]\ttraining's auc: 1\ttraining's l2: 35142.3\tvalid_1's auc: 1\tvalid_1's l2: 43587.2\n",
      "[727]\ttraining's auc: 1\ttraining's l2: 35128.7\tvalid_1's auc: 1\tvalid_1's l2: 43572.4\n",
      "[728]\ttraining's auc: 1\ttraining's l2: 35113.7\tvalid_1's auc: 1\tvalid_1's l2: 43560.7\n",
      "[729]\ttraining's auc: 1\ttraining's l2: 35098.2\tvalid_1's auc: 1\tvalid_1's l2: 43545.5\n",
      "[730]\ttraining's auc: 1\ttraining's l2: 35084.7\tvalid_1's auc: 1\tvalid_1's l2: 43530.5\n",
      "[731]\ttraining's auc: 1\ttraining's l2: 35068.9\tvalid_1's auc: 1\tvalid_1's l2: 43519.1\n",
      "[732]\ttraining's auc: 1\ttraining's l2: 35053.2\tvalid_1's auc: 1\tvalid_1's l2: 43507.9\n",
      "[733]\ttraining's auc: 1\ttraining's l2: 35040.6\tvalid_1's auc: 1\tvalid_1's l2: 43501.4\n",
      "[734]\ttraining's auc: 1\ttraining's l2: 35024.8\tvalid_1's auc: 1\tvalid_1's l2: 43490.9\n",
      "[735]\ttraining's auc: 1\ttraining's l2: 35008.7\tvalid_1's auc: 1\tvalid_1's l2: 43476\n",
      "[736]\ttraining's auc: 1\ttraining's l2: 34990\tvalid_1's auc: 1\tvalid_1's l2: 43468\n",
      "[737]\ttraining's auc: 1\ttraining's l2: 34975\tvalid_1's auc: 1\tvalid_1's l2: 43459.6\n",
      "[738]\ttraining's auc: 1\ttraining's l2: 34955.4\tvalid_1's auc: 1\tvalid_1's l2: 43435.9\n",
      "[739]\ttraining's auc: 1\ttraining's l2: 34939.2\tvalid_1's auc: 1\tvalid_1's l2: 43423\n",
      "[740]\ttraining's auc: 1\ttraining's l2: 34915.1\tvalid_1's auc: 1\tvalid_1's l2: 43410.5\n",
      "[741]\ttraining's auc: 1\ttraining's l2: 34901.6\tvalid_1's auc: 1\tvalid_1's l2: 43394.1\n",
      "[742]\ttraining's auc: 1\ttraining's l2: 34888.3\tvalid_1's auc: 1\tvalid_1's l2: 43378.3\n",
      "[743]\ttraining's auc: 1\ttraining's l2: 34879.3\tvalid_1's auc: 1\tvalid_1's l2: 43368\n",
      "[744]\ttraining's auc: 1\ttraining's l2: 34870.9\tvalid_1's auc: 1\tvalid_1's l2: 43358.7\n",
      "[745]\ttraining's auc: 1\ttraining's l2: 34859.4\tvalid_1's auc: 1\tvalid_1's l2: 43346.7\n",
      "[746]\ttraining's auc: 1\ttraining's l2: 34850.3\tvalid_1's auc: 1\tvalid_1's l2: 43337.4\n",
      "[747]\ttraining's auc: 1\ttraining's l2: 34836.1\tvalid_1's auc: 1\tvalid_1's l2: 43322\n",
      "[748]\ttraining's auc: 1\ttraining's l2: 34822.7\tvalid_1's auc: 1\tvalid_1's l2: 43308.8\n",
      "[749]\ttraining's auc: 1\ttraining's l2: 34810.1\tvalid_1's auc: 1\tvalid_1's l2: 43296.4\n",
      "[750]\ttraining's auc: 1\ttraining's l2: 34796\tvalid_1's auc: 1\tvalid_1's l2: 43281\n",
      "[751]\ttraining's auc: 1\ttraining's l2: 34777.4\tvalid_1's auc: 1\tvalid_1's l2: 43272.5\n",
      "[752]\ttraining's auc: 1\ttraining's l2: 34766.9\tvalid_1's auc: 1\tvalid_1's l2: 43267.9\n",
      "[753]\ttraining's auc: 1\ttraining's l2: 34750.2\tvalid_1's auc: 1\tvalid_1's l2: 43258.5\n",
      "[754]\ttraining's auc: 1\ttraining's l2: 34731.8\tvalid_1's auc: 1\tvalid_1's l2: 43254.3\n",
      "[755]\ttraining's auc: 1\ttraining's l2: 34712.4\tvalid_1's auc: 1\tvalid_1's l2: 43248.8\n",
      "[756]\ttraining's auc: 1\ttraining's l2: 34692\tvalid_1's auc: 1\tvalid_1's l2: 43238.2\n",
      "[757]\ttraining's auc: 1\ttraining's l2: 34675.5\tvalid_1's auc: 1\tvalid_1's l2: 43230.4\n",
      "[758]\ttraining's auc: 1\ttraining's l2: 34661.6\tvalid_1's auc: 1\tvalid_1's l2: 43218\n",
      "[759]\ttraining's auc: 1\ttraining's l2: 34643.2\tvalid_1's auc: 1\tvalid_1's l2: 43214.2\n",
      "[760]\ttraining's auc: 1\ttraining's l2: 34629.2\tvalid_1's auc: 1\tvalid_1's l2: 43206.4\n",
      "[761]\ttraining's auc: 1\ttraining's l2: 34613.9\tvalid_1's auc: 1\tvalid_1's l2: 43206.7\n",
      "[762]\ttraining's auc: 1\ttraining's l2: 34596.4\tvalid_1's auc: 1\tvalid_1's l2: 43191.4\n",
      "[763]\ttraining's auc: 1\ttraining's l2: 34580.5\tvalid_1's auc: 1\tvalid_1's l2: 43191\n",
      "[764]\ttraining's auc: 1\ttraining's l2: 34563\tvalid_1's auc: 1\tvalid_1's l2: 43181.9\n",
      "[765]\ttraining's auc: 1\ttraining's l2: 34546.7\tvalid_1's auc: 1\tvalid_1's l2: 43171.7\n",
      "[766]\ttraining's auc: 1\ttraining's l2: 34529.8\tvalid_1's auc: 1\tvalid_1's l2: 43157.5\n",
      "[767]\ttraining's auc: 1\ttraining's l2: 34514.6\tvalid_1's auc: 1\tvalid_1's l2: 43146.6\n",
      "[768]\ttraining's auc: 1\ttraining's l2: 34498.2\tvalid_1's auc: 1\tvalid_1's l2: 43147\n",
      "[769]\ttraining's auc: 1\ttraining's l2: 34483.4\tvalid_1's auc: 1\tvalid_1's l2: 43147.2\n",
      "[770]\ttraining's auc: 1\ttraining's l2: 34468.6\tvalid_1's auc: 1\tvalid_1's l2: 43134.1\n",
      "[771]\ttraining's auc: 1\ttraining's l2: 34457.4\tvalid_1's auc: 1\tvalid_1's l2: 43126.3\n",
      "[772]\ttraining's auc: 1\ttraining's l2: 34445.4\tvalid_1's auc: 1\tvalid_1's l2: 43123.6\n",
      "[773]\ttraining's auc: 1\ttraining's l2: 34434.4\tvalid_1's auc: 1\tvalid_1's l2: 43115.6\n",
      "[774]\ttraining's auc: 1\ttraining's l2: 34423.6\tvalid_1's auc: 1\tvalid_1's l2: 43117.6\n",
      "[775]\ttraining's auc: 1\ttraining's l2: 34407.6\tvalid_1's auc: 1\tvalid_1's l2: 43109.4\n",
      "[776]\ttraining's auc: 1\ttraining's l2: 34391.3\tvalid_1's auc: 1\tvalid_1's l2: 43101.7\n",
      "[777]\ttraining's auc: 1\ttraining's l2: 34381\tvalid_1's auc: 1\tvalid_1's l2: 43094.8\n",
      "[778]\ttraining's auc: 1\ttraining's l2: 34369.7\tvalid_1's auc: 1\tvalid_1's l2: 43094.1\n",
      "[779]\ttraining's auc: 1\ttraining's l2: 34358.2\tvalid_1's auc: 1\tvalid_1's l2: 43089.5\n",
      "[780]\ttraining's auc: 1\ttraining's l2: 34346.4\tvalid_1's auc: 1\tvalid_1's l2: 43085.6\n",
      "[781]\ttraining's auc: 1\ttraining's l2: 34331.5\tvalid_1's auc: 1\tvalid_1's l2: 43080.8\n",
      "[782]\ttraining's auc: 1\ttraining's l2: 34315.6\tvalid_1's auc: 1\tvalid_1's l2: 43067.9\n",
      "[783]\ttraining's auc: 1\ttraining's l2: 34297.4\tvalid_1's auc: 1\tvalid_1's l2: 43060.4\n",
      "[784]\ttraining's auc: 1\ttraining's l2: 34281.5\tvalid_1's auc: 1\tvalid_1's l2: 43058.6\n",
      "[785]\ttraining's auc: 1\ttraining's l2: 34262.1\tvalid_1's auc: 1\tvalid_1's l2: 43047.5\n",
      "[786]\ttraining's auc: 1\ttraining's l2: 34249.1\tvalid_1's auc: 1\tvalid_1's l2: 43040.2\n",
      "[787]\ttraining's auc: 1\ttraining's l2: 34231.8\tvalid_1's auc: 1\tvalid_1's l2: 43032.8\n",
      "[788]\ttraining's auc: 1\ttraining's l2: 34215.1\tvalid_1's auc: 1\tvalid_1's l2: 43024.1\n",
      "[789]\ttraining's auc: 1\ttraining's l2: 34201.1\tvalid_1's auc: 1\tvalid_1's l2: 43012.8\n",
      "[790]\ttraining's auc: 1\ttraining's l2: 34190\tvalid_1's auc: 1\tvalid_1's l2: 43019.5\n",
      "[791]\ttraining's auc: 1\ttraining's l2: 34175.7\tvalid_1's auc: 1\tvalid_1's l2: 43008.6\n",
      "[792]\ttraining's auc: 1\ttraining's l2: 34162.5\tvalid_1's auc: 1\tvalid_1's l2: 42998.9\n",
      "[793]\ttraining's auc: 1\ttraining's l2: 34148.4\tvalid_1's auc: 1\tvalid_1's l2: 42988.5\n",
      "[794]\ttraining's auc: 1\ttraining's l2: 34134.3\tvalid_1's auc: 1\tvalid_1's l2: 42977.4\n",
      "[795]\ttraining's auc: 1\ttraining's l2: 34129.3\tvalid_1's auc: 1\tvalid_1's l2: 42977.5\n",
      "[796]\ttraining's auc: 1\ttraining's l2: 34115.5\tvalid_1's auc: 1\tvalid_1's l2: 42967.3\n",
      "[797]\ttraining's auc: 1\ttraining's l2: 34100.7\tvalid_1's auc: 1\tvalid_1's l2: 42955.3\n",
      "[798]\ttraining's auc: 1\ttraining's l2: 34086.9\tvalid_1's auc: 1\tvalid_1's l2: 42944.2\n",
      "[799]\ttraining's auc: 1\ttraining's l2: 34074.8\tvalid_1's auc: 1\tvalid_1's l2: 42934.5\n",
      "[800]\ttraining's auc: 1\ttraining's l2: 34061\tvalid_1's auc: 1\tvalid_1's l2: 42923\n",
      "[801]\ttraining's auc: 1\ttraining's l2: 34051.8\tvalid_1's auc: 1\tvalid_1's l2: 42917.7\n",
      "[802]\ttraining's auc: 1\ttraining's l2: 34033.9\tvalid_1's auc: 1\tvalid_1's l2: 42912.7\n",
      "[803]\ttraining's auc: 1\ttraining's l2: 34018.7\tvalid_1's auc: 1\tvalid_1's l2: 42902.9\n",
      "[804]\ttraining's auc: 1\ttraining's l2: 33999.8\tvalid_1's auc: 1\tvalid_1's l2: 42889.4\n",
      "[805]\ttraining's auc: 1\ttraining's l2: 33985.4\tvalid_1's auc: 1\tvalid_1's l2: 42880.6\n",
      "[806]\ttraining's auc: 1\ttraining's l2: 33970.4\tvalid_1's auc: 1\tvalid_1's l2: 42871.3\n",
      "[807]\ttraining's auc: 1\ttraining's l2: 33955.4\tvalid_1's auc: 1\tvalid_1's l2: 42862.4\n",
      "[808]\ttraining's auc: 1\ttraining's l2: 33950.8\tvalid_1's auc: 1\tvalid_1's l2: 42857.9\n",
      "[809]\ttraining's auc: 1\ttraining's l2: 33941.1\tvalid_1's auc: 1\tvalid_1's l2: 42852\n",
      "[810]\ttraining's auc: 1\ttraining's l2: 33922.5\tvalid_1's auc: 1\tvalid_1's l2: 42839.7\n",
      "[811]\ttraining's auc: 1\ttraining's l2: 33911.6\tvalid_1's auc: 1\tvalid_1's l2: 42833.7\n",
      "[812]\ttraining's auc: 1\ttraining's l2: 33899.6\tvalid_1's auc: 1\tvalid_1's l2: 42828.1\n",
      "[813]\ttraining's auc: 1\ttraining's l2: 33887.4\tvalid_1's auc: 1\tvalid_1's l2: 42818.9\n",
      "[814]\ttraining's auc: 1\ttraining's l2: 33874.3\tvalid_1's auc: 1\tvalid_1's l2: 42804.6\n",
      "[815]\ttraining's auc: 1\ttraining's l2: 33861.8\tvalid_1's auc: 1\tvalid_1's l2: 42796.6\n",
      "[816]\ttraining's auc: 1\ttraining's l2: 33849.6\tvalid_1's auc: 1\tvalid_1's l2: 42785.6\n",
      "[817]\ttraining's auc: 1\ttraining's l2: 33843.3\tvalid_1's auc: 1\tvalid_1's l2: 42781.4\n",
      "[818]\ttraining's auc: 1\ttraining's l2: 33831\tvalid_1's auc: 1\tvalid_1's l2: 42773.8\n",
      "[819]\ttraining's auc: 1\ttraining's l2: 33821\tvalid_1's auc: 1\tvalid_1's l2: 42767.8\n",
      "[820]\ttraining's auc: 1\ttraining's l2: 33810.6\tvalid_1's auc: 1\tvalid_1's l2: 42762.2\n",
      "[821]\ttraining's auc: 1\ttraining's l2: 33803.2\tvalid_1's auc: 1\tvalid_1's l2: 42761.2\n",
      "[822]\ttraining's auc: 1\ttraining's l2: 33794.3\tvalid_1's auc: 1\tvalid_1's l2: 42755.3\n",
      "[823]\ttraining's auc: 1\ttraining's l2: 33787.8\tvalid_1's auc: 1\tvalid_1's l2: 42746.6\n",
      "[824]\ttraining's auc: 1\ttraining's l2: 33782.2\tvalid_1's auc: 1\tvalid_1's l2: 42739.8\n",
      "[825]\ttraining's auc: 1\ttraining's l2: 33775.2\tvalid_1's auc: 1\tvalid_1's l2: 42733.6\n",
      "[826]\ttraining's auc: 1\ttraining's l2: 33767.5\tvalid_1's auc: 1\tvalid_1's l2: 42733.8\n",
      "[827]\ttraining's auc: 1\ttraining's l2: 33759.6\tvalid_1's auc: 1\tvalid_1's l2: 42733.9\n",
      "[828]\ttraining's auc: 1\ttraining's l2: 33752.4\tvalid_1's auc: 1\tvalid_1's l2: 42731.6\n",
      "[829]\ttraining's auc: 1\ttraining's l2: 33746.9\tvalid_1's auc: 1\tvalid_1's l2: 42731.7\n",
      "[830]\ttraining's auc: 1\ttraining's l2: 33736.5\tvalid_1's auc: 1\tvalid_1's l2: 42729.5\n",
      "[831]\ttraining's auc: 1\ttraining's l2: 33723.7\tvalid_1's auc: 1\tvalid_1's l2: 42728.7\n",
      "[832]\ttraining's auc: 1\ttraining's l2: 33709.2\tvalid_1's auc: 1\tvalid_1's l2: 42727\n",
      "[833]\ttraining's auc: 1\ttraining's l2: 33697.1\tvalid_1's auc: 1\tvalid_1's l2: 42720.2\n",
      "[834]\ttraining's auc: 1\ttraining's l2: 33684\tvalid_1's auc: 1\tvalid_1's l2: 42714.6\n",
      "[835]\ttraining's auc: 1\ttraining's l2: 33671.7\tvalid_1's auc: 1\tvalid_1's l2: 42709.3\n",
      "[836]\ttraining's auc: 1\ttraining's l2: 33659.9\tvalid_1's auc: 1\tvalid_1's l2: 42702.8\n",
      "[837]\ttraining's auc: 1\ttraining's l2: 33648.3\tvalid_1's auc: 1\tvalid_1's l2: 42702.2\n",
      "[838]\ttraining's auc: 1\ttraining's l2: 33634.2\tvalid_1's auc: 1\tvalid_1's l2: 42698.8\n",
      "[839]\ttraining's auc: 1\ttraining's l2: 33624.9\tvalid_1's auc: 1\tvalid_1's l2: 42698.5\n",
      "[840]\ttraining's auc: 1\ttraining's l2: 33612.6\tvalid_1's auc: 1\tvalid_1's l2: 42690.8\n",
      "[841]\ttraining's auc: 1\ttraining's l2: 33594.5\tvalid_1's auc: 1\tvalid_1's l2: 42690.1\n",
      "[842]\ttraining's auc: 1\ttraining's l2: 33580\tvalid_1's auc: 1\tvalid_1's l2: 42687.9\n",
      "[843]\ttraining's auc: 1\ttraining's l2: 33563.2\tvalid_1's auc: 1\tvalid_1's l2: 42688.3\n",
      "[844]\ttraining's auc: 1\ttraining's l2: 33547.6\tvalid_1's auc: 1\tvalid_1's l2: 42683.4\n",
      "[845]\ttraining's auc: 1\ttraining's l2: 33528.8\tvalid_1's auc: 1\tvalid_1's l2: 42678.1\n",
      "[846]\ttraining's auc: 1\ttraining's l2: 33513.5\tvalid_1's auc: 1\tvalid_1's l2: 42675\n",
      "[847]\ttraining's auc: 1\ttraining's l2: 33499\tvalid_1's auc: 1\tvalid_1's l2: 42669.5\n",
      "[848]\ttraining's auc: 1\ttraining's l2: 33485\tvalid_1's auc: 1\tvalid_1's l2: 42659.4\n",
      "[849]\ttraining's auc: 1\ttraining's l2: 33467.9\tvalid_1's auc: 1\tvalid_1's l2: 42658.7\n",
      "[850]\ttraining's auc: 1\ttraining's l2: 33456.4\tvalid_1's auc: 1\tvalid_1's l2: 42653.4\n",
      "[851]\ttraining's auc: 1\ttraining's l2: 33444.5\tvalid_1's auc: 1\tvalid_1's l2: 42639.8\n",
      "[852]\ttraining's auc: 1\ttraining's l2: 33432.1\tvalid_1's auc: 1\tvalid_1's l2: 42633.9\n",
      "[853]\ttraining's auc: 1\ttraining's l2: 33422.2\tvalid_1's auc: 1\tvalid_1's l2: 42626.3\n",
      "[854]\ttraining's auc: 1\ttraining's l2: 33411.9\tvalid_1's auc: 1\tvalid_1's l2: 42617\n",
      "[855]\ttraining's auc: 1\ttraining's l2: 33401.1\tvalid_1's auc: 1\tvalid_1's l2: 42613.3\n",
      "[856]\ttraining's auc: 1\ttraining's l2: 33391.4\tvalid_1's auc: 1\tvalid_1's l2: 42607.1\n",
      "[857]\ttraining's auc: 1\ttraining's l2: 33381.2\tvalid_1's auc: 1\tvalid_1's l2: 42597.9\n",
      "[858]\ttraining's auc: 1\ttraining's l2: 33370.7\tvalid_1's auc: 1\tvalid_1's l2: 42588.9\n",
      "[859]\ttraining's auc: 1\ttraining's l2: 33359.5\tvalid_1's auc: 1\tvalid_1's l2: 42575.5\n",
      "[860]\ttraining's auc: 1\ttraining's l2: 33347.6\tvalid_1's auc: 1\tvalid_1's l2: 42562.5\n",
      "[861]\ttraining's auc: 1\ttraining's l2: 33337\tvalid_1's auc: 1\tvalid_1's l2: 42557.8\n",
      "[862]\ttraining's auc: 1\ttraining's l2: 33328.3\tvalid_1's auc: 1\tvalid_1's l2: 42544.6\n",
      "[863]\ttraining's auc: 1\ttraining's l2: 33311.5\tvalid_1's auc: 1\tvalid_1's l2: 42534.7\n",
      "[864]\ttraining's auc: 1\ttraining's l2: 33294.9\tvalid_1's auc: 1\tvalid_1's l2: 42523.7\n",
      "[865]\ttraining's auc: 1\ttraining's l2: 33280.7\tvalid_1's auc: 1\tvalid_1's l2: 42517.5\n",
      "[866]\ttraining's auc: 1\ttraining's l2: 33269.7\tvalid_1's auc: 1\tvalid_1's l2: 42514.1\n",
      "[867]\ttraining's auc: 1\ttraining's l2: 33255.1\tvalid_1's auc: 1\tvalid_1's l2: 42504.6\n",
      "[868]\ttraining's auc: 1\ttraining's l2: 33243.2\tvalid_1's auc: 1\tvalid_1's l2: 42493.2\n",
      "[869]\ttraining's auc: 1\ttraining's l2: 33234.3\tvalid_1's auc: 1\tvalid_1's l2: 42480.4\n",
      "[870]\ttraining's auc: 1\ttraining's l2: 33221.3\tvalid_1's auc: 1\tvalid_1's l2: 42477.6\n",
      "[871]\ttraining's auc: 1\ttraining's l2: 33210.1\tvalid_1's auc: 1\tvalid_1's l2: 42468.3\n",
      "[872]\ttraining's auc: 1\ttraining's l2: 33201.5\tvalid_1's auc: 1\tvalid_1's l2: 42459.9\n",
      "[873]\ttraining's auc: 1\ttraining's l2: 33191\tvalid_1's auc: 1\tvalid_1's l2: 42448.7\n",
      "[874]\ttraining's auc: 1\ttraining's l2: 33181.4\tvalid_1's auc: 1\tvalid_1's l2: 42442.6\n",
      "[875]\ttraining's auc: 1\ttraining's l2: 33177.6\tvalid_1's auc: 1\tvalid_1's l2: 42438.6\n",
      "[876]\ttraining's auc: 1\ttraining's l2: 33166.9\tvalid_1's auc: 1\tvalid_1's l2: 42430.4\n",
      "[877]\ttraining's auc: 1\ttraining's l2: 33157.3\tvalid_1's auc: 1\tvalid_1's l2: 42421.7\n",
      "[878]\ttraining's auc: 1\ttraining's l2: 33148.4\tvalid_1's auc: 1\tvalid_1's l2: 42413.7\n",
      "[879]\ttraining's auc: 1\ttraining's l2: 33143.6\tvalid_1's auc: 1\tvalid_1's l2: 42409.9\n",
      "[880]\ttraining's auc: 1\ttraining's l2: 33132.9\tvalid_1's auc: 1\tvalid_1's l2: 42401.5\n",
      "[881]\ttraining's auc: 1\ttraining's l2: 33123.1\tvalid_1's auc: 1\tvalid_1's l2: 42397.3\n",
      "[882]\ttraining's auc: 1\ttraining's l2: 33113.4\tvalid_1's auc: 1\tvalid_1's l2: 42393\n",
      "[883]\ttraining's auc: 1\ttraining's l2: 33103.6\tvalid_1's auc: 1\tvalid_1's l2: 42388.9\n",
      "[884]\ttraining's auc: 1\ttraining's l2: 33093.4\tvalid_1's auc: 1\tvalid_1's l2: 42386.3\n",
      "[885]\ttraining's auc: 1\ttraining's l2: 33089\tvalid_1's auc: 1\tvalid_1's l2: 42383.7\n",
      "[886]\ttraining's auc: 1\ttraining's l2: 33079.3\tvalid_1's auc: 1\tvalid_1's l2: 42385.5\n",
      "[887]\ttraining's auc: 1\ttraining's l2: 33069.6\tvalid_1's auc: 1\tvalid_1's l2: 42381.7\n",
      "[888]\ttraining's auc: 1\ttraining's l2: 33060.1\tvalid_1's auc: 1\tvalid_1's l2: 42375\n",
      "[889]\ttraining's auc: 1\ttraining's l2: 33050.9\tvalid_1's auc: 1\tvalid_1's l2: 42377\n",
      "[890]\ttraining's auc: 1\ttraining's l2: 33041.9\tvalid_1's auc: 1\tvalid_1's l2: 42379\n",
      "[891]\ttraining's auc: 1\ttraining's l2: 33031.7\tvalid_1's auc: 1\tvalid_1's l2: 42370.5\n",
      "[892]\ttraining's auc: 1\ttraining's l2: 33019.7\tvalid_1's auc: 1\tvalid_1's l2: 42357.1\n",
      "[893]\ttraining's auc: 1\ttraining's l2: 33010\tvalid_1's auc: 1\tvalid_1's l2: 42343.3\n",
      "[894]\ttraining's auc: 1\ttraining's l2: 33001.2\tvalid_1's auc: 1\tvalid_1's l2: 42340\n",
      "[895]\ttraining's auc: 1\ttraining's l2: 32988.8\tvalid_1's auc: 1\tvalid_1's l2: 42326.7\n",
      "[896]\ttraining's auc: 1\ttraining's l2: 32979\tvalid_1's auc: 1\tvalid_1's l2: 42313.8\n",
      "[897]\ttraining's auc: 1\ttraining's l2: 32968.5\tvalid_1's auc: 1\tvalid_1's l2: 42302.3\n",
      "[898]\ttraining's auc: 1\ttraining's l2: 32957.4\tvalid_1's auc: 1\tvalid_1's l2: 42291.2\n",
      "[899]\ttraining's auc: 1\ttraining's l2: 32950.2\tvalid_1's auc: 1\tvalid_1's l2: 42287.4\n",
      "[900]\ttraining's auc: 1\ttraining's l2: 32938.5\tvalid_1's auc: 1\tvalid_1's l2: 42274.3\n",
      "[901]\ttraining's auc: 1\ttraining's l2: 32922.5\tvalid_1's auc: 1\tvalid_1's l2: 42268.5\n",
      "[902]\ttraining's auc: 1\ttraining's l2: 32906.5\tvalid_1's auc: 1\tvalid_1's l2: 42263.6\n",
      "[903]\ttraining's auc: 1\ttraining's l2: 32889.2\tvalid_1's auc: 1\tvalid_1's l2: 42256.2\n",
      "[904]\ttraining's auc: 1\ttraining's l2: 32873.1\tvalid_1's auc: 1\tvalid_1's l2: 42250.4\n",
      "[905]\ttraining's auc: 1\ttraining's l2: 32855.7\tvalid_1's auc: 1\tvalid_1's l2: 42240.3\n",
      "[906]\ttraining's auc: 1\ttraining's l2: 32839.5\tvalid_1's auc: 1\tvalid_1's l2: 42232.7\n",
      "[907]\ttraining's auc: 1\ttraining's l2: 32822.1\tvalid_1's auc: 1\tvalid_1's l2: 42224.2\n",
      "[908]\ttraining's auc: 1\ttraining's l2: 32805.4\tvalid_1's auc: 1\tvalid_1's l2: 42219.3\n",
      "[909]\ttraining's auc: 1\ttraining's l2: 32794.4\tvalid_1's auc: 1\tvalid_1's l2: 42215\n",
      "[910]\ttraining's auc: 1\ttraining's l2: 32780.3\tvalid_1's auc: 1\tvalid_1's l2: 42207.3\n",
      "[911]\ttraining's auc: 1\ttraining's l2: 32768.3\tvalid_1's auc: 1\tvalid_1's l2: 42197.7\n",
      "[912]\ttraining's auc: 1\ttraining's l2: 32757.7\tvalid_1's auc: 1\tvalid_1's l2: 42189.5\n",
      "[913]\ttraining's auc: 1\ttraining's l2: 32745.7\tvalid_1's auc: 1\tvalid_1's l2: 42175.5\n",
      "[914]\ttraining's auc: 1\ttraining's l2: 32735.7\tvalid_1's auc: 1\tvalid_1's l2: 42170.8\n",
      "[915]\ttraining's auc: 1\ttraining's l2: 32725\tvalid_1's auc: 1\tvalid_1's l2: 42163.9\n",
      "[916]\ttraining's auc: 1\ttraining's l2: 32713.2\tvalid_1's auc: 1\tvalid_1's l2: 42154.9\n",
      "[917]\ttraining's auc: 1\ttraining's l2: 32702.3\tvalid_1's auc: 1\tvalid_1's l2: 42152.7\n",
      "[918]\ttraining's auc: 1\ttraining's l2: 32693.6\tvalid_1's auc: 1\tvalid_1's l2: 42142.5\n",
      "[919]\ttraining's auc: 1\ttraining's l2: 32690.7\tvalid_1's auc: 1\tvalid_1's l2: 42139.1\n",
      "[920]\ttraining's auc: 1\ttraining's l2: 32681.5\tvalid_1's auc: 1\tvalid_1's l2: 42134\n",
      "[921]\ttraining's auc: 1\ttraining's l2: 32672.2\tvalid_1's auc: 1\tvalid_1's l2: 42129.3\n",
      "[922]\ttraining's auc: 1\ttraining's l2: 32660.1\tvalid_1's auc: 1\tvalid_1's l2: 42125.1\n",
      "[923]\ttraining's auc: 1\ttraining's l2: 32650.6\tvalid_1's auc: 1\tvalid_1's l2: 42121.8\n",
      "[924]\ttraining's auc: 1\ttraining's l2: 32641.1\tvalid_1's auc: 1\tvalid_1's l2: 42114.9\n",
      "[925]\ttraining's auc: 1\ttraining's l2: 32632.1\tvalid_1's auc: 1\tvalid_1's l2: 42110.8\n",
      "[926]\ttraining's auc: 1\ttraining's l2: 32624.1\tvalid_1's auc: 1\tvalid_1's l2: 42105.3\n",
      "[927]\ttraining's auc: 1\ttraining's l2: 32614.7\tvalid_1's auc: 1\tvalid_1's l2: 42094.8\n",
      "[928]\ttraining's auc: 1\ttraining's l2: 32605.4\tvalid_1's auc: 1\tvalid_1's l2: 42085.2\n",
      "[929]\ttraining's auc: 1\ttraining's l2: 32595.5\tvalid_1's auc: 1\tvalid_1's l2: 42078.2\n",
      "[930]\ttraining's auc: 1\ttraining's l2: 32585.5\tvalid_1's auc: 1\tvalid_1's l2: 42074.3\n",
      "[931]\ttraining's auc: 1\ttraining's l2: 32573\tvalid_1's auc: 1\tvalid_1's l2: 42071.1\n",
      "[932]\ttraining's auc: 1\ttraining's l2: 32560.6\tvalid_1's auc: 1\tvalid_1's l2: 42067.7\n",
      "[933]\ttraining's auc: 1\ttraining's l2: 32553\tvalid_1's auc: 1\tvalid_1's l2: 42055.5\n",
      "[934]\ttraining's auc: 1\ttraining's l2: 32540.8\tvalid_1's auc: 1\tvalid_1's l2: 42052\n",
      "[935]\ttraining's auc: 1\ttraining's l2: 32528.1\tvalid_1's auc: 1\tvalid_1's l2: 42047.9\n",
      "[936]\ttraining's auc: 1\ttraining's l2: 32515.9\tvalid_1's auc: 1\tvalid_1's l2: 42044.3\n",
      "[937]\ttraining's auc: 1\ttraining's l2: 32503.8\tvalid_1's auc: 1\tvalid_1's l2: 42041.1\n",
      "[938]\ttraining's auc: 1\ttraining's l2: 32491.5\tvalid_1's auc: 1\tvalid_1's l2: 42037.9\n",
      "[939]\ttraining's auc: 1\ttraining's l2: 32479.6\tvalid_1's auc: 1\tvalid_1's l2: 42034.8\n",
      "[940]\ttraining's auc: 1\ttraining's l2: 32465.1\tvalid_1's auc: 1\tvalid_1's l2: 42029.4\n",
      "[941]\ttraining's auc: 1\ttraining's l2: 32445.6\tvalid_1's auc: 1\tvalid_1's l2: 42014.6\n",
      "[942]\ttraining's auc: 1\ttraining's l2: 32428.2\tvalid_1's auc: 1\tvalid_1's l2: 42010.9\n",
      "[943]\ttraining's auc: 1\ttraining's l2: 32411.7\tvalid_1's auc: 1\tvalid_1's l2: 42008\n",
      "[944]\ttraining's auc: 1\ttraining's l2: 32394\tvalid_1's auc: 1\tvalid_1's l2: 41994.3\n",
      "[945]\ttraining's auc: 1\ttraining's l2: 32375.5\tvalid_1's auc: 1\tvalid_1's l2: 41980.5\n",
      "[946]\ttraining's auc: 1\ttraining's l2: 32365.3\tvalid_1's auc: 1\tvalid_1's l2: 41969.4\n",
      "[947]\ttraining's auc: 1\ttraining's l2: 32347.8\tvalid_1's auc: 1\tvalid_1's l2: 41955.7\n",
      "[948]\ttraining's auc: 1\ttraining's l2: 32335.8\tvalid_1's auc: 1\tvalid_1's l2: 41943.7\n",
      "[949]\ttraining's auc: 1\ttraining's l2: 32323\tvalid_1's auc: 1\tvalid_1's l2: 41941.1\n",
      "[950]\ttraining's auc: 1\ttraining's l2: 32304.5\tvalid_1's auc: 1\tvalid_1's l2: 41929.8\n",
      "[951]\ttraining's auc: 1\ttraining's l2: 32297.8\tvalid_1's auc: 1\tvalid_1's l2: 41920.5\n",
      "[952]\ttraining's auc: 1\ttraining's l2: 32291.2\tvalid_1's auc: 1\tvalid_1's l2: 41912\n",
      "[953]\ttraining's auc: 1\ttraining's l2: 32287.3\tvalid_1's auc: 1\tvalid_1's l2: 41908.5\n",
      "[954]\ttraining's auc: 1\ttraining's l2: 32282.4\tvalid_1's auc: 1\tvalid_1's l2: 41903.7\n",
      "[955]\ttraining's auc: 1\ttraining's l2: 32275.6\tvalid_1's auc: 1\tvalid_1's l2: 41895.9\n",
      "[956]\ttraining's auc: 1\ttraining's l2: 32270.1\tvalid_1's auc: 1\tvalid_1's l2: 41891.6\n",
      "[957]\ttraining's auc: 1\ttraining's l2: 32264.9\tvalid_1's auc: 1\tvalid_1's l2: 41884.8\n",
      "[958]\ttraining's auc: 1\ttraining's l2: 32258.6\tvalid_1's auc: 1\tvalid_1's l2: 41877.2\n",
      "[959]\ttraining's auc: 1\ttraining's l2: 32252.6\tvalid_1's auc: 1\tvalid_1's l2: 41870\n",
      "[960]\ttraining's auc: 1\ttraining's l2: 32248.5\tvalid_1's auc: 1\tvalid_1's l2: 41866.4\n",
      "[961]\ttraining's auc: 1\ttraining's l2: 32244.7\tvalid_1's auc: 1\tvalid_1's l2: 41860.9\n",
      "[962]\ttraining's auc: 1\ttraining's l2: 32237.5\tvalid_1's auc: 1\tvalid_1's l2: 41856\n",
      "[963]\ttraining's auc: 1\ttraining's l2: 32234.5\tvalid_1's auc: 1\tvalid_1's l2: 41853\n",
      "[964]\ttraining's auc: 1\ttraining's l2: 32230.6\tvalid_1's auc: 1\tvalid_1's l2: 41848.1\n",
      "[965]\ttraining's auc: 1\ttraining's l2: 32226\tvalid_1's auc: 1\tvalid_1's l2: 41844.1\n",
      "[966]\ttraining's auc: 1\ttraining's l2: 32220.4\tvalid_1's auc: 1\tvalid_1's l2: 41843.2\n",
      "[967]\ttraining's auc: 1\ttraining's l2: 32215.3\tvalid_1's auc: 1\tvalid_1's l2: 41839.3\n",
      "[968]\ttraining's auc: 1\ttraining's l2: 32208.3\tvalid_1's auc: 1\tvalid_1's l2: 41832.3\n",
      "[969]\ttraining's auc: 1\ttraining's l2: 32200.2\tvalid_1's auc: 1\tvalid_1's l2: 41831.1\n",
      "[970]\ttraining's auc: 1\ttraining's l2: 32196.3\tvalid_1's auc: 1\tvalid_1's l2: 41828\n",
      "[971]\ttraining's auc: 1\ttraining's l2: 32185.7\tvalid_1's auc: 1\tvalid_1's l2: 41822.8\n",
      "[972]\ttraining's auc: 1\ttraining's l2: 32177.3\tvalid_1's auc: 1\tvalid_1's l2: 41817.5\n",
      "[973]\ttraining's auc: 1\ttraining's l2: 32169.3\tvalid_1's auc: 1\tvalid_1's l2: 41812.9\n",
      "[974]\ttraining's auc: 1\ttraining's l2: 32151.9\tvalid_1's auc: 1\tvalid_1's l2: 41811.7\n",
      "[975]\ttraining's auc: 1\ttraining's l2: 32135.3\tvalid_1's auc: 1\tvalid_1's l2: 41810.6\n",
      "[976]\ttraining's auc: 1\ttraining's l2: 32126.6\tvalid_1's auc: 1\tvalid_1's l2: 41804.4\n",
      "[977]\ttraining's auc: 1\ttraining's l2: 32117.3\tvalid_1's auc: 1\tvalid_1's l2: 41799.3\n",
      "[978]\ttraining's auc: 1\ttraining's l2: 32098.9\tvalid_1's auc: 1\tvalid_1's l2: 41798.2\n",
      "[979]\ttraining's auc: 1\ttraining's l2: 32082.6\tvalid_1's auc: 1\tvalid_1's l2: 41797.1\n",
      "[980]\ttraining's auc: 1\ttraining's l2: 32071\tvalid_1's auc: 1\tvalid_1's l2: 41786.6\n",
      "[981]\ttraining's auc: 1\ttraining's l2: 32068.9\tvalid_1's auc: 1\tvalid_1's l2: 41784.6\n",
      "[982]\ttraining's auc: 1\ttraining's l2: 32065.1\tvalid_1's auc: 1\tvalid_1's l2: 41782.6\n",
      "[983]\ttraining's auc: 1\ttraining's l2: 32060\tvalid_1's auc: 1\tvalid_1's l2: 41779.3\n",
      "[984]\ttraining's auc: 1\ttraining's l2: 32054.9\tvalid_1's auc: 1\tvalid_1's l2: 41776.6\n",
      "[985]\ttraining's auc: 1\ttraining's l2: 32051.3\tvalid_1's auc: 1\tvalid_1's l2: 41774.3\n",
      "[986]\ttraining's auc: 1\ttraining's l2: 32045.7\tvalid_1's auc: 1\tvalid_1's l2: 41770.4\n",
      "[987]\ttraining's auc: 1\ttraining's l2: 32040.2\tvalid_1's auc: 1\tvalid_1's l2: 41762.6\n",
      "[988]\ttraining's auc: 1\ttraining's l2: 32035.1\tvalid_1's auc: 1\tvalid_1's l2: 41759.6\n",
      "[989]\ttraining's auc: 1\ttraining's l2: 32031.4\tvalid_1's auc: 1\tvalid_1's l2: 41755.7\n",
      "[990]\ttraining's auc: 1\ttraining's l2: 32026.1\tvalid_1's auc: 1\tvalid_1's l2: 41754.1\n",
      "[991]\ttraining's auc: 1\ttraining's l2: 32020.9\tvalid_1's auc: 1\tvalid_1's l2: 41748.9\n",
      "[992]\ttraining's auc: 1\ttraining's l2: 32014.2\tvalid_1's auc: 1\tvalid_1's l2: 41743.6\n",
      "[993]\ttraining's auc: 1\ttraining's l2: 32005.2\tvalid_1's auc: 1\tvalid_1's l2: 41734.6\n",
      "[994]\ttraining's auc: 1\ttraining's l2: 31996.1\tvalid_1's auc: 1\tvalid_1's l2: 41726.2\n",
      "[995]\ttraining's auc: 1\ttraining's l2: 31991.7\tvalid_1's auc: 1\tvalid_1's l2: 41728\n",
      "[996]\ttraining's auc: 1\ttraining's l2: 31983.1\tvalid_1's auc: 1\tvalid_1's l2: 41718.9\n",
      "[997]\ttraining's auc: 1\ttraining's l2: 31975.7\tvalid_1's auc: 1\tvalid_1's l2: 41712.4\n",
      "[998]\ttraining's auc: 1\ttraining's l2: 31971\tvalid_1's auc: 1\tvalid_1's l2: 41713.7\n",
      "[999]\ttraining's auc: 1\ttraining's l2: 31961.5\tvalid_1's auc: 1\tvalid_1's l2: 41704.2\n",
      "[1000]\ttraining's auc: 1\ttraining's l2: 31955.9\tvalid_1's auc: 1\tvalid_1's l2: 41698.4\n",
      "[1001]\ttraining's auc: 1\ttraining's l2: 31949.2\tvalid_1's auc: 1\tvalid_1's l2: 41692\n",
      "Early stopping, best iteration is:\n",
      "[1]\ttraining's auc: 1\ttraining's l2: 161916\tvalid_1's auc: 1\tvalid_1's l2: 132998\n",
      "RMSLE: 138.28108343058778\n"
     ]
    }
   ],
   "source": [
    "hyper_params = {\n",
    "    'task': 'train',\n",
    "    'boosting_type': 'gbdt',\n",
    "    'objective': 'regression',\n",
    "    'metric': ['l2', 'auc'],\n",
    "    'learning_rate': 0.005,\n",
    "    'feature_fraction': 0.9,\n",
    "    'bagging_fraction': 0.7,\n",
    "    'bagging_freq': 10,\n",
    "    'verbose': 0,\n",
    "    \"max_depth\": 8,\n",
    "    \"num_leaves\": 128,  \n",
    "    \"max_bin\": 512,\n",
    "    \"num_iterations\": 100000,\n",
    "    \"n_estimators\": 1000\n",
    "}\n",
    "\n",
    "gbm = lgb.LGBMRegressor(**hyper_params)\n",
    "gbm.fit(train_split_x,train_split_y,\n",
    "        eval_set=[(train_split_x,train_split_y), (test_split_x, test_split_y)],\n",
    "        early_stopping_rounds=1000)\n",
    "\n",
    "y_pred = gbm.predict(test_split_x)\n",
    "y_pred[y_pred<0] = 0 \n",
    "from sklearn import metrics \n",
    "print('RMSLE:', 100*np.sqrt(metrics.mean_squared_log_error(test_split_y, y_pred)))"
   ]
  },
  {
   "cell_type": "code",
   "execution_count": null,
   "metadata": {
    "id": "BtH8llkLWeLo"
   },
   "outputs": [],
   "source": []
  },
  {
   "cell_type": "code",
   "execution_count": null,
   "metadata": {
    "id": "__88g9CHWeOe"
   },
   "outputs": [],
   "source": []
  },
  {
   "cell_type": "code",
   "execution_count": null,
   "metadata": {
    "id": "GyUHsTHMnHWC"
   },
   "outputs": [],
   "source": [
    "test_preds = rf_model_on_full_data.predict(test_X)\n"
   ]
  },
  {
   "cell_type": "code",
   "execution_count": null,
   "metadata": {
    "id": "6-bSGgDLmf7g"
   },
   "outputs": [],
   "source": [
    "plt.rcParams.update({'figure.figsize': (17, 3), 'figure.dpi':300})\n",
    "fig, ax = plt.subplots()\n",
    "sns.lineplot(data=weekly_orders.tail(50), x='week', y='num_orders')\n",
    "sns.lineplot(data=test_df, x='week', y='predictions')\n",
    "plt.grid(linestyle='-', linewidth=0.3)\n",
    "ax.tick_params(axis='x', rotation=90)"
   ]
  }
 ],
 "metadata": {
  "colab": {
   "authorship_tag": "ABX9TyOgBeGY2Z9twx/tEWTEvuNd",
   "collapsed_sections": [
    "6zj3g04sXAMI",
    "iXTKNposotc7",
    "w19tLl5zoTyT",
    "90kIq1ksoQyk"
   ],
   "mount_file_id": "13HrAS3O6PZHXBl_lXu9aOHmgNRf8pBLY",
   "name": "TL_Hackathon.ipynb",
   "provenance": []
  },
  "kernelspec": {
   "display_name": "Python 3",
   "language": "python",
   "name": "python3"
  },
  "language_info": {
   "codemirror_mode": {
    "name": "ipython",
    "version": 3
   },
   "file_extension": ".py",
   "mimetype": "text/x-python",
   "name": "python",
   "nbconvert_exporter": "python",
   "pygments_lexer": "ipython3",
   "version": "3.8.5"
  }
 },
 "nbformat": 4,
 "nbformat_minor": 1
}
